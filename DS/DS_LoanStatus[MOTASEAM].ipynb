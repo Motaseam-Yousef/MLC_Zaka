{
  "nbformat": 4,
  "nbformat_minor": 0,
  "metadata": {
    "kernelspec": {
      "display_name": "Python 3",
      "language": "python",
      "name": "python3"
    },
    "language_info": {
      "codemirror_mode": {
        "name": "ipython",
        "version": 3
      },
      "file_extension": ".py",
      "mimetype": "text/x-python",
      "name": "python",
      "nbconvert_exporter": "python",
      "pygments_lexer": "ipython3",
      "version": "3.7.0"
    },
    "colab": {
      "name": "DS_LoanStatus[Blanks].ipynb",
      "provenance": [],
      "collapsed_sections": []
    }
  },
  "cells": [
    {
      "cell_type": "markdown",
      "metadata": {
        "id": "elgDcjlyK-lQ"
      },
      "source": [
        "#Data Science Lifecycle\n",
        "© 2021, Zaka AI, Inc. All Rights Reserved.\n",
        "\n",
        "---\n",
        "##Case Study: Loan Status\n",
        "**Objective:**\n",
        "In this exercise, we will explore a dataset of Loan data with the below info. We will try later to predict the status of loan for individuals based the following information.</font>\n",
        "\n",
        "## DataSet Description\n",
        "\n",
        "- **Loan_ID:** data set unique ID <br>\n",
        "- **Gender:** individual gender<br>\n",
        "- **Married:** individual marital status<br>\n",
        "- **Dependents:** number of dependents<br>\n",
        "- **Education:** individual education status<br>\n",
        "- **Self_Employed:** individual employment status<br>\n",
        "- **ApplicantIncome:** individual income<br>\n",
        "- **CoapplicantIncome:** individual Coapplicant income<br>\n",
        "- **LoanAmount:** Loan amount in thousands<br>\n",
        "- **Loan_Amount_Term:** term of loan in months<br>\n",
        "- **Credit_History:** credit history meets guidelines<br>\n",
        "- **Property_Area:** Urban/ Semi Urban/ Rural<br>\n",
        "- **Loan_Status:** loan approved (Y/N)<br>"
      ]
    },
    {
      "cell_type": "markdown",
      "metadata": {
        "id": "KIFhQSUBK-lS"
      },
      "source": [
        "# 1. Import necessary python modules (libraries)\n",
        "<br>\n",
        "We will need the following libraries:\n",
        "\n",
        "- Numpy — for scientific computing (e.g., linear algebra (vectors & matrices)).\n",
        "- Pandas — providing high-performance, easy-to-use data reading, manipulation, and analysis.\n",
        "- Matplotlib & seaborn — plotting & visualization.\n",
        "- scikit-learn — a tool for data mining and machine learning models. We will need from it the following functions: LabelEncoder, train_test_split, LogisticRegression, and accuracy_score"
      ]
    },
    {
      "cell_type": "code",
      "metadata": {
        "id": "xZwyPrVkK-lT"
      },
      "source": [
        "#Test Your Zaka\n",
        "import numpy as np\n",
        "import pandas as pd\n",
        "import matplotlib.pyplot as plt\n",
        "from sklearn.preprocessing import LabelEncoder\n",
        "# the Previoues line from the https://scikit-learn.org/stable/modules/generated/sklearn.preprocessing.LabelEncoder.html#sklearn.preprocessing.LabelEncoder\n",
        "from sklearn.model_selection import train_test_split\n",
        "from sklearn.linear_model import LogisticRegression"
      ],
      "execution_count": 449,
      "outputs": []
    },
    {
      "cell_type": "markdown",
      "metadata": {
        "id": "4xjXdDyTK-lW"
      },
      "source": [
        "# 2. Read & visualize data\n",
        "To load the data to our code, we use pandas module, more specifically, the read_csv function."
      ]
    },
    {
      "cell_type": "markdown",
      "metadata": {
        "id": "x4KVJodDK-lX"
      },
      "source": [
        "Combine the two dataset in order to apply the same preprocessing steps in both dataframes\n",
        "Don't forget to print the head of your dataset to get a better insight into it."
      ]
    },
    {
      "cell_type": "code",
      "metadata": {
        "id": "eaN-1eM5K-lX"
      },
      "source": [
        "#Test Your Zaka\n",
        "#I uploaded the data to Colab (not mount in drive or using cloan)\n",
        "\n",
        "df=pd.read_csv(\"/content/train.csv\")"
      ],
      "execution_count": 450,
      "outputs": []
    },
    {
      "cell_type": "markdown",
      "metadata": {
        "id": "WKcAeoOVK-ld"
      },
      "source": [
        "# 3. Exploratory Data Analysis\n"
      ]
    },
    {
      "cell_type": "markdown",
      "metadata": {
        "id": "HdPXa1qesHAT"
      },
      "source": [
        "Start by getting the number of rows and the number of columns that you have in your dataset"
      ]
    },
    {
      "cell_type": "code",
      "metadata": {
        "id": "-DmXe7W2K-ld",
        "colab": {
          "base_uri": "https://localhost:8080/"
        },
        "outputId": "a1f5d081-322e-4b0a-9ef3-488ee20c7643"
      },
      "source": [
        "#Test Your Zaka\n",
        "print(\"The number of the samples in the data : \",df.shape[0])\n",
        "print(\"The number of the Featuers in the data : \",df.shape[1])"
      ],
      "execution_count": 451,
      "outputs": [
        {
          "output_type": "stream",
          "name": "stdout",
          "text": [
            "The number of the samples in the data :  513\n",
            "The number of the Featuers in the data :  13\n"
          ]
        }
      ]
    },
    {
      "cell_type": "markdown",
      "metadata": {
        "id": "RVH8LAjLK-lg"
      },
      "source": [
        "##### Use the function info(), to check:\n",
        "\n",
        "- data types (int, float, or object (e.g., string))\n",
        "- missing values\n",
        "- memory usage\n",
        "- number of rows and columns"
      ]
    },
    {
      "cell_type": "code",
      "metadata": {
        "id": "kesvYr2pK-lg",
        "colab": {
          "base_uri": "https://localhost:8080/"
        },
        "outputId": "6962bc04-6321-4ce2-d1dd-3653865cb64a"
      },
      "source": [
        "#Test Your Zaka\n",
        "df.info()"
      ],
      "execution_count": 452,
      "outputs": [
        {
          "output_type": "stream",
          "name": "stdout",
          "text": [
            "<class 'pandas.core.frame.DataFrame'>\n",
            "RangeIndex: 513 entries, 0 to 512\n",
            "Data columns (total 13 columns):\n",
            " #   Column             Non-Null Count  Dtype  \n",
            "---  ------             --------------  -----  \n",
            " 0   Loan_ID            513 non-null    object \n",
            " 1   Gender             503 non-null    object \n",
            " 2   Married            510 non-null    object \n",
            " 3   Dependents         501 non-null    object \n",
            " 4   Education          513 non-null    object \n",
            " 5   Self_Employed      486 non-null    object \n",
            " 6   ApplicantIncome    513 non-null    int64  \n",
            " 7   CoapplicantIncome  513 non-null    float64\n",
            " 8   LoanAmount         495 non-null    float64\n",
            " 9   Loan_Amount_Term   499 non-null    float64\n",
            " 10  Credit_History     470 non-null    float64\n",
            " 11  Property_Area      513 non-null    object \n",
            " 12  Loan_Status        513 non-null    object \n",
            "dtypes: float64(4), int64(1), object(8)\n",
            "memory usage: 52.2+ KB\n"
          ]
        }
      ]
    },
    {
      "cell_type": "markdown",
      "metadata": {
        "id": "eZ15pJj2K-lj"
      },
      "source": [
        "Where did you find some missing values?     "
      ]
    },
    {
      "cell_type": "code",
      "source": [
        "df.columns"
      ],
      "metadata": {
        "colab": {
          "base_uri": "https://localhost:8080/"
        },
        "id": "iV13d-23KdAw",
        "outputId": "f26091e4-981d-48d6-a271-1ade83830d7c"
      },
      "execution_count": 453,
      "outputs": [
        {
          "output_type": "execute_result",
          "data": {
            "text/plain": [
              "Index(['Loan_ID', 'Gender', 'Married', 'Dependents', 'Education',\n",
              "       'Self_Employed', 'ApplicantIncome', 'CoapplicantIncome', 'LoanAmount',\n",
              "       'Loan_Amount_Term', 'Credit_History', 'Property_Area', 'Loan_Status'],\n",
              "      dtype='object')"
            ]
          },
          "metadata": {},
          "execution_count": 453
        }
      ]
    },
    {
      "cell_type": "markdown",
      "metadata": {
        "id": "bZOtGLcNHBUo"
      },
      "source": [
        "**We have 513 samples, the miising data in: Gender miss 10, Married miss 3, Dependents miss 12, Self_Employed miss 27, LoanAmount miss 18, Loan_Amount_Term miss 14, Credit_History miss 43**\n",
        "\n"
      ]
    },
    {
      "cell_type": "markdown",
      "metadata": {
        "id": "W4ebzltrK-lj"
      },
      "source": [
        "##### Use the function describe(), to check the following  values for each numerical feature (column)\n",
        "- mean\n",
        "- standard deviation \n",
        "- maximum\n",
        "- minimum \n"
      ]
    },
    {
      "cell_type": "code",
      "metadata": {
        "id": "ECiIV49DK-lk",
        "colab": {
          "base_uri": "https://localhost:8080/",
          "height": 175
        },
        "outputId": "00f06316-1190-46b3-9200-a62de085a806"
      },
      "source": [
        "#Test Your Zaka\n",
        "df.agg(['mean','std','max','min']) "
      ],
      "execution_count": 454,
      "outputs": [
        {
          "output_type": "execute_result",
          "data": {
            "text/html": [
              "\n",
              "  <div id=\"df-3829f835-162a-4346-b8bc-dc171bb072cf\">\n",
              "    <div class=\"colab-df-container\">\n",
              "      <div>\n",
              "<style scoped>\n",
              "    .dataframe tbody tr th:only-of-type {\n",
              "        vertical-align: middle;\n",
              "    }\n",
              "\n",
              "    .dataframe tbody tr th {\n",
              "        vertical-align: top;\n",
              "    }\n",
              "\n",
              "    .dataframe thead th {\n",
              "        text-align: right;\n",
              "    }\n",
              "</style>\n",
              "<table border=\"1\" class=\"dataframe\">\n",
              "  <thead>\n",
              "    <tr style=\"text-align: right;\">\n",
              "      <th></th>\n",
              "      <th>Loan_ID</th>\n",
              "      <th>Education</th>\n",
              "      <th>ApplicantIncome</th>\n",
              "      <th>CoapplicantIncome</th>\n",
              "      <th>LoanAmount</th>\n",
              "      <th>Loan_Amount_Term</th>\n",
              "      <th>Credit_History</th>\n",
              "      <th>Property_Area</th>\n",
              "      <th>Loan_Status</th>\n",
              "    </tr>\n",
              "  </thead>\n",
              "  <tbody>\n",
              "    <tr>\n",
              "      <th>mean</th>\n",
              "      <td>NaN</td>\n",
              "      <td>NaN</td>\n",
              "      <td>5497.013645</td>\n",
              "      <td>1537.364366</td>\n",
              "      <td>144.739394</td>\n",
              "      <td>343.118236</td>\n",
              "      <td>0.846809</td>\n",
              "      <td>NaN</td>\n",
              "      <td>NaN</td>\n",
              "    </tr>\n",
              "    <tr>\n",
              "      <th>std</th>\n",
              "      <td>NaN</td>\n",
              "      <td>NaN</td>\n",
              "      <td>6486.147388</td>\n",
              "      <td>2144.079038</td>\n",
              "      <td>83.200278</td>\n",
              "      <td>63.375911</td>\n",
              "      <td>0.360556</td>\n",
              "      <td>NaN</td>\n",
              "      <td>NaN</td>\n",
              "    </tr>\n",
              "    <tr>\n",
              "      <th>max</th>\n",
              "      <td>LP002643</td>\n",
              "      <td>Not Graduate</td>\n",
              "      <td>81000.000000</td>\n",
              "      <td>20000.000000</td>\n",
              "      <td>700.000000</td>\n",
              "      <td>480.000000</td>\n",
              "      <td>1.000000</td>\n",
              "      <td>Urban</td>\n",
              "      <td>Y</td>\n",
              "    </tr>\n",
              "    <tr>\n",
              "      <th>min</th>\n",
              "      <td>LP001002</td>\n",
              "      <td>Graduate</td>\n",
              "      <td>150.000000</td>\n",
              "      <td>0.000000</td>\n",
              "      <td>17.000000</td>\n",
              "      <td>12.000000</td>\n",
              "      <td>0.000000</td>\n",
              "      <td>Rural</td>\n",
              "      <td>N</td>\n",
              "    </tr>\n",
              "  </tbody>\n",
              "</table>\n",
              "</div>\n",
              "      <button class=\"colab-df-convert\" onclick=\"convertToInteractive('df-3829f835-162a-4346-b8bc-dc171bb072cf')\"\n",
              "              title=\"Convert this dataframe to an interactive table.\"\n",
              "              style=\"display:none;\">\n",
              "        \n",
              "  <svg xmlns=\"http://www.w3.org/2000/svg\" height=\"24px\"viewBox=\"0 0 24 24\"\n",
              "       width=\"24px\">\n",
              "    <path d=\"M0 0h24v24H0V0z\" fill=\"none\"/>\n",
              "    <path d=\"M18.56 5.44l.94 2.06.94-2.06 2.06-.94-2.06-.94-.94-2.06-.94 2.06-2.06.94zm-11 1L8.5 8.5l.94-2.06 2.06-.94-2.06-.94L8.5 2.5l-.94 2.06-2.06.94zm10 10l.94 2.06.94-2.06 2.06-.94-2.06-.94-.94-2.06-.94 2.06-2.06.94z\"/><path d=\"M17.41 7.96l-1.37-1.37c-.4-.4-.92-.59-1.43-.59-.52 0-1.04.2-1.43.59L10.3 9.45l-7.72 7.72c-.78.78-.78 2.05 0 2.83L4 21.41c.39.39.9.59 1.41.59.51 0 1.02-.2 1.41-.59l7.78-7.78 2.81-2.81c.8-.78.8-2.07 0-2.86zM5.41 20L4 18.59l7.72-7.72 1.47 1.35L5.41 20z\"/>\n",
              "  </svg>\n",
              "      </button>\n",
              "      \n",
              "  <style>\n",
              "    .colab-df-container {\n",
              "      display:flex;\n",
              "      flex-wrap:wrap;\n",
              "      gap: 12px;\n",
              "    }\n",
              "\n",
              "    .colab-df-convert {\n",
              "      background-color: #E8F0FE;\n",
              "      border: none;\n",
              "      border-radius: 50%;\n",
              "      cursor: pointer;\n",
              "      display: none;\n",
              "      fill: #1967D2;\n",
              "      height: 32px;\n",
              "      padding: 0 0 0 0;\n",
              "      width: 32px;\n",
              "    }\n",
              "\n",
              "    .colab-df-convert:hover {\n",
              "      background-color: #E2EBFA;\n",
              "      box-shadow: 0px 1px 2px rgba(60, 64, 67, 0.3), 0px 1px 3px 1px rgba(60, 64, 67, 0.15);\n",
              "      fill: #174EA6;\n",
              "    }\n",
              "\n",
              "    [theme=dark] .colab-df-convert {\n",
              "      background-color: #3B4455;\n",
              "      fill: #D2E3FC;\n",
              "    }\n",
              "\n",
              "    [theme=dark] .colab-df-convert:hover {\n",
              "      background-color: #434B5C;\n",
              "      box-shadow: 0px 1px 3px 1px rgba(0, 0, 0, 0.15);\n",
              "      filter: drop-shadow(0px 1px 2px rgba(0, 0, 0, 0.3));\n",
              "      fill: #FFFFFF;\n",
              "    }\n",
              "  </style>\n",
              "\n",
              "      <script>\n",
              "        const buttonEl =\n",
              "          document.querySelector('#df-3829f835-162a-4346-b8bc-dc171bb072cf button.colab-df-convert');\n",
              "        buttonEl.style.display =\n",
              "          google.colab.kernel.accessAllowed ? 'block' : 'none';\n",
              "\n",
              "        async function convertToInteractive(key) {\n",
              "          const element = document.querySelector('#df-3829f835-162a-4346-b8bc-dc171bb072cf');\n",
              "          const dataTable =\n",
              "            await google.colab.kernel.invokeFunction('convertToInteractive',\n",
              "                                                     [key], {});\n",
              "          if (!dataTable) return;\n",
              "\n",
              "          const docLinkHtml = 'Like what you see? Visit the ' +\n",
              "            '<a target=\"_blank\" href=https://colab.research.google.com/notebooks/data_table.ipynb>data table notebook</a>'\n",
              "            + ' to learn more about interactive tables.';\n",
              "          element.innerHTML = '';\n",
              "          dataTable['output_type'] = 'display_data';\n",
              "          await google.colab.output.renderOutput(dataTable, element);\n",
              "          const docLink = document.createElement('div');\n",
              "          docLink.innerHTML = docLinkHtml;\n",
              "          element.appendChild(docLink);\n",
              "        }\n",
              "      </script>\n",
              "    </div>\n",
              "  </div>\n",
              "  "
            ],
            "text/plain": [
              "       Loan_ID     Education  ...  Property_Area  Loan_Status\n",
              "mean       NaN           NaN  ...            NaN          NaN\n",
              "std        NaN           NaN  ...            NaN          NaN\n",
              "max   LP002643  Not Graduate  ...          Urban            Y\n",
              "min   LP001002      Graduate  ...          Rural            N\n",
              "\n",
              "[4 rows x 9 columns]"
            ]
          },
          "metadata": {},
          "execution_count": 454
        }
      ]
    },
    {
      "cell_type": "markdown",
      "metadata": {
        "id": "QsmkavZQK-ln"
      },
      "source": [
        "Print the unique values of the variable Credit_History"
      ]
    },
    {
      "cell_type": "code",
      "metadata": {
        "id": "uYPOBUMYK-ln",
        "colab": {
          "base_uri": "https://localhost:8080/"
        },
        "outputId": "65b0ad1d-de3f-444c-811f-5f3e619d7394"
      },
      "source": [
        "#Test Your Zaka\n",
        "print(df['Credit_History'].value_counts())"
      ],
      "execution_count": 455,
      "outputs": [
        {
          "output_type": "stream",
          "name": "stdout",
          "text": [
            "1.0    398\n",
            "0.0     72\n",
            "Name: Credit_History, dtype: int64\n"
          ]
        }
      ]
    },
    {
      "cell_type": "markdown",
      "metadata": {
        "id": "bOBFeq9EK-lq"
      },
      "source": [
        "Do the same with the variable Loan_Amount_Term"
      ]
    },
    {
      "cell_type": "code",
      "metadata": {
        "id": "mdUjK1DPK-lq",
        "colab": {
          "base_uri": "https://localhost:8080/"
        },
        "outputId": "523d1cb3-d10b-4874-ccc8-544a4c63113c"
      },
      "source": [
        "#Test Your Zaka\n",
        "print(df['Loan_Amount_Term'].value_counts())"
      ],
      "execution_count": 456,
      "outputs": [
        {
          "output_type": "stream",
          "name": "stdout",
          "text": [
            "360.0    426\n",
            "180.0     35\n",
            "300.0     13\n",
            "480.0     13\n",
            "120.0      3\n",
            "240.0      3\n",
            "60.0       2\n",
            "84.0       2\n",
            "36.0       1\n",
            "12.0       1\n",
            "Name: Loan_Amount_Term, dtype: int64\n"
          ]
        }
      ]
    },
    {
      "cell_type": "markdown",
      "metadata": {
        "id": "-o9MT0LcK-ls"
      },
      "source": [
        "##### Use the function describe(include='o'), to check the following  values for each categorical feature:\n",
        "* count\n",
        "* unique\n",
        "* top\n",
        "* freq\n"
      ]
    },
    {
      "cell_type": "code",
      "metadata": {
        "id": "jrSrdNS1K-lt",
        "colab": {
          "base_uri": "https://localhost:8080/"
        },
        "outputId": "a35fa8c0-7036-4d1a-80ff-7286959f21e3"
      },
      "source": [
        "#Test Your Zaka\n",
        "#the object 'Featuers Loan_ID', 'Gender', 'Married', 'Dependents', 'Education', 'Self_Employed' , 'Property_Area'\n",
        "print(\"Loan_ID count, unique, top, frequancy :\\n\",df['Loan_ID'].describe(include='o'))\n",
        "print()\n",
        "print(\"Gender count, unique, top, frequancy :\\n\",df['Gender'].describe(include='o'))\n",
        "print()\n",
        "print(\"Married count, unique, top, frequancy :\\n\",df['Married'].describe(include='o'))\n",
        "print()\n",
        "print(\"Dependents count, unique, top, frequancy :\\n\",df['Dependents'].describe(include='o'))\n",
        "print()\n",
        "print(\"Education count, unique, top, frequancy :\\n\",df['Education'].describe(include='o'))\n",
        "print()\n",
        "print(\"Self_Employed count, unique, top, frequancy :\\n\",df['Self_Employed'].describe(include='o'))\n",
        "print()\n",
        "print(\"Property_Area count, unique, top, frequancy :\\n\",df['Property_Area'].describe(include='o'))"
      ],
      "execution_count": 457,
      "outputs": [
        {
          "output_type": "stream",
          "name": "stdout",
          "text": [
            "Loan_ID count, unique, top, frequancy :\n",
            " count          513\n",
            "unique         513\n",
            "top       LP001002\n",
            "freq             1\n",
            "Name: Loan_ID, dtype: object\n",
            "\n",
            "Gender count, unique, top, frequancy :\n",
            " count      503\n",
            "unique       2\n",
            "top       Male\n",
            "freq       409\n",
            "Name: Gender, dtype: object\n",
            "\n",
            "Married count, unique, top, frequancy :\n",
            " count     510\n",
            "unique      2\n",
            "top       Yes\n",
            "freq      330\n",
            "Name: Married, dtype: object\n",
            "\n",
            "Dependents count, unique, top, frequancy :\n",
            " count     501\n",
            "unique      4\n",
            "top         0\n",
            "freq      295\n",
            "Name: Dependents, dtype: object\n",
            "\n",
            "Education count, unique, top, frequancy :\n",
            " count          513\n",
            "unique           2\n",
            "top       Graduate\n",
            "freq           403\n",
            "Name: Education, dtype: object\n",
            "\n",
            "Self_Employed count, unique, top, frequancy :\n",
            " count     486\n",
            "unique      2\n",
            "top        No\n",
            "freq      419\n",
            "Name: Self_Employed, dtype: object\n",
            "\n",
            "Property_Area count, unique, top, frequancy :\n",
            " count           513\n",
            "unique            3\n",
            "top       Semiurban\n",
            "freq            192\n",
            "Name: Property_Area, dtype: object\n"
          ]
        }
      ]
    },
    {
      "cell_type": "markdown",
      "metadata": {
        "id": "YiTCWqkGu0vZ"
      },
      "source": [
        "Interpret the results you obtained for the variable Gender"
      ]
    },
    {
      "cell_type": "markdown",
      "metadata": {
        "id": "WYpDPsZeHQZe"
      },
      "source": [
        "**for the Gender: alot of pepole who want the loans are Males,: count      503 , \n",
        "unique       2 ,\n",
        "top       Male ,\n",
        "freq       409**"
      ]
    },
    {
      "cell_type": "markdown",
      "metadata": {
        "id": "qabfYYPoK-ly"
      },
      "source": [
        "Compute the frequency for each unique value in the categorical feature specified in the code cells below"
      ]
    },
    {
      "cell_type": "code",
      "metadata": {
        "id": "V9Fe95bPK-ly",
        "colab": {
          "base_uri": "https://localhost:8080/"
        },
        "outputId": "14b191d2-4f98-446e-b9ff-4191d63ed825"
      },
      "source": [
        "#Test Your Zaka\n",
        "#Property_Area\n",
        "df['Property_Area'].value_counts()"
      ],
      "execution_count": 458,
      "outputs": [
        {
          "output_type": "execute_result",
          "data": {
            "text/plain": [
              "Semiurban    192\n",
              "Urban        176\n",
              "Rural        145\n",
              "Name: Property_Area, dtype: int64"
            ]
          },
          "metadata": {},
          "execution_count": 458
        }
      ]
    },
    {
      "cell_type": "code",
      "metadata": {
        "id": "lysRWAMyK-l1",
        "colab": {
          "base_uri": "https://localhost:8080/"
        },
        "outputId": "38492350-e3e5-4b48-f20d-163b557a7563"
      },
      "source": [
        "#Test Your Zaka\n",
        "#Dependents\n",
        "df['Dependents'].value_counts()"
      ],
      "execution_count": 459,
      "outputs": [
        {
          "output_type": "execute_result",
          "data": {
            "text/plain": [
              "0     295\n",
              "1      84\n",
              "2      82\n",
              "3+     40\n",
              "Name: Dependents, dtype: int64"
            ]
          },
          "metadata": {},
          "execution_count": 459
        }
      ]
    },
    {
      "cell_type": "markdown",
      "metadata": {
        "id": "f1agjKAXK-l4"
      },
      "source": [
        "Create a new dataframe removeNA_df, where you remove the nulls existing in the original dataframe. This is only for being able to visualize distributions. In a later step, we will be focusing on cleaning our original dataset in a better way "
      ]
    },
    {
      "cell_type": "code",
      "metadata": {
        "id": "BvkUss-UwX4z",
        "colab": {
          "base_uri": "https://localhost:8080/"
        },
        "outputId": "1a1f82af-7ad9-44b5-bc92-b6c763466ff4"
      },
      "source": [
        "#Test Your Zaka\n",
        "removeNA_df = df.copy()\n",
        "removeNA_df.dropna(inplace=True)\n",
        "removeNA_df.info() #to check the Nulls "
      ],
      "execution_count": 460,
      "outputs": [
        {
          "output_type": "stream",
          "name": "stdout",
          "text": [
            "<class 'pandas.core.frame.DataFrame'>\n",
            "Int64Index: 400 entries, 1 to 512\n",
            "Data columns (total 13 columns):\n",
            " #   Column             Non-Null Count  Dtype  \n",
            "---  ------             --------------  -----  \n",
            " 0   Loan_ID            400 non-null    object \n",
            " 1   Gender             400 non-null    object \n",
            " 2   Married            400 non-null    object \n",
            " 3   Dependents         400 non-null    object \n",
            " 4   Education          400 non-null    object \n",
            " 5   Self_Employed      400 non-null    object \n",
            " 6   ApplicantIncome    400 non-null    int64  \n",
            " 7   CoapplicantIncome  400 non-null    float64\n",
            " 8   LoanAmount         400 non-null    float64\n",
            " 9   Loan_Amount_Term   400 non-null    float64\n",
            " 10  Credit_History     400 non-null    float64\n",
            " 11  Property_Area      400 non-null    object \n",
            " 12  Loan_Status        400 non-null    object \n",
            "dtypes: float64(4), int64(1), object(8)\n",
            "memory usage: 43.8+ KB\n"
          ]
        }
      ]
    },
    {
      "cell_type": "markdown",
      "metadata": {
        "id": "TX-sjaDBwZhp"
      },
      "source": [
        "Plot the distribution and the boxplot for the variable 'LoanAmount'"
      ]
    },
    {
      "cell_type": "code",
      "metadata": {
        "id": "3GLVciuCK-l4",
        "colab": {
          "base_uri": "https://localhost:8080/",
          "height": 404
        },
        "outputId": "14ee911d-42ce-4775-a1d3-8aeef1a5ecf7"
      },
      "source": [
        "#Test Your Zaka\n",
        "plt.boxplot(removeNA_df['LoanAmount'])"
      ],
      "execution_count": 461,
      "outputs": [
        {
          "output_type": "execute_result",
          "data": {
            "text/plain": [
              "{'boxes': [<matplotlib.lines.Line2D at 0x7fdd40c98bd0>],\n",
              " 'caps': [<matplotlib.lines.Line2D at 0x7fdd40c9dc50>,\n",
              "  <matplotlib.lines.Line2D at 0x7fdd40c241d0>],\n",
              " 'fliers': [<matplotlib.lines.Line2D at 0x7fdd40c24c90>],\n",
              " 'means': [],\n",
              " 'medians': [<matplotlib.lines.Line2D at 0x7fdd40c24750>],\n",
              " 'whiskers': [<matplotlib.lines.Line2D at 0x7fdd40c9d1d0>,\n",
              "  <matplotlib.lines.Line2D at 0x7fdd40c9d710>]}"
            ]
          },
          "metadata": {},
          "execution_count": 461
        },
        {
          "output_type": "display_data",
          "data": {
            "image/png": "[encoded data removed]",
            "text/plain": [
              "<Figure size 432x288 with 1 Axes>"
            ]
          },
          "metadata": {
            "needs_background": "light"
          }
        }
      ]
    },
    {
      "cell_type": "code",
      "source": [
        "plt.hist(removeNA_df['LoanAmount'])"
      ],
      "metadata": {
        "colab": {
          "base_uri": "https://localhost:8080/",
          "height": 334
        },
        "id": "oO6nHWdKRvOA",
        "outputId": "dc3822fc-401d-4356-a663-47348fe6fe33"
      },
      "execution_count": 462,
      "outputs": [
        {
          "output_type": "execute_result",
          "data": {
            "text/plain": [
              "(array([ 47., 179., 114.,  31.,  16.,   5.,   2.,   2.,   2.,   2.]),\n",
              " array([ 17. ,  75.3, 133.6, 191.9, 250.2, 308.5, 366.8, 425.1, 483.4,\n",
              "        541.7, 600. ]),\n",
              " <a list of 10 Patch objects>)"
            ]
          },
          "metadata": {},
          "execution_count": 462
        },
        {
          "output_type": "display_data",
          "data": {
            "image/png": "[encoded data removed]",
            "text/plain": [
              "<Figure size 432x288 with 1 Axes>"
            ]
          },
          "metadata": {
            "needs_background": "light"
          }
        }
      ]
    },
    {
      "cell_type": "markdown",
      "metadata": {
        "id": "WlfUMFZ4wpIJ"
      },
      "source": [
        "* Is there any outlier?\n",
        "* Is the data skewed?"
      ]
    },
    {
      "cell_type": "markdown",
      "metadata": {
        "id": "rU8p0AHkHW0J"
      },
      "source": [
        "**Yes, there is a outliers, the data have +ve skewed**"
      ]
    },
    {
      "cell_type": "markdown",
      "metadata": {
        "id": "-2F32oVYxAnC"
      },
      "source": [
        "Do the same for the variable 'ApplicantIncome'"
      ]
    },
    {
      "cell_type": "code",
      "metadata": {
        "id": "KeyynE7mK-l7",
        "colab": {
          "base_uri": "https://localhost:8080/",
          "height": 404
        },
        "outputId": "14e4251a-6369-4da6-d57f-82d18ea4b9bd"
      },
      "source": [
        "#Test Your Zaka\n",
        "plt.boxplot(removeNA_df['ApplicantIncome'])"
      ],
      "execution_count": 463,
      "outputs": [
        {
          "output_type": "execute_result",
          "data": {
            "text/plain": [
              "{'boxes': [<matplotlib.lines.Line2D at 0x7fdd40b823d0>],\n",
              " 'caps': [<matplotlib.lines.Line2D at 0x7fdd40b89450>,\n",
              "  <matplotlib.lines.Line2D at 0x7fdd40b89990>],\n",
              " 'fliers': [<matplotlib.lines.Line2D at 0x7fdd40b92490>],\n",
              " 'means': [],\n",
              " 'medians': [<matplotlib.lines.Line2D at 0x7fdd40b89f10>],\n",
              " 'whiskers': [<matplotlib.lines.Line2D at 0x7fdd40b82990>,\n",
              "  <matplotlib.lines.Line2D at 0x7fdd40b82ed0>]}"
            ]
          },
          "metadata": {},
          "execution_count": 463
        },
        {
          "output_type": "display_data",
          "data": {
            "image/png": "[encoded data removed]",
            "text/plain": [
              "<Figure size 432x288 with 1 Axes>"
            ]
          },
          "metadata": {
            "needs_background": "light"
          }
        }
      ]
    },
    {
      "cell_type": "code",
      "source": [
        "plt.hist(removeNA_df['ApplicantIncome'])"
      ],
      "metadata": {
        "colab": {
          "base_uri": "https://localhost:8080/",
          "height": 334
        },
        "id": "-2gtNKTJSWXw",
        "outputId": "f0d91a45-8863-4078-c79d-26cbf0b6331a"
      },
      "execution_count": 464,
      "outputs": [
        {
          "output_type": "execute_result",
          "data": {
            "text/plain": [
              "(array([341.,  48.,   6.,   0.,   4.,   0.,   0.,   0.,   0.,   1.]),\n",
              " array([  150.,  8235., 16320., 24405., 32490., 40575., 48660., 56745.,\n",
              "        64830., 72915., 81000.]),\n",
              " <a list of 10 Patch objects>)"
            ]
          },
          "metadata": {},
          "execution_count": 464
        },
        {
          "output_type": "display_data",
          "data": {
            "image/png": "[encoded data removed]",
            "text/plain": [
              "<Figure size 432x288 with 1 Axes>"
            ]
          },
          "metadata": {
            "needs_background": "light"
          }
        }
      ]
    },
    {
      "cell_type": "markdown",
      "metadata": {
        "id": "EHwSidYrK-l9"
      },
      "source": [
        "* Is there any outlier?\n",
        "* Is the data skewed?"
      ]
    },
    {
      "cell_type": "markdown",
      "metadata": {
        "id": "XPmDPvdHHZQv"
      },
      "source": [
        "**Yes, there is a outliers, the data have +ve skewed**"
      ]
    },
    {
      "cell_type": "markdown",
      "metadata": {
        "id": "wvNkM1lwxVuw"
      },
      "source": [
        "Do the same for 'CoapplicantIncome'"
      ]
    },
    {
      "cell_type": "code",
      "metadata": {
        "id": "V1hX-EtOK-l-",
        "colab": {
          "base_uri": "https://localhost:8080/",
          "height": 513
        },
        "outputId": "50adcb18-d303-49ef-abd7-98a2294fffa6"
      },
      "source": [
        "#Test Your Zaka\n",
        "plt.boxplot(removeNA_df['CoapplicantIncome'])\n",
        "plt.show()\n",
        "plt.hist(removeNA_df['CoapplicantIncome'])\n",
        "plt.show()"
      ],
      "execution_count": 465,
      "outputs": [
        {
          "output_type": "display_data",
          "data": {
            "image/png": "[encoded data removed]",
            "text/plain": [
              "<Figure size 432x288 with 1 Axes>"
            ]
          },
          "metadata": {
            "needs_background": "light"
          }
        },
        {
          "output_type": "display_data",
          "data": {
            "image/png": "[encoded data removed]",
            "text/plain": [
              "<Figure size 432x288 with 1 Axes>"
            ]
          },
          "metadata": {
            "needs_background": "light"
          }
        }
      ]
    },
    {
      "cell_type": "markdown",
      "metadata": {
        "id": "d6J7td56Hbde"
      },
      "source": [
        "**Yes, there is a outliers, the data symetrical skewed**"
      ]
    },
    {
      "cell_type": "markdown",
      "metadata": {
        "id": "w-CLkejNxknD"
      },
      "source": [
        "Do the same for 'Loan_Amount_Term'"
      ]
    },
    {
      "cell_type": "code",
      "metadata": {
        "id": "ryBLLpCQK-mA",
        "colab": {
          "base_uri": "https://localhost:8080/",
          "height": 516
        },
        "outputId": "f1fffecc-2349-4c4f-a520-6e500f928a6a"
      },
      "source": [
        "#Test Your Zaka\n",
        "plt.boxplot(removeNA_df['Loan_Amount_Term'])\n",
        "plt.show()\n",
        "plt.hist(removeNA_df['Loan_Amount_Term'])\n",
        "plt.show()"
      ],
      "execution_count": 466,
      "outputs": [
        {
          "output_type": "display_data",
          "data": {
            "image/png": "[encoded data removed]",
            "text/plain": [
              "<Figure size 432x288 with 1 Axes>"
            ]
          },
          "metadata": {
            "needs_background": "light"
          }
        },
        {
          "output_type": "display_data",
          "data": {
            "image/png": "[encoded data removed]",
            "text/plain": [
              "<Figure size 432x288 with 1 Axes>"
            ]
          },
          "metadata": {
            "needs_background": "light"
          }
        }
      ]
    },
    {
      "cell_type": "markdown",
      "metadata": {
        "id": "EJMwp2wHx6fi"
      },
      "source": [
        "What do you think about outliers in this case?"
      ]
    },
    {
      "cell_type": "markdown",
      "metadata": {
        "id": "3KZ5OHNUHdh8"
      },
      "source": [
        "**in simplw woeds, All data outliers!**"
      ]
    },
    {
      "cell_type": "markdown",
      "metadata": {
        "id": "C_L_FuNUyBwK"
      },
      "source": [
        "Plot the value_counts for 'Loan_Amount_term'"
      ]
    },
    {
      "cell_type": "code",
      "metadata": {
        "id": "UGmNxb_DK-mD",
        "colab": {
          "base_uri": "https://localhost:8080/"
        },
        "outputId": "c6916ec4-184e-4b1d-945e-51ff8b5a9c69"
      },
      "source": [
        "#Test Your Zaka\n",
        "removeNA_df['Loan_Amount_Term'].value_counts()"
      ],
      "execution_count": 467,
      "outputs": [
        {
          "output_type": "execute_result",
          "data": {
            "text/plain": [
              "360.0    344\n",
              "180.0     29\n",
              "480.0     10\n",
              "300.0      9\n",
              "120.0      3\n",
              "60.0       2\n",
              "240.0      1\n",
              "36.0       1\n",
              "84.0       1\n",
              "Name: Loan_Amount_Term, dtype: int64"
            ]
          },
          "metadata": {},
          "execution_count": 467
        }
      ]
    },
    {
      "cell_type": "markdown",
      "source": [
        "**Almost 344**"
      ],
      "metadata": {
        "id": "bqf7idUdTl1C"
      }
    },
    {
      "cell_type": "markdown",
      "metadata": {
        "id": "HAdIBde9yTmY"
      },
      "source": [
        "Do the same for the categorical variables you have ('Dependants', 'Education', etc), using a subplot of size 4 by 2"
      ]
    },
    {
      "cell_type": "code",
      "source": [
        "removeNA_df.columns"
      ],
      "metadata": {
        "colab": {
          "base_uri": "https://localhost:8080/"
        },
        "id": "kgNlAmy3TzYb",
        "outputId": "a85c6bfd-5566-4939-f99a-9ecfe200c3f3"
      },
      "execution_count": 468,
      "outputs": [
        {
          "output_type": "execute_result",
          "data": {
            "text/plain": [
              "Index(['Loan_ID', 'Gender', 'Married', 'Dependents', 'Education',\n",
              "       'Self_Employed', 'ApplicantIncome', 'CoapplicantIncome', 'LoanAmount',\n",
              "       'Loan_Amount_Term', 'Credit_History', 'Property_Area', 'Loan_Status'],\n",
              "      dtype='object')"
            ]
          },
          "metadata": {},
          "execution_count": 468
        }
      ]
    },
    {
      "cell_type": "code",
      "metadata": {
        "id": "-wfu8LlNK-mG",
        "colab": {
          "base_uri": "https://localhost:8080/",
          "height": 644
        },
        "outputId": "eb4e8da8-e31e-44a8-c79a-841ed4137d2b"
      },
      "source": [
        "#Test Your Zaka\n",
        "plt.figure(figsize=(10,10))\n",
        "plt.subplot(421) \n",
        "plt.hist(removeNA_df['Loan_ID'])\n",
        "plt.subplot(422) \n",
        "plt.hist(removeNA_df['Gender'])\n",
        "plt.subplot(423) \n",
        "plt.hist(removeNA_df['Married'])\n",
        "plt.subplot(424) \n",
        "plt.hist(removeNA_df['Dependents'])\n",
        "plt.subplot(425) \n",
        "plt.hist(removeNA_df['Education'])\n",
        "plt.subplot(426) \n",
        "plt.hist(removeNA_df['Self_Employed'])\n",
        "plt.subplot(427) \n",
        "plt.hist(removeNA_df['Property_Area'])\n",
        "plt.subplot(428) \n",
        "plt.hist(removeNA_df['Loan_Status'])"
      ],
      "execution_count": 469,
      "outputs": [
        {
          "output_type": "execute_result",
          "data": {
            "text/plain": [
              "(array([124.,   0.,   0.,   0.,   0.,   0.,   0.,   0.,   0., 276.]),\n",
              " array([0. , 0.1, 0.2, 0.3, 0.4, 0.5, 0.6, 0.7, 0.8, 0.9, 1. ]),\n",
              " <a list of 10 Patch objects>)"
            ]
          },
          "metadata": {},
          "execution_count": 469
        },
        {
          "output_type": "display_data",
          "data": {
            "image/png": "[encoded data removed]",
            "text/plain": [
              "<Figure size 720x720 with 8 Axes>"
            ]
          },
          "metadata": {
            "needs_background": "light"
          }
        }
      ]
    },
    {
      "cell_type": "markdown",
      "metadata": {
        "id": "c9pcdqP-0GB5"
      },
      "source": [
        "Perform CrossTabing between Gender and Loan_Status, and then plot the acceptance/rejection of loans for different Genders"
      ]
    },
    {
      "cell_type": "code",
      "metadata": {
        "id": "vKEkDE5bK-mI",
        "colab": {
          "base_uri": "https://localhost:8080/",
          "height": 175
        },
        "outputId": "994045cf-c087-495b-da2b-f5f9da600d83"
      },
      "source": [
        "#Test Your Zaka\n",
        "pd.crosstab(removeNA_df['Gender'],removeNA_df['Loan_Status'], margins=True)"
      ],
      "execution_count": 470,
      "outputs": [
        {
          "output_type": "execute_result",
          "data": {
            "text/html": [
              "\n",
              "  <div id=\"df-22634088-864d-4e1d-ab5e-36be4f3c8bf7\">\n",
              "    <div class=\"colab-df-container\">\n",
              "      <div>\n",
              "<style scoped>\n",
              "    .dataframe tbody tr th:only-of-type {\n",
              "        vertical-align: middle;\n",
              "    }\n",
              "\n",
              "    .dataframe tbody tr th {\n",
              "        vertical-align: top;\n",
              "    }\n",
              "\n",
              "    .dataframe thead th {\n",
              "        text-align: right;\n",
              "    }\n",
              "</style>\n",
              "<table border=\"1\" class=\"dataframe\">\n",
              "  <thead>\n",
              "    <tr style=\"text-align: right;\">\n",
              "      <th>Loan_Status</th>\n",
              "      <th>N</th>\n",
              "      <th>Y</th>\n",
              "      <th>All</th>\n",
              "    </tr>\n",
              "    <tr>\n",
              "      <th>Gender</th>\n",
              "      <th></th>\n",
              "      <th></th>\n",
              "      <th></th>\n",
              "    </tr>\n",
              "  </thead>\n",
              "  <tbody>\n",
              "    <tr>\n",
              "      <th>Female</th>\n",
              "      <td>27</td>\n",
              "      <td>45</td>\n",
              "      <td>72</td>\n",
              "    </tr>\n",
              "    <tr>\n",
              "      <th>Male</th>\n",
              "      <td>97</td>\n",
              "      <td>231</td>\n",
              "      <td>328</td>\n",
              "    </tr>\n",
              "    <tr>\n",
              "      <th>All</th>\n",
              "      <td>124</td>\n",
              "      <td>276</td>\n",
              "      <td>400</td>\n",
              "    </tr>\n",
              "  </tbody>\n",
              "</table>\n",
              "</div>\n",
              "      <button class=\"colab-df-convert\" onclick=\"convertToInteractive('df-22634088-864d-4e1d-ab5e-36be4f3c8bf7')\"\n",
              "              title=\"Convert this dataframe to an interactive table.\"\n",
              "              style=\"display:none;\">\n",
              "        \n",
              "  <svg xmlns=\"http://www.w3.org/2000/svg\" height=\"24px\"viewBox=\"0 0 24 24\"\n",
              "       width=\"24px\">\n",
              "    <path d=\"M0 0h24v24H0V0z\" fill=\"none\"/>\n",
              "    <path d=\"M18.56 5.44l.94 2.06.94-2.06 2.06-.94-2.06-.94-.94-2.06-.94 2.06-2.06.94zm-11 1L8.5 8.5l.94-2.06 2.06-.94-2.06-.94L8.5 2.5l-.94 2.06-2.06.94zm10 10l.94 2.06.94-2.06 2.06-.94-2.06-.94-.94-2.06-.94 2.06-2.06.94z\"/><path d=\"M17.41 7.96l-1.37-1.37c-.4-.4-.92-.59-1.43-.59-.52 0-1.04.2-1.43.59L10.3 9.45l-7.72 7.72c-.78.78-.78 2.05 0 2.83L4 21.41c.39.39.9.59 1.41.59.51 0 1.02-.2 1.41-.59l7.78-7.78 2.81-2.81c.8-.78.8-2.07 0-2.86zM5.41 20L4 18.59l7.72-7.72 1.47 1.35L5.41 20z\"/>\n",
              "  </svg>\n",
              "      </button>\n",
              "      \n",
              "  <style>\n",
              "    .colab-df-container {\n",
              "      display:flex;\n",
              "      flex-wrap:wrap;\n",
              "      gap: 12px;\n",
              "    }\n",
              "\n",
              "    .colab-df-convert {\n",
              "      background-color: #E8F0FE;\n",
              "      border: none;\n",
              "      border-radius: 50%;\n",
              "      cursor: pointer;\n",
              "      display: none;\n",
              "      fill: #1967D2;\n",
              "      height: 32px;\n",
              "      padding: 0 0 0 0;\n",
              "      width: 32px;\n",
              "    }\n",
              "\n",
              "    .colab-df-convert:hover {\n",
              "      background-color: #E2EBFA;\n",
              "      box-shadow: 0px 1px 2px rgba(60, 64, 67, 0.3), 0px 1px 3px 1px rgba(60, 64, 67, 0.15);\n",
              "      fill: #174EA6;\n",
              "    }\n",
              "\n",
              "    [theme=dark] .colab-df-convert {\n",
              "      background-color: #3B4455;\n",
              "      fill: #D2E3FC;\n",
              "    }\n",
              "\n",
              "    [theme=dark] .colab-df-convert:hover {\n",
              "      background-color: #434B5C;\n",
              "      box-shadow: 0px 1px 3px 1px rgba(0, 0, 0, 0.15);\n",
              "      filter: drop-shadow(0px 1px 2px rgba(0, 0, 0, 0.3));\n",
              "      fill: #FFFFFF;\n",
              "    }\n",
              "  </style>\n",
              "\n",
              "      <script>\n",
              "        const buttonEl =\n",
              "          document.querySelector('#df-22634088-864d-4e1d-ab5e-36be4f3c8bf7 button.colab-df-convert');\n",
              "        buttonEl.style.display =\n",
              "          google.colab.kernel.accessAllowed ? 'block' : 'none';\n",
              "\n",
              "        async function convertToInteractive(key) {\n",
              "          const element = document.querySelector('#df-22634088-864d-4e1d-ab5e-36be4f3c8bf7');\n",
              "          const dataTable =\n",
              "            await google.colab.kernel.invokeFunction('convertToInteractive',\n",
              "                                                     [key], {});\n",
              "          if (!dataTable) return;\n",
              "\n",
              "          const docLinkHtml = 'Like what you see? Visit the ' +\n",
              "            '<a target=\"_blank\" href=https://colab.research.google.com/notebooks/data_table.ipynb>data table notebook</a>'\n",
              "            + ' to learn more about interactive tables.';\n",
              "          element.innerHTML = '';\n",
              "          dataTable['output_type'] = 'display_data';\n",
              "          await google.colab.output.renderOutput(dataTable, element);\n",
              "          const docLink = document.createElement('div');\n",
              "          docLink.innerHTML = docLinkHtml;\n",
              "          element.appendChild(docLink);\n",
              "        }\n",
              "      </script>\n",
              "    </div>\n",
              "  </div>\n",
              "  "
            ],
            "text/plain": [
              "Loan_Status    N    Y  All\n",
              "Gender                    \n",
              "Female        27   45   72\n",
              "Male          97  231  328\n",
              "All          124  276  400"
            ]
          },
          "metadata": {},
          "execution_count": 470
        }
      ]
    },
    {
      "cell_type": "code",
      "source": [
        "fem=removeNA_df[(removeNA_df['Gender']==\"Female\")]\n",
        "mal=removeNA_df[(removeNA_df['Gender']==\"Male\")]\n",
        "\n",
        "plt.figure(figsize=(15,7))\n",
        "plt.subplot(121) \n",
        "plt.hist(mal[\"Loan_Status\"], color='g')\n",
        "plt.title(\"Male Loan acceptance \")\n",
        "plt.subplot(122) \n",
        "plt.hist(fem[\"Loan_Status\"], color='r')\n",
        "plt.title(\"Female Loan acceptance \")"
      ],
      "metadata": {
        "colab": {
          "base_uri": "https://localhost:8080/",
          "height": 461
        },
        "id": "-tGp4qmye6gc",
        "outputId": "36cb51c5-cad8-4478-f34a-d41d1a84a70f"
      },
      "execution_count": 471,
      "outputs": [
        {
          "output_type": "execute_result",
          "data": {
            "text/plain": [
              "Text(0.5, 1.0, 'Female Loan acceptance ')"
            ]
          },
          "metadata": {},
          "execution_count": 471
        },
        {
          "output_type": "display_data",
          "data": {
            "image/png": "[encoded data removed]",
            "text/plain": [
              "<Figure size 1080x504 with 2 Axes>"
            ]
          },
          "metadata": {
            "needs_background": "light"
          }
        }
      ]
    },
    {
      "cell_type": "markdown",
      "metadata": {
        "id": "RE7UIh5_0T83"
      },
      "source": [
        "Does the Gender affect the acceptance of the Loan?"
      ]
    },
    {
      "cell_type": "markdown",
      "metadata": {
        "id": "msFlsQonHgrn"
      },
      "source": [
        "**For this question i will use the probability to find the YES for each Gender then compare them**"
      ]
    },
    {
      "cell_type": "code",
      "source": [
        "fem['Loan_Status'].value_counts()"
      ],
      "metadata": {
        "colab": {
          "base_uri": "https://localhost:8080/"
        },
        "id": "Hc7M03coiaLx",
        "outputId": "8167f267-49e8-4110-fd19-183631e343d2"
      },
      "execution_count": 472,
      "outputs": [
        {
          "output_type": "execute_result",
          "data": {
            "text/plain": [
              "Y    45\n",
              "N    27\n",
              "Name: Loan_Status, dtype: int64"
            ]
          },
          "metadata": {},
          "execution_count": 472
        }
      ]
    },
    {
      "cell_type": "code",
      "source": [
        "#for female the probability for YES\n",
        "45/(45+27)"
      ],
      "metadata": {
        "colab": {
          "base_uri": "https://localhost:8080/"
        },
        "id": "2nHFbBChi-6S",
        "outputId": "74119603-7d70-4330-ddb7-7ae4804d02d2"
      },
      "execution_count": 473,
      "outputs": [
        {
          "output_type": "execute_result",
          "data": {
            "text/plain": [
              "0.625"
            ]
          },
          "metadata": {},
          "execution_count": 473
        }
      ]
    },
    {
      "cell_type": "code",
      "source": [
        "mal['Loan_Status'].value_counts()"
      ],
      "metadata": {
        "colab": {
          "base_uri": "https://localhost:8080/"
        },
        "id": "euvvUtVujOKO",
        "outputId": "9658af40-9dc8-40de-b237-c6923a610b84"
      },
      "execution_count": 474,
      "outputs": [
        {
          "output_type": "execute_result",
          "data": {
            "text/plain": [
              "Y    231\n",
              "N     97\n",
              "Name: Loan_Status, dtype: int64"
            ]
          },
          "metadata": {},
          "execution_count": 474
        }
      ]
    },
    {
      "cell_type": "code",
      "source": [
        "#for male the probability for YES\n",
        "231/(231+97)"
      ],
      "metadata": {
        "colab": {
          "base_uri": "https://localhost:8080/"
        },
        "id": "T65wUFF_jTAK",
        "outputId": "c2e58508-f815-4ccc-d6ea-6de3a0bbc5be"
      },
      "execution_count": 475,
      "outputs": [
        {
          "output_type": "execute_result",
          "data": {
            "text/plain": [
              "0.7042682926829268"
            ]
          },
          "metadata": {},
          "execution_count": 475
        }
      ]
    },
    {
      "cell_type": "markdown",
      "source": [
        "**The gender not Effect so much Actually!**"
      ],
      "metadata": {
        "id": "WW1LkrnojjTq"
      }
    },
    {
      "cell_type": "markdown",
      "metadata": {
        "id": "lQH8mJ2G0jIv"
      },
      "source": [
        "Do the same with Credit_history and Loan_Status"
      ]
    },
    {
      "cell_type": "code",
      "metadata": {
        "id": "P_GMY0r_K-mK",
        "colab": {
          "base_uri": "https://localhost:8080/",
          "height": 461
        },
        "outputId": "6b17a317-9a44-408f-9a76-237d0c820867"
      },
      "source": [
        "#Test Your Zaka\n",
        "#removeNA_df.columns\n",
        "removeNA_df['Credit_History'].value_counts()\n",
        "\n",
        "CDY=removeNA_df[(removeNA_df['Credit_History']==1)]\n",
        "CDN=removeNA_df[(removeNA_df['Credit_History']==0)]\n",
        "\n",
        "plt.figure(figsize=(15,7))\n",
        "plt.subplot(121) \n",
        "plt.hist(CDY[\"Loan_Status\"], color='g')\n",
        "plt.title(\"Credit score Loan acceptance \")\n",
        "plt.subplot(122) \n",
        "plt.hist(CDN[\"Loan_Status\"], color='r')\n",
        "plt.title(\"Credit score Loan acceptance \")"
      ],
      "execution_count": 476,
      "outputs": [
        {
          "output_type": "execute_result",
          "data": {
            "text/plain": [
              "Text(0.5, 1.0, 'Credit score Loan acceptance ')"
            ]
          },
          "metadata": {},
          "execution_count": 476
        },
        {
          "output_type": "display_data",
          "data": {
            "image/png": "[encoded data removed]",
            "text/plain": [
              "<Figure size 1080x504 with 2 Axes>"
            ]
          },
          "metadata": {
            "needs_background": "light"
          }
        }
      ]
    },
    {
      "cell_type": "markdown",
      "metadata": {
        "id": "ohJtw6Sf0u1w"
      },
      "source": [
        "Does the Credit History affect the acceptance of the Loan?"
      ]
    },
    {
      "cell_type": "markdown",
      "metadata": {
        "id": "smcdqo-kHkAX"
      },
      "source": [
        "**YES!**"
      ]
    },
    {
      "cell_type": "markdown",
      "metadata": {
        "id": "OeetbceF04df"
      },
      "source": [
        "Do the same with Dependents and Loan_Status"
      ]
    },
    {
      "cell_type": "code",
      "metadata": {
        "id": "bGyaa6z3K-mO",
        "colab": {
          "base_uri": "https://localhost:8080/",
          "height": 353
        },
        "outputId": "4f3c7fd1-8292-4c5a-8895-616eefbcb742"
      },
      "source": [
        "#Test Your Zaka\n",
        "removeNA_df['Dependents'].value_counts()\n",
        "\n",
        "D0=removeNA_df[(removeNA_df['Dependents']=='0')]\n",
        "D1=removeNA_df[(removeNA_df['Dependents']=='1')]\n",
        "D2=removeNA_df[(removeNA_df['Dependents']=='2')]\n",
        "D3=removeNA_df[(removeNA_df['Dependents']=='3+')]\n",
        "\n",
        "plt.figure(figsize=(15,5))\n",
        "plt.subplot(141) \n",
        "plt.hist(D0[\"Loan_Status\"], color='g')\n",
        "plt.title(\"0 other dependants Loan acceptance \")\n",
        "\n",
        "plt.subplot(142) \n",
        "plt.hist(D1[\"Loan_Status\"], color='r')\n",
        "plt.title(\"1 other dependants Loan acceptance \")\n",
        "\n",
        "plt.subplot(143) \n",
        "plt.hist(D2[\"Loan_Status\"], color='b')\n",
        "plt.title(\"2 other dependants Loan acceptance \")\n",
        "\n",
        "plt.subplot(144) \n",
        "plt.hist(D3[\"Loan_Status\"], color='y')\n",
        "plt.title(\"3 and more other dependants Loan acceptance \")"
      ],
      "execution_count": 477,
      "outputs": [
        {
          "output_type": "execute_result",
          "data": {
            "text/plain": [
              "Text(0.5, 1.0, '3 and more other dependants Loan acceptance ')"
            ]
          },
          "metadata": {},
          "execution_count": 477
        },
        {
          "output_type": "display_data",
          "data": {
            "image/png": "[encoded data removed]",
            "text/plain": [
              "<Figure size 1080x360 with 4 Axes>"
            ]
          },
          "metadata": {
            "needs_background": "light"
          }
        }
      ]
    },
    {
      "cell_type": "markdown",
      "metadata": {
        "id": "PdVe_fqPK-mQ"
      },
      "source": [
        "Does the number of dependents affect the acceptance of the Loan?"
      ]
    },
    {
      "cell_type": "markdown",
      "metadata": {
        "id": "0qUtn1coHlhg"
      },
      "source": [
        "**Maybe but it will have a weak corerelation with the Loan_statues**"
      ]
    },
    {
      "cell_type": "markdown",
      "metadata": {
        "id": "o_7TyIEA1IrW"
      },
      "source": [
        "Do the same between Education and Loan_Status"
      ]
    },
    {
      "cell_type": "code",
      "metadata": {
        "id": "BKCYwmZSK-mQ",
        "colab": {
          "base_uri": "https://localhost:8080/",
          "height": 461
        },
        "outputId": "6943d55b-c366-4c3d-8f7d-e13d5d1fc1b8"
      },
      "source": [
        "#Test Your Zaka\n",
        "removeNA_df['Education'].value_counts()\n",
        "\n",
        "Grd=removeNA_df[(removeNA_df['Education']=='Graduate')]\n",
        "NGrd=removeNA_df[(removeNA_df['Education']=='Not Graduate')]\n",
        "\n",
        "plt.figure(figsize=(15,7))\n",
        "plt.subplot(121) \n",
        "plt.hist(Grd[\"Loan_Status\"], color='g')\n",
        "plt.title(\"Graduate score Loan acceptance \")\n",
        "plt.subplot(122) \n",
        "plt.hist(NGrd[\"Loan_Status\"], color='r')\n",
        "plt.title(\"not Graduate score Loan acceptance \")"
      ],
      "execution_count": 478,
      "outputs": [
        {
          "output_type": "execute_result",
          "data": {
            "text/plain": [
              "Text(0.5, 1.0, 'not Graduate score Loan acceptance ')"
            ]
          },
          "metadata": {},
          "execution_count": 478
        },
        {
          "output_type": "display_data",
          "data": {
            "image/png": "[encoded data removed]",
            "text/plain": [
              "<Figure size 1080x504 with 2 Axes>"
            ]
          },
          "metadata": {
            "needs_background": "light"
          }
        }
      ]
    },
    {
      "cell_type": "markdown",
      "metadata": {
        "id": "RTMbGhDjK-mS"
      },
      "source": [
        "Does the level of education affect the acceptance of the Loan?"
      ]
    },
    {
      "cell_type": "markdown",
      "metadata": {
        "id": "9sj0a-cvHnFB"
      },
      "source": [
        "**Yes! the number of accepetance for Graduate more**"
      ]
    },
    {
      "cell_type": "markdown",
      "metadata": {
        "id": "U8PV2Czu1Xh2"
      },
      "source": [
        "Do the same between Married and Loan_Status"
      ]
    },
    {
      "cell_type": "code",
      "metadata": {
        "id": "Oe0AnWl8K-mU",
        "colab": {
          "base_uri": "https://localhost:8080/",
          "height": 461
        },
        "outputId": "50f84ac6-ed41-4024-cfd3-eb271107adc2"
      },
      "source": [
        "#Test Your Zaka\n",
        "removeNA_df['Married'].value_counts()\n",
        "\n",
        "MY=removeNA_df[(removeNA_df['Married']=='Yes')]\n",
        "MN=removeNA_df[(removeNA_df['Married']=='No')]\n",
        "\n",
        "plt.figure(figsize=(15,7))\n",
        "plt.subplot(121) \n",
        "plt.hist(MY[\"Loan_Status\"], color='g')\n",
        "plt.title(\"Mariried score Loan acceptance \")\n",
        "plt.subplot(122) \n",
        "plt.hist(MN[\"Loan_Status\"], color='r')\n",
        "plt.title(\"Not Married score Loan acceptance \")"
      ],
      "execution_count": 479,
      "outputs": [
        {
          "output_type": "execute_result",
          "data": {
            "text/plain": [
              "Text(0.5, 1.0, 'Not Married score Loan acceptance ')"
            ]
          },
          "metadata": {},
          "execution_count": 479
        },
        {
          "output_type": "display_data",
          "data": {
            "image/png": "[encoded data removed]",
            "text/plain": [
              "<Figure size 1080x504 with 2 Axes>"
            ]
          },
          "metadata": {
            "needs_background": "light"
          }
        }
      ]
    },
    {
      "cell_type": "markdown",
      "metadata": {
        "id": "2MfVWAuKK-mW"
      },
      "source": [
        "Does the marriage affect the acceptance of the Loan?"
      ]
    },
    {
      "cell_type": "markdown",
      "metadata": {
        "id": "7j7NUwLfHos-"
      },
      "source": [
        "**Not Really**"
      ]
    },
    {
      "cell_type": "markdown",
      "metadata": {
        "id": "SnK8fMJs1m2O"
      },
      "source": [
        "Do the same between Property_Area and Loan_Status"
      ]
    },
    {
      "cell_type": "code",
      "metadata": {
        "id": "cYaHhLoeK-mW",
        "colab": {
          "base_uri": "https://localhost:8080/",
          "height": 353
        },
        "outputId": "61a0c28d-0b5d-4738-8eed-6af820ed5ad7"
      },
      "source": [
        "#Test Your Zaka\n",
        "removeNA_df['Property_Area'].value_counts()\n",
        "\n",
        "PAS=removeNA_df[(removeNA_df['Property_Area']=='Semiurban')]\n",
        "PAU=removeNA_df[(removeNA_df['Property_Area']=='Urban')]\n",
        "PAR=removeNA_df[(removeNA_df['Property_Area']=='Rural')]\n",
        "\n",
        "plt.figure(figsize=(15,5))\n",
        "plt.subplot(131) \n",
        "plt.hist(PAS[\"Loan_Status\"], color='g')\n",
        "plt.title(\"Semiurban Loan acceptance \")\n",
        "\n",
        "plt.subplot(132) \n",
        "plt.hist(PAU[\"Loan_Status\"], color='r')\n",
        "plt.title(\"Urban Loan acceptance \")\n",
        "\n",
        "plt.subplot(133) \n",
        "plt.hist(PAR[\"Loan_Status\"], color='b')\n",
        "plt.title(\"Rural Loan acceptance \")\n"
      ],
      "execution_count": 480,
      "outputs": [
        {
          "output_type": "execute_result",
          "data": {
            "text/plain": [
              "Text(0.5, 1.0, 'Rural Loan acceptance ')"
            ]
          },
          "metadata": {},
          "execution_count": 480
        },
        {
          "output_type": "display_data",
          "data": {
            "image/png": "[encoded data removed]",
            "text/plain": [
              "<Figure size 1080x360 with 3 Axes>"
            ]
          },
          "metadata": {
            "needs_background": "light"
          }
        }
      ]
    },
    {
      "cell_type": "markdown",
      "metadata": {
        "id": "0GpJHhVkK-mY"
      },
      "source": [
        "Does the Property Area affect the acceptance of the Loan?"
      ]
    },
    {
      "cell_type": "markdown",
      "metadata": {
        "id": "KFSGnV5KHqIO"
      },
      "source": [
        "**Yes, this appear clear for Rural, there a lot of no, and for semirban a lot of yes!**"
      ]
    },
    {
      "cell_type": "markdown",
      "metadata": {
        "id": "UNG_-eKf11xW"
      },
      "source": [
        "Do the same between Self_Employed and Loan_Status"
      ]
    },
    {
      "cell_type": "code",
      "metadata": {
        "id": "pXCGrtKEK-mY",
        "colab": {
          "base_uri": "https://localhost:8080/",
          "height": 461
        },
        "outputId": "b031e0a4-f66e-406b-ea4a-782cb0338199"
      },
      "source": [
        "#Test Your Zaka\n",
        "removeNA_df['Self_Employed'].value_counts()\n",
        "\n",
        "SEY=removeNA_df[(removeNA_df['Self_Employed']=='Yes')]\n",
        "SEN=removeNA_df[(removeNA_df['Self_Employed']=='No')]\n",
        "\n",
        "plt.figure(figsize=(15,7))\n",
        "plt.subplot(121) \n",
        "plt.hist(SEY[\"Loan_Status\"], color='g')\n",
        "plt.title(\"YES, Self_Employed \")\n",
        "plt.subplot(122) \n",
        "plt.hist(SEN[\"Loan_Status\"], color='r')\n",
        "plt.title(\"No, Self_Employed \")"
      ],
      "execution_count": 481,
      "outputs": [
        {
          "output_type": "execute_result",
          "data": {
            "text/plain": [
              "Text(0.5, 1.0, 'No, Self_Employed ')"
            ]
          },
          "metadata": {},
          "execution_count": 481
        },
        {
          "output_type": "display_data",
          "data": {
            "image/png": "[encoded data removed]",
            "text/plain": [
              "<Figure size 1080x504 with 2 Axes>"
            ]
          },
          "metadata": {
            "needs_background": "light"
          }
        }
      ]
    },
    {
      "cell_type": "markdown",
      "metadata": {
        "id": "ot0Gf-XJK-ma"
      },
      "source": [
        "Does the Self Employed Property affect the acceptance of the Loan?"
      ]
    },
    {
      "cell_type": "markdown",
      "metadata": {
        "id": "SpYJ0haWHrp3"
      },
      "source": [
        "**from previous, not really effect, but the not self employed more requierd for the loans!**"
      ]
    },
    {
      "cell_type": "markdown",
      "metadata": {
        "id": "vd5V99_B2YMu"
      },
      "source": [
        "Plot a Scatter Plot between Loan_Status and: \n",
        "* ApplicantIncome\n",
        "* CoapplicantIncome\n",
        "* LoanAmount\n",
        "* LoanAmount_Term"
      ]
    },
    {
      "cell_type": "code",
      "metadata": {
        "id": "QYx1bcpcK-mb",
        "colab": {
          "base_uri": "https://localhost:8080/",
          "height": 282
        },
        "outputId": "a94ca052-f641-4da1-b322-b064e7fc475c"
      },
      "source": [
        "plt.scatter(removeNA_df['ApplicantIncome'],removeNA_df['Loan_Status'])"
      ],
      "execution_count": 482,
      "outputs": [
        {
          "output_type": "execute_result",
          "data": {
            "text/plain": [
              "<matplotlib.collections.PathCollection at 0x7fdd3fbf6cd0>"
            ]
          },
          "metadata": {},
          "execution_count": 482
        },
        {
          "output_type": "display_data",
          "data": {
            "image/png": "[encoded data removed]",
            "text/plain": [
              "<Figure size 432x288 with 1 Axes>"
            ]
          },
          "metadata": {
            "needs_background": "light"
          }
        }
      ]
    },
    {
      "cell_type": "code",
      "metadata": {
        "id": "J-HJlqYBK-mc",
        "colab": {
          "base_uri": "https://localhost:8080/",
          "height": 282
        },
        "outputId": "e99798cc-5962-4952-e885-282c984292da"
      },
      "source": [
        "#Test Your Zaka\n",
        "plt.scatter(removeNA_df['CoapplicantIncome'],removeNA_df['Loan_Status'])"
      ],
      "execution_count": 483,
      "outputs": [
        {
          "output_type": "execute_result",
          "data": {
            "text/plain": [
              "<matplotlib.collections.PathCollection at 0x7fdd3fbd6890>"
            ]
          },
          "metadata": {},
          "execution_count": 483
        },
        {
          "output_type": "display_data",
          "data": {
            "image/png": "[encoded data removed]",
            "text/plain": [
              "<Figure size 432x288 with 1 Axes>"
            ]
          },
          "metadata": {
            "needs_background": "light"
          }
        }
      ]
    },
    {
      "cell_type": "code",
      "metadata": {
        "id": "n6nlooYVK-mf",
        "colab": {
          "base_uri": "https://localhost:8080/",
          "height": 282
        },
        "outputId": "435774e4-7970-42bd-a0d9-749234f30345"
      },
      "source": [
        "#Test Your Zaka\n",
        "plt.scatter(removeNA_df['LoanAmount'],removeNA_df['Loan_Status'])"
      ],
      "execution_count": 484,
      "outputs": [
        {
          "output_type": "execute_result",
          "data": {
            "text/plain": [
              "<matplotlib.collections.PathCollection at 0x7fdd3fb32810>"
            ]
          },
          "metadata": {},
          "execution_count": 484
        },
        {
          "output_type": "display_data",
          "data": {
            "image/png": "[encoded data removed]",
            "text/plain": [
              "<Figure size 432x288 with 1 Axes>"
            ]
          },
          "metadata": {
            "needs_background": "light"
          }
        }
      ]
    },
    {
      "cell_type": "code",
      "metadata": {
        "id": "PBpJ7-FZK-mh",
        "colab": {
          "base_uri": "https://localhost:8080/",
          "height": 282
        },
        "outputId": "8cf980e7-1e74-423c-805a-a995b4f523ad"
      },
      "source": [
        "#Test Your Zaka\n",
        "plt.scatter(removeNA_df['Loan_Amount_Term'],removeNA_df['Loan_Status'])"
      ],
      "execution_count": 485,
      "outputs": [
        {
          "output_type": "execute_result",
          "data": {
            "text/plain": [
              "<matplotlib.collections.PathCollection at 0x7fdd3fb8f910>"
            ]
          },
          "metadata": {},
          "execution_count": 485
        },
        {
          "output_type": "display_data",
          "data": {
            "image/png": "[encoded data removed]",
            "text/plain": [
              "<Figure size 432x288 with 1 Axes>"
            ]
          },
          "metadata": {
            "needs_background": "light"
          }
        }
      ]
    },
    {
      "cell_type": "markdown",
      "metadata": {
        "id": "nax_2MFk3EXu"
      },
      "source": [
        "Do you think these scatter plots gave you valuable information about the Loan_Status?"
      ]
    },
    {
      "cell_type": "markdown",
      "metadata": {
        "id": "kwa5jal-Htfu"
      },
      "source": [
        "**NO!**"
      ]
    },
    {
      "cell_type": "markdown",
      "metadata": {
        "id": "bYCU_Weh3UJ1"
      },
      "source": [
        "Group your dataframe by Loan_Status on the median Value"
      ]
    },
    {
      "cell_type": "code",
      "metadata": {
        "id": "ye81y7MNK-mj",
        "colab": {
          "base_uri": "https://localhost:8080/",
          "height": 143
        },
        "outputId": "ae99dfa8-18b1-4893-e3a1-a1a43b394660"
      },
      "source": [
        "#Test Your Zaka\n",
        "removeNA_df.groupby(\"Loan_Status\").median()"
      ],
      "execution_count": 486,
      "outputs": [
        {
          "output_type": "execute_result",
          "data": {
            "text/html": [
              "\n",
              "  <div id=\"df-9e0cc968-f949-46e6-86d0-dd7822a85c11\">\n",
              "    <div class=\"colab-df-container\">\n",
              "      <div>\n",
              "<style scoped>\n",
              "    .dataframe tbody tr th:only-of-type {\n",
              "        vertical-align: middle;\n",
              "    }\n",
              "\n",
              "    .dataframe tbody tr th {\n",
              "        vertical-align: top;\n",
              "    }\n",
              "\n",
              "    .dataframe thead th {\n",
              "        text-align: right;\n",
              "    }\n",
              "</style>\n",
              "<table border=\"1\" class=\"dataframe\">\n",
              "  <thead>\n",
              "    <tr style=\"text-align: right;\">\n",
              "      <th></th>\n",
              "      <th>ApplicantIncome</th>\n",
              "      <th>CoapplicantIncome</th>\n",
              "      <th>LoanAmount</th>\n",
              "      <th>Loan_Amount_Term</th>\n",
              "      <th>Credit_History</th>\n",
              "    </tr>\n",
              "    <tr>\n",
              "      <th>Loan_Status</th>\n",
              "      <th></th>\n",
              "      <th></th>\n",
              "      <th></th>\n",
              "      <th></th>\n",
              "      <th></th>\n",
              "    </tr>\n",
              "  </thead>\n",
              "  <tbody>\n",
              "    <tr>\n",
              "      <th>N</th>\n",
              "      <td>3974.0</td>\n",
              "      <td>0.0</td>\n",
              "      <td>128.0</td>\n",
              "      <td>360.0</td>\n",
              "      <td>1.0</td>\n",
              "    </tr>\n",
              "    <tr>\n",
              "      <th>Y</th>\n",
              "      <td>3854.0</td>\n",
              "      <td>1221.0</td>\n",
              "      <td>126.0</td>\n",
              "      <td>360.0</td>\n",
              "      <td>1.0</td>\n",
              "    </tr>\n",
              "  </tbody>\n",
              "</table>\n",
              "</div>\n",
              "      <button class=\"colab-df-convert\" onclick=\"convertToInteractive('df-9e0cc968-f949-46e6-86d0-dd7822a85c11')\"\n",
              "              title=\"Convert this dataframe to an interactive table.\"\n",
              "              style=\"display:none;\">\n",
              "        \n",
              "  <svg xmlns=\"http://www.w3.org/2000/svg\" height=\"24px\"viewBox=\"0 0 24 24\"\n",
              "       width=\"24px\">\n",
              "    <path d=\"M0 0h24v24H0V0z\" fill=\"none\"/>\n",
              "    <path d=\"M18.56 5.44l.94 2.06.94-2.06 2.06-.94-2.06-.94-.94-2.06-.94 2.06-2.06.94zm-11 1L8.5 8.5l.94-2.06 2.06-.94-2.06-.94L8.5 2.5l-.94 2.06-2.06.94zm10 10l.94 2.06.94-2.06 2.06-.94-2.06-.94-.94-2.06-.94 2.06-2.06.94z\"/><path d=\"M17.41 7.96l-1.37-1.37c-.4-.4-.92-.59-1.43-.59-.52 0-1.04.2-1.43.59L10.3 9.45l-7.72 7.72c-.78.78-.78 2.05 0 2.83L4 21.41c.39.39.9.59 1.41.59.51 0 1.02-.2 1.41-.59l7.78-7.78 2.81-2.81c.8-.78.8-2.07 0-2.86zM5.41 20L4 18.59l7.72-7.72 1.47 1.35L5.41 20z\"/>\n",
              "  </svg>\n",
              "      </button>\n",
              "      \n",
              "  <style>\n",
              "    .colab-df-container {\n",
              "      display:flex;\n",
              "      flex-wrap:wrap;\n",
              "      gap: 12px;\n",
              "    }\n",
              "\n",
              "    .colab-df-convert {\n",
              "      background-color: #E8F0FE;\n",
              "      border: none;\n",
              "      border-radius: 50%;\n",
              "      cursor: pointer;\n",
              "      display: none;\n",
              "      fill: #1967D2;\n",
              "      height: 32px;\n",
              "      padding: 0 0 0 0;\n",
              "      width: 32px;\n",
              "    }\n",
              "\n",
              "    .colab-df-convert:hover {\n",
              "      background-color: #E2EBFA;\n",
              "      box-shadow: 0px 1px 2px rgba(60, 64, 67, 0.3), 0px 1px 3px 1px rgba(60, 64, 67, 0.15);\n",
              "      fill: #174EA6;\n",
              "    }\n",
              "\n",
              "    [theme=dark] .colab-df-convert {\n",
              "      background-color: #3B4455;\n",
              "      fill: #D2E3FC;\n",
              "    }\n",
              "\n",
              "    [theme=dark] .colab-df-convert:hover {\n",
              "      background-color: #434B5C;\n",
              "      box-shadow: 0px 1px 3px 1px rgba(0, 0, 0, 0.15);\n",
              "      filter: drop-shadow(0px 1px 2px rgba(0, 0, 0, 0.3));\n",
              "      fill: #FFFFFF;\n",
              "    }\n",
              "  </style>\n",
              "\n",
              "      <script>\n",
              "        const buttonEl =\n",
              "          document.querySelector('#df-9e0cc968-f949-46e6-86d0-dd7822a85c11 button.colab-df-convert');\n",
              "        buttonEl.style.display =\n",
              "          google.colab.kernel.accessAllowed ? 'block' : 'none';\n",
              "\n",
              "        async function convertToInteractive(key) {\n",
              "          const element = document.querySelector('#df-9e0cc968-f949-46e6-86d0-dd7822a85c11');\n",
              "          const dataTable =\n",
              "            await google.colab.kernel.invokeFunction('convertToInteractive',\n",
              "                                                     [key], {});\n",
              "          if (!dataTable) return;\n",
              "\n",
              "          const docLinkHtml = 'Like what you see? Visit the ' +\n",
              "            '<a target=\"_blank\" href=https://colab.research.google.com/notebooks/data_table.ipynb>data table notebook</a>'\n",
              "            + ' to learn more about interactive tables.';\n",
              "          element.innerHTML = '';\n",
              "          dataTable['output_type'] = 'display_data';\n",
              "          await google.colab.output.renderOutput(dataTable, element);\n",
              "          const docLink = document.createElement('div');\n",
              "          docLink.innerHTML = docLinkHtml;\n",
              "          element.appendChild(docLink);\n",
              "        }\n",
              "      </script>\n",
              "    </div>\n",
              "  </div>\n",
              "  "
            ],
            "text/plain": [
              "             ApplicantIncome  ...  Credit_History\n",
              "Loan_Status                   ...                \n",
              "N                     3974.0  ...             1.0\n",
              "Y                     3854.0  ...             1.0\n",
              "\n",
              "[2 rows x 5 columns]"
            ]
          },
          "metadata": {},
          "execution_count": 486
        }
      ]
    },
    {
      "cell_type": "markdown",
      "metadata": {
        "id": "QZ4-cj_M3jaV"
      },
      "source": [
        "What did you deduce?"
      ]
    },
    {
      "cell_type": "markdown",
      "metadata": {
        "id": "uuA79BBhHwVO"
      },
      "source": [
        "**CoapplicantIncome is the most important to detect the loanacceptance**"
      ]
    },
    {
      "cell_type": "markdown",
      "metadata": {
        "id": "PuiYEDpYK-mm"
      },
      "source": [
        "# 4. Preprocessing\n",
        "\"Garbage in, garbage out\".\n",
        "<br>\n",
        "<br>\n",
        "Data should be preprocessed and cleaned to get rid of noisy data. Preprocessing includes:\n",
        "\n",
        "- remove unsued column(s)\n",
        "- remove grabage data\n",
        "- convert continous data into categorical\n",
        "- treat missing data\n",
        "- encode categorical data\n",
        "- normalization: standarize data ranges for all features (e.g., between 0 and 1)"
      ]
    },
    {
      "cell_type": "markdown",
      "metadata": {
        "id": "JGumTAZLK-mm"
      },
      "source": [
        "## Remove unused columns"
      ]
    },
    {
      "cell_type": "markdown",
      "metadata": {
        "id": "XtnXZzTM39lp"
      },
      "source": [
        "Remove the features that do not contribute to the prediction of the loan status"
      ]
    },
    {
      "cell_type": "code",
      "metadata": {
        "id": "Aw3LlHX1K-mn"
      },
      "source": [
        "#Test Your Zaka\n",
        "#from the previoues results: Gender, Dependants, Marrige and self employment not really effect, \n",
        "#so, we can remove the un sense featuers, i will drop Load_ID only at this time, \n",
        "#and I can repeat this step depending on the Featuer importance\n",
        "#Also and this clear, the Load_ID does not matter\n",
        "df.drop('Loan_ID',axis=1,inplace=True) \n"
      ],
      "execution_count": 487,
      "outputs": []
    },
    {
      "cell_type": "code",
      "source": [
        "df.head()"
      ],
      "metadata": {
        "colab": {
          "base_uri": "https://localhost:8080/",
          "height": 288
        },
        "id": "dlkMAvKSOBV-",
        "outputId": "7ca895d4-11ae-499b-a9ad-bad22ae198b1"
      },
      "execution_count": 488,
      "outputs": [
        {
          "output_type": "execute_result",
          "data": {
            "text/html": [
              "\n",
              "  <div id=\"df-c8ed9009-3de5-46b8-81a3-3ae39f1f2554\">\n",
              "    <div class=\"colab-df-container\">\n",
              "      <div>\n",
              "<style scoped>\n",
              "    .dataframe tbody tr th:only-of-type {\n",
              "        vertical-align: middle;\n",
              "    }\n",
              "\n",
              "    .dataframe tbody tr th {\n",
              "        vertical-align: top;\n",
              "    }\n",
              "\n",
              "    .dataframe thead th {\n",
              "        text-align: right;\n",
              "    }\n",
              "</style>\n",
              "<table border=\"1\" class=\"dataframe\">\n",
              "  <thead>\n",
              "    <tr style=\"text-align: right;\">\n",
              "      <th></th>\n",
              "      <th>Gender</th>\n",
              "      <th>Married</th>\n",
              "      <th>Dependents</th>\n",
              "      <th>Education</th>\n",
              "      <th>Self_Employed</th>\n",
              "      <th>ApplicantIncome</th>\n",
              "      <th>CoapplicantIncome</th>\n",
              "      <th>LoanAmount</th>\n",
              "      <th>Loan_Amount_Term</th>\n",
              "      <th>Credit_History</th>\n",
              "      <th>Property_Area</th>\n",
              "      <th>Loan_Status</th>\n",
              "    </tr>\n",
              "  </thead>\n",
              "  <tbody>\n",
              "    <tr>\n",
              "      <th>0</th>\n",
              "      <td>Male</td>\n",
              "      <td>No</td>\n",
              "      <td>0</td>\n",
              "      <td>Graduate</td>\n",
              "      <td>No</td>\n",
              "      <td>5849</td>\n",
              "      <td>0.0</td>\n",
              "      <td>NaN</td>\n",
              "      <td>360.0</td>\n",
              "      <td>1.0</td>\n",
              "      <td>Urban</td>\n",
              "      <td>Y</td>\n",
              "    </tr>\n",
              "    <tr>\n",
              "      <th>1</th>\n",
              "      <td>Male</td>\n",
              "      <td>Yes</td>\n",
              "      <td>1</td>\n",
              "      <td>Graduate</td>\n",
              "      <td>No</td>\n",
              "      <td>4583</td>\n",
              "      <td>1508.0</td>\n",
              "      <td>128.0</td>\n",
              "      <td>360.0</td>\n",
              "      <td>1.0</td>\n",
              "      <td>Rural</td>\n",
              "      <td>N</td>\n",
              "    </tr>\n",
              "    <tr>\n",
              "      <th>2</th>\n",
              "      <td>Male</td>\n",
              "      <td>Yes</td>\n",
              "      <td>0</td>\n",
              "      <td>Graduate</td>\n",
              "      <td>Yes</td>\n",
              "      <td>3000</td>\n",
              "      <td>0.0</td>\n",
              "      <td>66.0</td>\n",
              "      <td>360.0</td>\n",
              "      <td>1.0</td>\n",
              "      <td>Urban</td>\n",
              "      <td>Y</td>\n",
              "    </tr>\n",
              "    <tr>\n",
              "      <th>3</th>\n",
              "      <td>Male</td>\n",
              "      <td>Yes</td>\n",
              "      <td>0</td>\n",
              "      <td>Not Graduate</td>\n",
              "      <td>No</td>\n",
              "      <td>2583</td>\n",
              "      <td>2358.0</td>\n",
              "      <td>120.0</td>\n",
              "      <td>360.0</td>\n",
              "      <td>1.0</td>\n",
              "      <td>Urban</td>\n",
              "      <td>Y</td>\n",
              "    </tr>\n",
              "    <tr>\n",
              "      <th>4</th>\n",
              "      <td>Male</td>\n",
              "      <td>No</td>\n",
              "      <td>0</td>\n",
              "      <td>Graduate</td>\n",
              "      <td>No</td>\n",
              "      <td>6000</td>\n",
              "      <td>0.0</td>\n",
              "      <td>141.0</td>\n",
              "      <td>360.0</td>\n",
              "      <td>1.0</td>\n",
              "      <td>Urban</td>\n",
              "      <td>Y</td>\n",
              "    </tr>\n",
              "  </tbody>\n",
              "</table>\n",
              "</div>\n",
              "      <button class=\"colab-df-convert\" onclick=\"convertToInteractive('df-c8ed9009-3de5-46b8-81a3-3ae39f1f2554')\"\n",
              "              title=\"Convert this dataframe to an interactive table.\"\n",
              "              style=\"display:none;\">\n",
              "        \n",
              "  <svg xmlns=\"http://www.w3.org/2000/svg\" height=\"24px\"viewBox=\"0 0 24 24\"\n",
              "       width=\"24px\">\n",
              "    <path d=\"M0 0h24v24H0V0z\" fill=\"none\"/>\n",
              "    <path d=\"M18.56 5.44l.94 2.06.94-2.06 2.06-.94-2.06-.94-.94-2.06-.94 2.06-2.06.94zm-11 1L8.5 8.5l.94-2.06 2.06-.94-2.06-.94L8.5 2.5l-.94 2.06-2.06.94zm10 10l.94 2.06.94-2.06 2.06-.94-2.06-.94-.94-2.06-.94 2.06-2.06.94z\"/><path d=\"M17.41 7.96l-1.37-1.37c-.4-.4-.92-.59-1.43-.59-.52 0-1.04.2-1.43.59L10.3 9.45l-7.72 7.72c-.78.78-.78 2.05 0 2.83L4 21.41c.39.39.9.59 1.41.59.51 0 1.02-.2 1.41-.59l7.78-7.78 2.81-2.81c.8-.78.8-2.07 0-2.86zM5.41 20L4 18.59l7.72-7.72 1.47 1.35L5.41 20z\"/>\n",
              "  </svg>\n",
              "      </button>\n",
              "      \n",
              "  <style>\n",
              "    .colab-df-container {\n",
              "      display:flex;\n",
              "      flex-wrap:wrap;\n",
              "      gap: 12px;\n",
              "    }\n",
              "\n",
              "    .colab-df-convert {\n",
              "      background-color: #E8F0FE;\n",
              "      border: none;\n",
              "      border-radius: 50%;\n",
              "      cursor: pointer;\n",
              "      display: none;\n",
              "      fill: #1967D2;\n",
              "      height: 32px;\n",
              "      padding: 0 0 0 0;\n",
              "      width: 32px;\n",
              "    }\n",
              "\n",
              "    .colab-df-convert:hover {\n",
              "      background-color: #E2EBFA;\n",
              "      box-shadow: 0px 1px 2px rgba(60, 64, 67, 0.3), 0px 1px 3px 1px rgba(60, 64, 67, 0.15);\n",
              "      fill: #174EA6;\n",
              "    }\n",
              "\n",
              "    [theme=dark] .colab-df-convert {\n",
              "      background-color: #3B4455;\n",
              "      fill: #D2E3FC;\n",
              "    }\n",
              "\n",
              "    [theme=dark] .colab-df-convert:hover {\n",
              "      background-color: #434B5C;\n",
              "      box-shadow: 0px 1px 3px 1px rgba(0, 0, 0, 0.15);\n",
              "      filter: drop-shadow(0px 1px 2px rgba(0, 0, 0, 0.3));\n",
              "      fill: #FFFFFF;\n",
              "    }\n",
              "  </style>\n",
              "\n",
              "      <script>\n",
              "        const buttonEl =\n",
              "          document.querySelector('#df-c8ed9009-3de5-46b8-81a3-3ae39f1f2554 button.colab-df-convert');\n",
              "        buttonEl.style.display =\n",
              "          google.colab.kernel.accessAllowed ? 'block' : 'none';\n",
              "\n",
              "        async function convertToInteractive(key) {\n",
              "          const element = document.querySelector('#df-c8ed9009-3de5-46b8-81a3-3ae39f1f2554');\n",
              "          const dataTable =\n",
              "            await google.colab.kernel.invokeFunction('convertToInteractive',\n",
              "                                                     [key], {});\n",
              "          if (!dataTable) return;\n",
              "\n",
              "          const docLinkHtml = 'Like what you see? Visit the ' +\n",
              "            '<a target=\"_blank\" href=https://colab.research.google.com/notebooks/data_table.ipynb>data table notebook</a>'\n",
              "            + ' to learn more about interactive tables.';\n",
              "          element.innerHTML = '';\n",
              "          dataTable['output_type'] = 'display_data';\n",
              "          await google.colab.output.renderOutput(dataTable, element);\n",
              "          const docLink = document.createElement('div');\n",
              "          docLink.innerHTML = docLinkHtml;\n",
              "          element.appendChild(docLink);\n",
              "        }\n",
              "      </script>\n",
              "    </div>\n",
              "  </div>\n",
              "  "
            ],
            "text/plain": [
              "  Gender Married Dependents  ... Credit_History Property_Area  Loan_Status\n",
              "0   Male      No          0  ...            1.0         Urban            Y\n",
              "1   Male     Yes          1  ...            1.0         Rural            N\n",
              "2   Male     Yes          0  ...            1.0         Urban            Y\n",
              "3   Male     Yes          0  ...            1.0         Urban            Y\n",
              "4   Male      No          0  ...            1.0         Urban            Y\n",
              "\n",
              "[5 rows x 12 columns]"
            ]
          },
          "metadata": {},
          "execution_count": 488
        }
      ]
    },
    {
      "cell_type": "markdown",
      "metadata": {
        "id": "vgIxDdBrK-mp"
      },
      "source": [
        "## Remove grabage data"
      ]
    },
    {
      "cell_type": "markdown",
      "metadata": {
        "id": "BiOIFhTZ4OB9"
      },
      "source": [
        "If you go back to one of the EDA steps where you saw the unique values of Dependents, you can see that you have '3+' as a value. In order to make the algorithm learn from such information, you have to replace this with a number. We will replace it by 3."
      ]
    },
    {
      "cell_type": "code",
      "metadata": {
        "id": "x55J60oFK-mq",
        "colab": {
          "base_uri": "https://localhost:8080/"
        },
        "outputId": "984509bc-f1ae-4d76-efc0-aa166c077358"
      },
      "source": [
        "#Test Your Zaka\n",
        "#df.info()\n",
        "df['Dependents'].replace(['3+'],['3'],inplace=True)\n",
        "df['Dependents'].value_counts()"
      ],
      "execution_count": 489,
      "outputs": [
        {
          "output_type": "execute_result",
          "data": {
            "text/plain": [
              "0    295\n",
              "1     84\n",
              "2     82\n",
              "3     40\n",
              "Name: Dependents, dtype: int64"
            ]
          },
          "metadata": {},
          "execution_count": 489
        }
      ]
    },
    {
      "cell_type": "markdown",
      "metadata": {
        "id": "oBpOQ6MVK-mr"
      },
      "source": [
        "##Convert continuous data into categorical"
      ]
    },
    {
      "cell_type": "markdown",
      "metadata": {
        "id": "Su3zYNN14rce"
      },
      "source": [
        "Search for the feature that is contionuous but should be categorical and convert it"
      ]
    },
    {
      "cell_type": "code",
      "source": [
        "#df.columns\n",
        "df[\"Credit_History\"] = df[\"Credit_History\"].astype(\"category\")\n",
        "df.info()"
      ],
      "metadata": {
        "colab": {
          "base_uri": "https://localhost:8080/"
        },
        "id": "DQq67aYsKQKS",
        "outputId": "b66911d2-1e2f-43bc-e0a5-ee271e19bda7"
      },
      "execution_count": 490,
      "outputs": [
        {
          "output_type": "stream",
          "name": "stdout",
          "text": [
            "<class 'pandas.core.frame.DataFrame'>\n",
            "RangeIndex: 513 entries, 0 to 512\n",
            "Data columns (total 12 columns):\n",
            " #   Column             Non-Null Count  Dtype   \n",
            "---  ------             --------------  -----   \n",
            " 0   Gender             503 non-null    object  \n",
            " 1   Married            510 non-null    object  \n",
            " 2   Dependents         501 non-null    object  \n",
            " 3   Education          513 non-null    object  \n",
            " 4   Self_Employed      486 non-null    object  \n",
            " 5   ApplicantIncome    513 non-null    int64   \n",
            " 6   CoapplicantIncome  513 non-null    float64 \n",
            " 7   LoanAmount         495 non-null    float64 \n",
            " 8   Loan_Amount_Term   499 non-null    float64 \n",
            " 9   Credit_History     470 non-null    category\n",
            " 10  Property_Area      513 non-null    object  \n",
            " 11  Loan_Status        513 non-null    object  \n",
            "dtypes: category(1), float64(3), int64(1), object(7)\n",
            "memory usage: 44.8+ KB\n"
          ]
        }
      ]
    },
    {
      "cell_type": "markdown",
      "metadata": {
        "id": "RpDPJgQzK-mu"
      },
      "source": [
        "## Treat missing data\n",
        "- fill missing categorical data & discrete data with mode\n",
        "- fill missing continuous data with mean\n"
      ]
    },
    {
      "cell_type": "code",
      "metadata": {
        "id": "1ifJSObwK-mv"
      },
      "source": [
        "#Test Your Zaka\n",
        "#at the first convert all object to categorical\n",
        "df[\"Gender\"] = df[\"Gender\"].astype(\"category\")\n",
        "df[\"Married\"] = df[\"Married\"].astype(\"category\")\n",
        "df[\"Dependents\"] = df[\"Dependents\"].astype(\"category\")\n",
        "df[\"Education\"] = df[\"Education\"].astype(\"category\")\n",
        "df[\"Self_Employed\"] = df[\"Self_Employed\"].astype(\"category\")\n",
        "df[\"Property_Area\"] = df[\"Property_Area\"].astype(\"category\")\n"
      ],
      "execution_count": 491,
      "outputs": []
    },
    {
      "cell_type": "markdown",
      "source": [
        "**the miising data in: Gender miss 10, Married miss 3, Dependents miss 12, Self_Employed miss 27, LoanAmount miss 18, Loan_Amount_Term miss 14, Credit_History miss 43**"
      ],
      "metadata": {
        "id": "OflC8J3_Tvtr"
      }
    },
    {
      "cell_type": "code",
      "source": [
        "#fill missing categorical data & discrete data with mode\n",
        "df.Gender.fillna(df.Gender.mode()[0],inplace=True)\n",
        "df.Married.fillna(df.Married.mode()[0],inplace=True)\n",
        "df.Dependents.fillna(df.Dependents.mode()[0],inplace=True)\n",
        "df.Self_Employed.fillna(df.Self_Employed.mode()[0],inplace=True)\n",
        "df.Credit_History.fillna(df.Credit_History.mode()[0],inplace=True)\n"
      ],
      "metadata": {
        "id": "X4ehmPHVTfco"
      },
      "execution_count": 492,
      "outputs": []
    },
    {
      "cell_type": "code",
      "source": [
        "df.columns"
      ],
      "metadata": {
        "colab": {
          "base_uri": "https://localhost:8080/"
        },
        "id": "O4F8eyeCUsad",
        "outputId": "1761664e-b00d-40aa-9f93-f45312dd58cf"
      },
      "execution_count": 493,
      "outputs": [
        {
          "output_type": "execute_result",
          "data": {
            "text/plain": [
              "Index(['Gender', 'Married', 'Dependents', 'Education', 'Self_Employed',\n",
              "       'ApplicantIncome', 'CoapplicantIncome', 'LoanAmount',\n",
              "       'Loan_Amount_Term', 'Credit_History', 'Property_Area', 'Loan_Status'],\n",
              "      dtype='object')"
            ]
          },
          "metadata": {},
          "execution_count": 493
        }
      ]
    },
    {
      "cell_type": "code",
      "source": [
        "#fill missing continuous data with mean\n",
        "df.LoanAmount.fillna(df.LoanAmount.mean(),inplace=True)\n",
        "df.Loan_Amount_Term.fillna(df.Loan_Amount_Term.mean(),inplace=True)"
      ],
      "metadata": {
        "id": "uGn9jhYmUpKM"
      },
      "execution_count": 494,
      "outputs": []
    },
    {
      "cell_type": "markdown",
      "metadata": {
        "id": "x90s4TXqK-mx"
      },
      "source": [
        "## Check if any null value exist"
      ]
    },
    {
      "cell_type": "code",
      "metadata": {
        "id": "lJi4rqkcK-mx",
        "colab": {
          "base_uri": "https://localhost:8080/"
        },
        "outputId": "b06d924d-a3c6-4979-81c9-7b2074288154"
      },
      "source": [
        "#Test Your Zaka\n",
        "df.info()"
      ],
      "execution_count": 495,
      "outputs": [
        {
          "output_type": "stream",
          "name": "stdout",
          "text": [
            "<class 'pandas.core.frame.DataFrame'>\n",
            "RangeIndex: 513 entries, 0 to 512\n",
            "Data columns (total 12 columns):\n",
            " #   Column             Non-Null Count  Dtype   \n",
            "---  ------             --------------  -----   \n",
            " 0   Gender             513 non-null    category\n",
            " 1   Married            513 non-null    category\n",
            " 2   Dependents         513 non-null    category\n",
            " 3   Education          513 non-null    category\n",
            " 4   Self_Employed      513 non-null    category\n",
            " 5   ApplicantIncome    513 non-null    int64   \n",
            " 6   CoapplicantIncome  513 non-null    float64 \n",
            " 7   LoanAmount         513 non-null    float64 \n",
            " 8   Loan_Amount_Term   513 non-null    float64 \n",
            " 9   Credit_History     513 non-null    category\n",
            " 10  Property_Area      513 non-null    category\n",
            " 11  Loan_Status        513 non-null    object  \n",
            "dtypes: category(7), float64(3), int64(1), object(1)\n",
            "memory usage: 24.6+ KB\n"
          ]
        }
      ]
    },
    {
      "cell_type": "markdown",
      "metadata": {
        "id": "p-aMmUFxK-m0"
      },
      "source": [
        "## Encode categorical data"
      ]
    },
    {
      "cell_type": "markdown",
      "metadata": {
        "id": "sdFVf2_y5ztH"
      },
      "source": [
        "Go over your categorical features and encode them (change their values to be numerical to be able to feed them to an algorithm and get a model in the end)"
      ]
    },
    {
      "cell_type": "code",
      "metadata": {
        "id": "glKxNWrh5_9z",
        "colab": {
          "base_uri": "https://localhost:8080/",
          "height": 270
        },
        "outputId": "c3439039-c26f-499e-c77c-bf2bd5d2ebc3"
      },
      "source": [
        "#Test Your Zaka\n",
        "#df.info()\n",
        "#Encode the categorical data which: Gender , Married , Dependents , Education , Self_Employed, Credit_History , Property_Area , Loan_Status\n",
        "le=LabelEncoder()\n",
        "df.Gender=le.fit_transform(df.Gender)\n",
        "df.Married=le.fit_transform(df.Married)\n",
        "df.Dependents=le.fit_transform(df.Dependents)\n",
        "df.Education=le.fit_transform(df.Education)\n",
        "df.Self_Employed=le.fit_transform(df.Self_Employed)\n",
        "df.Credit_History=le.fit_transform(df.Credit_History)\n",
        "df.Property_Area=le.fit_transform(df.Property_Area)\n",
        "df.Loan_Status=le.fit_transform(df.Loan_Status)\n",
        "\n",
        "df.head()"
      ],
      "execution_count": 505,
      "outputs": [
        {
          "output_type": "execute_result",
          "data": {
            "text/html": [
              "\n",
              "  <div id=\"df-9343cbd9-dce1-41c1-939d-073e2e57c14f\">\n",
              "    <div class=\"colab-df-container\">\n",
              "      <div>\n",
              "<style scoped>\n",
              "    .dataframe tbody tr th:only-of-type {\n",
              "        vertical-align: middle;\n",
              "    }\n",
              "\n",
              "    .dataframe tbody tr th {\n",
              "        vertical-align: top;\n",
              "    }\n",
              "\n",
              "    .dataframe thead th {\n",
              "        text-align: right;\n",
              "    }\n",
              "</style>\n",
              "<table border=\"1\" class=\"dataframe\">\n",
              "  <thead>\n",
              "    <tr style=\"text-align: right;\">\n",
              "      <th></th>\n",
              "      <th>Gender</th>\n",
              "      <th>Married</th>\n",
              "      <th>Dependents</th>\n",
              "      <th>Education</th>\n",
              "      <th>Self_Employed</th>\n",
              "      <th>ApplicantIncome</th>\n",
              "      <th>CoapplicantIncome</th>\n",
              "      <th>LoanAmount</th>\n",
              "      <th>Loan_Amount_Term</th>\n",
              "      <th>Credit_History</th>\n",
              "      <th>Property_Area</th>\n",
              "      <th>Loan_Status</th>\n",
              "    </tr>\n",
              "  </thead>\n",
              "  <tbody>\n",
              "    <tr>\n",
              "      <th>0</th>\n",
              "      <td>1</td>\n",
              "      <td>0</td>\n",
              "      <td>0</td>\n",
              "      <td>0</td>\n",
              "      <td>0</td>\n",
              "      <td>5849</td>\n",
              "      <td>0.0</td>\n",
              "      <td>144.739394</td>\n",
              "      <td>360.0</td>\n",
              "      <td>1</td>\n",
              "      <td>2</td>\n",
              "      <td>1</td>\n",
              "    </tr>\n",
              "    <tr>\n",
              "      <th>1</th>\n",
              "      <td>1</td>\n",
              "      <td>1</td>\n",
              "      <td>1</td>\n",
              "      <td>0</td>\n",
              "      <td>0</td>\n",
              "      <td>4583</td>\n",
              "      <td>1508.0</td>\n",
              "      <td>128.000000</td>\n",
              "      <td>360.0</td>\n",
              "      <td>1</td>\n",
              "      <td>0</td>\n",
              "      <td>0</td>\n",
              "    </tr>\n",
              "    <tr>\n",
              "      <th>2</th>\n",
              "      <td>1</td>\n",
              "      <td>1</td>\n",
              "      <td>0</td>\n",
              "      <td>0</td>\n",
              "      <td>1</td>\n",
              "      <td>3000</td>\n",
              "      <td>0.0</td>\n",
              "      <td>66.000000</td>\n",
              "      <td>360.0</td>\n",
              "      <td>1</td>\n",
              "      <td>2</td>\n",
              "      <td>1</td>\n",
              "    </tr>\n",
              "    <tr>\n",
              "      <th>3</th>\n",
              "      <td>1</td>\n",
              "      <td>1</td>\n",
              "      <td>0</td>\n",
              "      <td>1</td>\n",
              "      <td>0</td>\n",
              "      <td>2583</td>\n",
              "      <td>2358.0</td>\n",
              "      <td>120.000000</td>\n",
              "      <td>360.0</td>\n",
              "      <td>1</td>\n",
              "      <td>2</td>\n",
              "      <td>1</td>\n",
              "    </tr>\n",
              "    <tr>\n",
              "      <th>4</th>\n",
              "      <td>1</td>\n",
              "      <td>0</td>\n",
              "      <td>0</td>\n",
              "      <td>0</td>\n",
              "      <td>0</td>\n",
              "      <td>6000</td>\n",
              "      <td>0.0</td>\n",
              "      <td>141.000000</td>\n",
              "      <td>360.0</td>\n",
              "      <td>1</td>\n",
              "      <td>2</td>\n",
              "      <td>1</td>\n",
              "    </tr>\n",
              "  </tbody>\n",
              "</table>\n",
              "</div>\n",
              "      <button class=\"colab-df-convert\" onclick=\"convertToInteractive('df-9343cbd9-dce1-41c1-939d-073e2e57c14f')\"\n",
              "              title=\"Convert this dataframe to an interactive table.\"\n",
              "              style=\"display:none;\">\n",
              "        \n",
              "  <svg xmlns=\"http://www.w3.org/2000/svg\" height=\"24px\"viewBox=\"0 0 24 24\"\n",
              "       width=\"24px\">\n",
              "    <path d=\"M0 0h24v24H0V0z\" fill=\"none\"/>\n",
              "    <path d=\"M18.56 5.44l.94 2.06.94-2.06 2.06-.94-2.06-.94-.94-2.06-.94 2.06-2.06.94zm-11 1L8.5 8.5l.94-2.06 2.06-.94-2.06-.94L8.5 2.5l-.94 2.06-2.06.94zm10 10l.94 2.06.94-2.06 2.06-.94-2.06-.94-.94-2.06-.94 2.06-2.06.94z\"/><path d=\"M17.41 7.96l-1.37-1.37c-.4-.4-.92-.59-1.43-.59-.52 0-1.04.2-1.43.59L10.3 9.45l-7.72 7.72c-.78.78-.78 2.05 0 2.83L4 21.41c.39.39.9.59 1.41.59.51 0 1.02-.2 1.41-.59l7.78-7.78 2.81-2.81c.8-.78.8-2.07 0-2.86zM5.41 20L4 18.59l7.72-7.72 1.47 1.35L5.41 20z\"/>\n",
              "  </svg>\n",
              "      </button>\n",
              "      \n",
              "  <style>\n",
              "    .colab-df-container {\n",
              "      display:flex;\n",
              "      flex-wrap:wrap;\n",
              "      gap: 12px;\n",
              "    }\n",
              "\n",
              "    .colab-df-convert {\n",
              "      background-color: #E8F0FE;\n",
              "      border: none;\n",
              "      border-radius: 50%;\n",
              "      cursor: pointer;\n",
              "      display: none;\n",
              "      fill: #1967D2;\n",
              "      height: 32px;\n",
              "      padding: 0 0 0 0;\n",
              "      width: 32px;\n",
              "    }\n",
              "\n",
              "    .colab-df-convert:hover {\n",
              "      background-color: #E2EBFA;\n",
              "      box-shadow: 0px 1px 2px rgba(60, 64, 67, 0.3), 0px 1px 3px 1px rgba(60, 64, 67, 0.15);\n",
              "      fill: #174EA6;\n",
              "    }\n",
              "\n",
              "    [theme=dark] .colab-df-convert {\n",
              "      background-color: #3B4455;\n",
              "      fill: #D2E3FC;\n",
              "    }\n",
              "\n",
              "    [theme=dark] .colab-df-convert:hover {\n",
              "      background-color: #434B5C;\n",
              "      box-shadow: 0px 1px 3px 1px rgba(0, 0, 0, 0.15);\n",
              "      filter: drop-shadow(0px 1px 2px rgba(0, 0, 0, 0.3));\n",
              "      fill: #FFFFFF;\n",
              "    }\n",
              "  </style>\n",
              "\n",
              "      <script>\n",
              "        const buttonEl =\n",
              "          document.querySelector('#df-9343cbd9-dce1-41c1-939d-073e2e57c14f button.colab-df-convert');\n",
              "        buttonEl.style.display =\n",
              "          google.colab.kernel.accessAllowed ? 'block' : 'none';\n",
              "\n",
              "        async function convertToInteractive(key) {\n",
              "          const element = document.querySelector('#df-9343cbd9-dce1-41c1-939d-073e2e57c14f');\n",
              "          const dataTable =\n",
              "            await google.colab.kernel.invokeFunction('convertToInteractive',\n",
              "                                                     [key], {});\n",
              "          if (!dataTable) return;\n",
              "\n",
              "          const docLinkHtml = 'Like what you see? Visit the ' +\n",
              "            '<a target=\"_blank\" href=https://colab.research.google.com/notebooks/data_table.ipynb>data table notebook</a>'\n",
              "            + ' to learn more about interactive tables.';\n",
              "          element.innerHTML = '';\n",
              "          dataTable['output_type'] = 'display_data';\n",
              "          await google.colab.output.renderOutput(dataTable, element);\n",
              "          const docLink = document.createElement('div');\n",
              "          docLink.innerHTML = docLinkHtml;\n",
              "          element.appendChild(docLink);\n",
              "        }\n",
              "      </script>\n",
              "    </div>\n",
              "  </div>\n",
              "  "
            ],
            "text/plain": [
              "   Gender  Married  Dependents  ...  Credit_History  Property_Area  Loan_Status\n",
              "0       1        0           0  ...               1              2            1\n",
              "1       1        1           1  ...               1              0            0\n",
              "2       1        1           0  ...               1              2            1\n",
              "3       1        1           0  ...               1              2            1\n",
              "4       1        0           0  ...               1              2            1\n",
              "\n",
              "[5 rows x 12 columns]"
            ]
          },
          "metadata": {},
          "execution_count": 505
        }
      ]
    },
    {
      "cell_type": "markdown",
      "metadata": {
        "id": "qjg5n5OfK-m8"
      },
      "source": [
        "## Normalization"
      ]
    },
    {
      "cell_type": "markdown",
      "metadata": {
        "id": "Xkzk1XJBCdUm"
      },
      "source": [
        "Normalize data ranges for all features (e.g., between 0 and 1)\n",
        "First compute the maximum of each feature, and then divide each column by its maximum. After it, describe the data"
      ]
    },
    {
      "cell_type": "code",
      "metadata": {
        "id": "8FDSN28P6bas"
      },
      "source": [
        "#Test Your Zaka\n",
        "mx=df.max()\n",
        "df=df.divide(mx) "
      ],
      "execution_count": 506,
      "outputs": []
    },
    {
      "cell_type": "markdown",
      "metadata": {
        "id": "rW7e-IqSK-nA"
      },
      "source": [
        "# 6. Training & Validating"
      ]
    },
    {
      "cell_type": "markdown",
      "metadata": {
        "id": "a1R3upjnRVks"
      },
      "source": [
        "Create a variable x for the inputs (Fetaures), and a variable y for the output ('Loan_Status')\n",
        "Then, split the data between training (70%) and testing (30%)."
      ]
    },
    {
      "cell_type": "code",
      "metadata": {
        "id": "IfUvvKFTK-nA"
      },
      "source": [
        "#Test Your Zaka\n",
        "x = df.iloc[:,0:-1].values\n",
        "y =df.iloc[:,-1].values \n",
        "\n",
        "x_train, x_test, y_train, y_test = train_test_split(x,y, test_size=0.3, random_state=42)"
      ],
      "execution_count": 585,
      "outputs": []
    },
    {
      "cell_type": "markdown",
      "metadata": {
        "id": "5qIDedqKTtfN"
      },
      "source": [
        "##Creating & Fitting the model"
      ]
    },
    {
      "cell_type": "markdown",
      "metadata": {
        "id": "hWDUL-_y69FP"
      },
      "source": [
        "Create a Logistic Regression Model, and fit it on the training data you have"
      ]
    },
    {
      "cell_type": "code",
      "metadata": {
        "id": "Ejo6DMwoSTbV",
        "colab": {
          "base_uri": "https://localhost:8080/"
        },
        "outputId": "7182f152-7e96-4a8c-b93a-89707bd68739"
      },
      "source": [
        "#Test Your Zaka\n",
        "model = LogisticRegression()\n",
        "model.fit(x_train,y_train)\n",
        "print('Model trained!')"
      ],
      "execution_count": 586,
      "outputs": [
        {
          "output_type": "stream",
          "name": "stdout",
          "text": [
            "Model trained!\n"
          ]
        }
      ]
    },
    {
      "cell_type": "markdown",
      "metadata": {
        "id": "xTy8UkrEUNLM"
      },
      "source": [
        "##Validating the model"
      ]
    },
    {
      "cell_type": "markdown",
      "metadata": {
        "id": "Vs4tVSCL7G8W"
      },
      "source": [
        "Validate your model on the testing data, and compute the accuracy score of your predictions"
      ]
    },
    {
      "cell_type": "code",
      "metadata": {
        "id": "GWFaCCnWUB2y",
        "colab": {
          "base_uri": "https://localhost:8080/"
        },
        "outputId": "48216ab6-b7de-49c1-fce3-4b984a8ee775"
      },
      "source": [
        "#Test Your Zaka\n",
        "print('Model score {}'.format(model.score(x_test,y_test)))"
      ],
      "execution_count": 587,
      "outputs": [
        {
          "output_type": "stream",
          "name": "stdout",
          "text": [
            "Model score 0.7857142857142857\n"
          ]
        }
      ]
    },
    {
      "cell_type": "markdown",
      "metadata": {
        "id": "VaHFGXcVUdBb"
      },
      "source": [
        "#7. Feature Importance"
      ]
    },
    {
      "cell_type": "markdown",
      "metadata": {
        "id": "rsx4xYBAUtv9"
      },
      "source": [
        "Evaluate the feature importance in your resulting model, and plot it"
      ]
    },
    {
      "cell_type": "code",
      "metadata": {
        "id": "N63Z5NZ3US-W",
        "colab": {
          "base_uri": "https://localhost:8080/",
          "height": 399
        },
        "outputId": "c0c2c075-e7eb-446e-b5a3-5d2935378d87"
      },
      "source": [
        "#Test Your Zaka\n",
        "columns_names = df.columns[0:-1].values\n",
        "features_importance = model.coef_[0]\n",
        "\n",
        "print(columns_names)\n",
        "print()\n",
        "print(features_importance)\n",
        "plt.barh(columns_names,abs(features_importance))\n",
        "plt.title('Features Importance')\n",
        "plt.xlabel('importance')\n",
        "plt.ylabel('feature')\n",
        "plt.show()\n",
        "\n"
      ],
      "execution_count": 601,
      "outputs": [
        {
          "output_type": "stream",
          "name": "stdout",
          "text": [
            "['Gender' 'Married' 'Dependents' 'Education' 'Self_Employed'\n",
            " 'ApplicantIncome' 'CoapplicantIncome' 'LoanAmount' 'Loan_Amount_Term'\n",
            " 'Credit_History' 'Property_Area']\n",
            "\n",
            "[-0.42333874  0.39012729  0.20773628 -0.33611943 -0.04353165 -0.14714813\n",
            "  0.41916829 -0.79993131 -0.39001383  3.14792856  0.01647172]\n"
          ]
        },
        {
          "output_type": "display_data",
          "data": {
            "image/png": "[encoded data removed]",
            "text/plain": [
              "<Figure size 432x288 with 1 Axes>"
            ]
          },
          "metadata": {
            "needs_background": "light"
          }
        }
      ]
    },
    {
      "cell_type": "markdown",
      "metadata": {
        "id": "PUdgyH7zU1v1"
      },
      "source": [
        "What's the most important feature?"
      ]
    },
    {
      "cell_type": "markdown",
      "metadata": {
        "id": "cKeVLm58H5gJ"
      },
      "source": [
        "**The credit Score, also,we can remove Property Area from the model**"
      ]
    }
  ]
}