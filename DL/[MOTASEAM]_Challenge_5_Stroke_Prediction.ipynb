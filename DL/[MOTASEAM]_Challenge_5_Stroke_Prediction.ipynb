{
  "nbformat": 4,
  "nbformat_minor": 0,
  "metadata": {
    "colab": {
      "name": "[MOTASEAM]_Challenge_5_Stroke_Prediction.ipynb",
      "provenance": [],
      "collapsed_sections": [
        "nkrEh6RYygms",
        "Qs4Tnvhbk-Ew",
        "21da4C_Bzd-u",
        "d1GOfAgt4M-Q",
        "KICuY0lg5nUD",
        "AD57fE2n7QP4",
        "U5zevRH57X8v",
        "IImSYWQGBSz6",
        "ngJVLbRKG7U_",
        "mXf6cpO_KWTs"
      ]
    },
    "kernelspec": {
      "name": "python3",
      "display_name": "Python 3"
    },
    "language_info": {
      "name": "python"
    }
  },
  "cells": [
    {
      "cell_type": "markdown",
      "metadata": {
        "id": "0g2RQRSltgja"
      },
      "source": [
        "# **Challenge of the Week: Full DL Solution**\n",
        "\n",
        "---\n",
        "###**Case Study:** Stroke Prediction\n",
        "\n",
        "**Objective:** The goal of this challenge is to walk you through a case study where you can apply the deep learning concepts that you learned about during the week. By the end of this challenge, you would have developed a solution that predicts if a person will have a stroke or not.\n"
      ]
    },
    {
      "cell_type": "markdown",
      "metadata": {
        "id": "SSCD88NxJjFo"
      },
      "source": [
        "**Dataset Explanation:** We will be using the stroke dataset. Its features are:\n",
        "\n",
        "\n",
        "* **id:** unique identifier\n",
        "* **gender:** \"Male\", \"Female\" or \"Other\"\n",
        "* **age:** age of the patient\n",
        "* **hypertension:** 0 if the patient doesn't have hypertension, 1 if the patient has hypertension\n",
        "* **heart_disease:** 0 if the patient doesn't have any heart diseases, 1 if the patient has a heart disease\n",
        "* **ever_married:** \"No\" or \"Yes\"\n",
        "* **work_type:** \"children\", \"Govt_jov\", \"Never_worked\", \"Private\" or \"Self-employed\"\n",
        "* **Residence_type:** \"Rural\" or \"Urban\"\n",
        "* **avg_glucose_level:** average glucose level in blood\n",
        "* **bmi:** body mass index\n",
        "* **smoking_status:** \"formerly smoked\", \"never smoked\", \"smokes\" or \"Unknown\"*\n",
        "* **stroke:** 1 if the patient had a stroke or 0 if not"
      ]
    },
    {
      "cell_type": "markdown",
      "metadata": {
        "id": "gBvX5nCYt8cT"
      },
      "source": [
        "#Importing Libraries"
      ]
    },
    {
      "cell_type": "markdown",
      "metadata": {
        "id": "JaPfsfvXK2_0"
      },
      "source": [
        "We start by importing the libraries: numpy and pandas"
      ]
    },
    {
      "cell_type": "code",
      "metadata": {
        "id": "mMQuUG7OtfrG"
      },
      "source": [
        "#Test Your Zaka\n",
        "import pandas as pd\n",
        "import numpy as np"
      ],
      "execution_count": 3,
      "outputs": []
    },
    {
      "cell_type": "markdown",
      "metadata": {
        "id": "0-RxAH5auFFy"
      },
      "source": [
        "#Loading the Dataset"
      ]
    },
    {
      "cell_type": "markdown",
      "metadata": {
        "id": "z_jj2t6zK6zy"
      },
      "source": [
        "We load the dataset from a csv file, and see its first rows"
      ]
    },
    {
      "cell_type": "code",
      "metadata": {
        "id": "UQVo1CAJt7s8",
        "colab": {
          "base_uri": "https://localhost:8080/",
          "height": 206
        },
        "outputId": "db536ea0-b761-4310-8335-33085f08e922"
      },
      "source": [
        "#Test Your Zaka\n",
        "df=pd.read_csv(\"/content/healthcare-dataset-stroke-data.csv\")\n",
        "df.head()"
      ],
      "execution_count": 4,
      "outputs": [
        {
          "output_type": "execute_result",
          "data": {
            "text/plain": [
              "      id  gender   age  hypertension  heart_disease ever_married  \\\n",
              "0   9046    Male  67.0             0              1          Yes   \n",
              "1  51676  Female  61.0             0              0          Yes   \n",
              "2  31112    Male  80.0             0              1          Yes   \n",
              "3  60182  Female  49.0             0              0          Yes   \n",
              "4   1665  Female  79.0             1              0          Yes   \n",
              "\n",
              "       work_type Residence_type  avg_glucose_level   bmi   smoking_status  \\\n",
              "0        Private          Urban             228.69  36.6  formerly smoked   \n",
              "1  Self-employed          Rural             202.21   NaN     never smoked   \n",
              "2        Private          Rural             105.92  32.5     never smoked   \n",
              "3        Private          Urban             171.23  34.4           smokes   \n",
              "4  Self-employed          Rural             174.12  24.0     never smoked   \n",
              "\n",
              "   stroke  \n",
              "0       1  \n",
              "1       1  \n",
              "2       1  \n",
              "3       1  \n",
              "4       1  "
            ],
            "text/html": [
              "\n",
              "  <div id=\"df-f5b579a5-8b7b-46fd-89f1-dd1697dc5459\">\n",
              "    <div class=\"colab-df-container\">\n",
              "      <div>\n",
              "<style scoped>\n",
              "    .dataframe tbody tr th:only-of-type {\n",
              "        vertical-align: middle;\n",
              "    }\n",
              "\n",
              "    .dataframe tbody tr th {\n",
              "        vertical-align: top;\n",
              "    }\n",
              "\n",
              "    .dataframe thead th {\n",
              "        text-align: right;\n",
              "    }\n",
              "</style>\n",
              "<table border=\"1\" class=\"dataframe\">\n",
              "  <thead>\n",
              "    <tr style=\"text-align: right;\">\n",
              "      <th></th>\n",
              "      <th>id</th>\n",
              "      <th>gender</th>\n",
              "      <th>age</th>\n",
              "      <th>hypertension</th>\n",
              "      <th>heart_disease</th>\n",
              "      <th>ever_married</th>\n",
              "      <th>work_type</th>\n",
              "      <th>Residence_type</th>\n",
              "      <th>avg_glucose_level</th>\n",
              "      <th>bmi</th>\n",
              "      <th>smoking_status</th>\n",
              "      <th>stroke</th>\n",
              "    </tr>\n",
              "  </thead>\n",
              "  <tbody>\n",
              "    <tr>\n",
              "      <th>0</th>\n",
              "      <td>9046</td>\n",
              "      <td>Male</td>\n",
              "      <td>67.0</td>\n",
              "      <td>0</td>\n",
              "      <td>1</td>\n",
              "      <td>Yes</td>\n",
              "      <td>Private</td>\n",
              "      <td>Urban</td>\n",
              "      <td>228.69</td>\n",
              "      <td>36.6</td>\n",
              "      <td>formerly smoked</td>\n",
              "      <td>1</td>\n",
              "    </tr>\n",
              "    <tr>\n",
              "      <th>1</th>\n",
              "      <td>51676</td>\n",
              "      <td>Female</td>\n",
              "      <td>61.0</td>\n",
              "      <td>0</td>\n",
              "      <td>0</td>\n",
              "      <td>Yes</td>\n",
              "      <td>Self-employed</td>\n",
              "      <td>Rural</td>\n",
              "      <td>202.21</td>\n",
              "      <td>NaN</td>\n",
              "      <td>never smoked</td>\n",
              "      <td>1</td>\n",
              "    </tr>\n",
              "    <tr>\n",
              "      <th>2</th>\n",
              "      <td>31112</td>\n",
              "      <td>Male</td>\n",
              "      <td>80.0</td>\n",
              "      <td>0</td>\n",
              "      <td>1</td>\n",
              "      <td>Yes</td>\n",
              "      <td>Private</td>\n",
              "      <td>Rural</td>\n",
              "      <td>105.92</td>\n",
              "      <td>32.5</td>\n",
              "      <td>never smoked</td>\n",
              "      <td>1</td>\n",
              "    </tr>\n",
              "    <tr>\n",
              "      <th>3</th>\n",
              "      <td>60182</td>\n",
              "      <td>Female</td>\n",
              "      <td>49.0</td>\n",
              "      <td>0</td>\n",
              "      <td>0</td>\n",
              "      <td>Yes</td>\n",
              "      <td>Private</td>\n",
              "      <td>Urban</td>\n",
              "      <td>171.23</td>\n",
              "      <td>34.4</td>\n",
              "      <td>smokes</td>\n",
              "      <td>1</td>\n",
              "    </tr>\n",
              "    <tr>\n",
              "      <th>4</th>\n",
              "      <td>1665</td>\n",
              "      <td>Female</td>\n",
              "      <td>79.0</td>\n",
              "      <td>1</td>\n",
              "      <td>0</td>\n",
              "      <td>Yes</td>\n",
              "      <td>Self-employed</td>\n",
              "      <td>Rural</td>\n",
              "      <td>174.12</td>\n",
              "      <td>24.0</td>\n",
              "      <td>never smoked</td>\n",
              "      <td>1</td>\n",
              "    </tr>\n",
              "  </tbody>\n",
              "</table>\n",
              "</div>\n",
              "      <button class=\"colab-df-convert\" onclick=\"convertToInteractive('df-f5b579a5-8b7b-46fd-89f1-dd1697dc5459')\"\n",
              "              title=\"Convert this dataframe to an interactive table.\"\n",
              "              style=\"display:none;\">\n",
              "        \n",
              "  <svg xmlns=\"http://www.w3.org/2000/svg\" height=\"24px\"viewBox=\"0 0 24 24\"\n",
              "       width=\"24px\">\n",
              "    <path d=\"M0 0h24v24H0V0z\" fill=\"none\"/>\n",
              "    <path d=\"M18.56 5.44l.94 2.06.94-2.06 2.06-.94-2.06-.94-.94-2.06-.94 2.06-2.06.94zm-11 1L8.5 8.5l.94-2.06 2.06-.94-2.06-.94L8.5 2.5l-.94 2.06-2.06.94zm10 10l.94 2.06.94-2.06 2.06-.94-2.06-.94-.94-2.06-.94 2.06-2.06.94z\"/><path d=\"M17.41 7.96l-1.37-1.37c-.4-.4-.92-.59-1.43-.59-.52 0-1.04.2-1.43.59L10.3 9.45l-7.72 7.72c-.78.78-.78 2.05 0 2.83L4 21.41c.39.39.9.59 1.41.59.51 0 1.02-.2 1.41-.59l7.78-7.78 2.81-2.81c.8-.78.8-2.07 0-2.86zM5.41 20L4 18.59l7.72-7.72 1.47 1.35L5.41 20z\"/>\n",
              "  </svg>\n",
              "      </button>\n",
              "      \n",
              "  <style>\n",
              "    .colab-df-container {\n",
              "      display:flex;\n",
              "      flex-wrap:wrap;\n",
              "      gap: 12px;\n",
              "    }\n",
              "\n",
              "    .colab-df-convert {\n",
              "      background-color: #E8F0FE;\n",
              "      border: none;\n",
              "      border-radius: 50%;\n",
              "      cursor: pointer;\n",
              "      display: none;\n",
              "      fill: #1967D2;\n",
              "      height: 32px;\n",
              "      padding: 0 0 0 0;\n",
              "      width: 32px;\n",
              "    }\n",
              "\n",
              "    .colab-df-convert:hover {\n",
              "      background-color: #E2EBFA;\n",
              "      box-shadow: 0px 1px 2px rgba(60, 64, 67, 0.3), 0px 1px 3px 1px rgba(60, 64, 67, 0.15);\n",
              "      fill: #174EA6;\n",
              "    }\n",
              "\n",
              "    [theme=dark] .colab-df-convert {\n",
              "      background-color: #3B4455;\n",
              "      fill: #D2E3FC;\n",
              "    }\n",
              "\n",
              "    [theme=dark] .colab-df-convert:hover {\n",
              "      background-color: #434B5C;\n",
              "      box-shadow: 0px 1px 3px 1px rgba(0, 0, 0, 0.15);\n",
              "      filter: drop-shadow(0px 1px 2px rgba(0, 0, 0, 0.3));\n",
              "      fill: #FFFFFF;\n",
              "    }\n",
              "  </style>\n",
              "\n",
              "      <script>\n",
              "        const buttonEl =\n",
              "          document.querySelector('#df-f5b579a5-8b7b-46fd-89f1-dd1697dc5459 button.colab-df-convert');\n",
              "        buttonEl.style.display =\n",
              "          google.colab.kernel.accessAllowed ? 'block' : 'none';\n",
              "\n",
              "        async function convertToInteractive(key) {\n",
              "          const element = document.querySelector('#df-f5b579a5-8b7b-46fd-89f1-dd1697dc5459');\n",
              "          const dataTable =\n",
              "            await google.colab.kernel.invokeFunction('convertToInteractive',\n",
              "                                                     [key], {});\n",
              "          if (!dataTable) return;\n",
              "\n",
              "          const docLinkHtml = 'Like what you see? Visit the ' +\n",
              "            '<a target=\"_blank\" href=https://colab.research.google.com/notebooks/data_table.ipynb>data table notebook</a>'\n",
              "            + ' to learn more about interactive tables.';\n",
              "          element.innerHTML = '';\n",
              "          dataTable['output_type'] = 'display_data';\n",
              "          await google.colab.output.renderOutput(dataTable, element);\n",
              "          const docLink = document.createElement('div');\n",
              "          docLink.innerHTML = docLinkHtml;\n",
              "          element.appendChild(docLink);\n",
              "        }\n",
              "      </script>\n",
              "    </div>\n",
              "  </div>\n",
              "  "
            ]
          },
          "metadata": {},
          "execution_count": 4
        }
      ]
    },
    {
      "cell_type": "markdown",
      "metadata": {
        "id": "r6gAyBGtubI7"
      },
      "source": [
        "#Exploratory Data Analysis"
      ]
    },
    {
      "cell_type": "markdown",
      "metadata": {
        "id": "XZ_93CvuLF3j"
      },
      "source": [
        "Now we start the exploratory data analysis."
      ]
    },
    {
      "cell_type": "markdown",
      "metadata": {
        "id": "2925yVCdud0a"
      },
      "source": [
        "###Shape of the data"
      ]
    },
    {
      "cell_type": "markdown",
      "metadata": {
        "id": "yZ0hWvVALJy4"
      },
      "source": [
        "First, you need to know the shape of our data (How many examples and features do we have)"
      ]
    },
    {
      "cell_type": "code",
      "metadata": {
        "id": "8pvWR3PKuQEy",
        "colab": {
          "base_uri": "https://localhost:8080/"
        },
        "outputId": "fbfdab52-7131-4047-b03e-99cc36acd9c9"
      },
      "source": [
        "#Test Your Zaka\n",
        "print(\"The number of the samples are : \",df.shape[0])\n",
        "print(\"The number of the Features are : \",df.shape[1])"
      ],
      "execution_count": 5,
      "outputs": [
        {
          "output_type": "stream",
          "name": "stdout",
          "text": [
            "The number of the samples are :  5110\n",
            "The number of the Features are :  12\n"
          ]
        }
      ]
    },
    {
      "cell_type": "markdown",
      "metadata": {
        "id": "yUy4oI5xukRr"
      },
      "source": [
        "###Types of different Columns"
      ]
    },
    {
      "cell_type": "markdown",
      "metadata": {
        "id": "G1q10ievLTTs"
      },
      "source": [
        "See the type of each of your features and see if you have any nulls"
      ]
    },
    {
      "cell_type": "code",
      "metadata": {
        "id": "_8snoohouhUP",
        "colab": {
          "base_uri": "https://localhost:8080/"
        },
        "outputId": "9bce311c-3bea-4625-ab1b-20f5a419dbf2"
      },
      "source": [
        "#Test Your Zaka\n",
        "df.info()"
      ],
      "execution_count": 6,
      "outputs": [
        {
          "output_type": "stream",
          "name": "stdout",
          "text": [
            "<class 'pandas.core.frame.DataFrame'>\n",
            "RangeIndex: 5110 entries, 0 to 5109\n",
            "Data columns (total 12 columns):\n",
            " #   Column             Non-Null Count  Dtype  \n",
            "---  ------             --------------  -----  \n",
            " 0   id                 5110 non-null   int64  \n",
            " 1   gender             5110 non-null   object \n",
            " 2   age                5110 non-null   float64\n",
            " 3   hypertension       5110 non-null   int64  \n",
            " 4   heart_disease      5110 non-null   int64  \n",
            " 5   ever_married       5110 non-null   object \n",
            " 6   work_type          5110 non-null   object \n",
            " 7   Residence_type     5110 non-null   object \n",
            " 8   avg_glucose_level  5110 non-null   float64\n",
            " 9   bmi                4909 non-null   float64\n",
            " 10  smoking_status     5110 non-null   object \n",
            " 11  stroke             5110 non-null   int64  \n",
            "dtypes: float64(3), int64(4), object(5)\n",
            "memory usage: 479.2+ KB\n"
          ]
        }
      ]
    },
    {
      "cell_type": "markdown",
      "source": [
        "**The BMI has missing values (201 value)**"
      ],
      "metadata": {
        "id": "v3w80CwWRegr"
      }
    },
    {
      "cell_type": "code",
      "source": [
        "df.isnull().sum(axis = 0)"
      ],
      "metadata": {
        "colab": {
          "base_uri": "https://localhost:8080/"
        },
        "id": "86_7gtO0R7ds",
        "outputId": "4f7241f8-9817-4c39-cf5d-e2846000f9b6"
      },
      "execution_count": 7,
      "outputs": [
        {
          "output_type": "execute_result",
          "data": {
            "text/plain": [
              "id                     0\n",
              "gender                 0\n",
              "age                    0\n",
              "hypertension           0\n",
              "heart_disease          0\n",
              "ever_married           0\n",
              "work_type              0\n",
              "Residence_type         0\n",
              "avg_glucose_level      0\n",
              "bmi                  201\n",
              "smoking_status         0\n",
              "stroke                 0\n",
              "dtype: int64"
            ]
          },
          "metadata": {},
          "execution_count": 7
        }
      ]
    },
    {
      "cell_type": "markdown",
      "metadata": {
        "id": "nkrEh6RYygms"
      },
      "source": [
        "###Dealing with categorical variables"
      ]
    },
    {
      "cell_type": "markdown",
      "source": [
        "**# the categorical Fetures we have in the Data are: gender , ever_married , work_type ,Residence_type , smoking_status, also: hypertension\theart_disease stroke**"
      ],
      "metadata": {
        "id": "Tit7VHIqTTex"
      }
    },
    {
      "cell_type": "markdown",
      "metadata": {
        "id": "Z7rtFrHVLg5U"
      },
      "source": [
        "Now we will walk through the categorical variables that we have to see the categories and the counts of each of them."
      ]
    },
    {
      "cell_type": "markdown",
      "metadata": {
        "id": "c5uIMEU-gYEJ"
      },
      "source": [
        "'smoking_status'"
      ]
    },
    {
      "cell_type": "code",
      "metadata": {
        "id": "DlSfSQ35ykgc",
        "colab": {
          "base_uri": "https://localhost:8080/"
        },
        "outputId": "ae57c64d-486e-4875-8730-306f31324791"
      },
      "source": [
        "#Test Your Zaka\n",
        "df['smoking_status'].value_counts()"
      ],
      "execution_count": 8,
      "outputs": [
        {
          "output_type": "execute_result",
          "data": {
            "text/plain": [
              "never smoked       1892\n",
              "Unknown            1544\n",
              "formerly smoked     885\n",
              "smokes              789\n",
              "Name: smoking_status, dtype: int64"
            ]
          },
          "metadata": {},
          "execution_count": 8
        }
      ]
    },
    {
      "cell_type": "markdown",
      "metadata": {
        "id": "Z1yf6OU5geTr"
      },
      "source": [
        "'Residence_type'"
      ]
    },
    {
      "cell_type": "code",
      "metadata": {
        "id": "Yg0xlLNUy7AF",
        "colab": {
          "base_uri": "https://localhost:8080/"
        },
        "outputId": "b50c7642-8fa0-45b3-c748-72a845a2939a"
      },
      "source": [
        "#Test Your Zaka\n",
        "df['Residence_type'].value_counts()"
      ],
      "execution_count": 9,
      "outputs": [
        {
          "output_type": "execute_result",
          "data": {
            "text/plain": [
              "Urban    2596\n",
              "Rural    2514\n",
              "Name: Residence_type, dtype: int64"
            ]
          },
          "metadata": {},
          "execution_count": 9
        }
      ]
    },
    {
      "cell_type": "markdown",
      "metadata": {
        "id": "82ovosaVgjC8"
      },
      "source": [
        "'work_type'"
      ]
    },
    {
      "cell_type": "code",
      "metadata": {
        "id": "T72r_mkrzF9V",
        "colab": {
          "base_uri": "https://localhost:8080/"
        },
        "outputId": "28528a73-9dc2-4176-8e6f-30a19fe3cce8"
      },
      "source": [
        "#Test Your Zaka\n",
        "df['work_type'].value_counts()"
      ],
      "execution_count": 10,
      "outputs": [
        {
          "output_type": "execute_result",
          "data": {
            "text/plain": [
              "Private          2925\n",
              "Self-employed     819\n",
              "children          687\n",
              "Govt_job          657\n",
              "Never_worked       22\n",
              "Name: work_type, dtype: int64"
            ]
          },
          "metadata": {},
          "execution_count": 10
        }
      ]
    },
    {
      "cell_type": "markdown",
      "metadata": {
        "id": "0oa7__UPgnu8"
      },
      "source": [
        "'ever_married'"
      ]
    },
    {
      "cell_type": "code",
      "metadata": {
        "id": "Z0kpR57LzQE9",
        "colab": {
          "base_uri": "https://localhost:8080/"
        },
        "outputId": "972de32b-5957-4738-d645-1b8709bf4387"
      },
      "source": [
        "#Test Your Zaka\n",
        "df['ever_married'].value_counts()"
      ],
      "execution_count": 11,
      "outputs": [
        {
          "output_type": "execute_result",
          "data": {
            "text/plain": [
              "Yes    3353\n",
              "No     1757\n",
              "Name: ever_married, dtype: int64"
            ]
          },
          "metadata": {},
          "execution_count": 11
        }
      ]
    },
    {
      "cell_type": "markdown",
      "metadata": {
        "id": "LqUD-N4ygrxB"
      },
      "source": [
        "'hypertension'"
      ]
    },
    {
      "cell_type": "code",
      "metadata": {
        "id": "fQIoAs8y3igG",
        "colab": {
          "base_uri": "https://localhost:8080/"
        },
        "outputId": "0b2cffce-8e43-4b73-c8da-032ecb3208f6"
      },
      "source": [
        "#Test Your Zaka\n",
        "df['hypertension'].value_counts()"
      ],
      "execution_count": 12,
      "outputs": [
        {
          "output_type": "execute_result",
          "data": {
            "text/plain": [
              "0    4612\n",
              "1     498\n",
              "Name: hypertension, dtype: int64"
            ]
          },
          "metadata": {},
          "execution_count": 12
        }
      ]
    },
    {
      "cell_type": "markdown",
      "metadata": {
        "id": "NmyP9Nfsg29X"
      },
      "source": [
        "'heart_disease'"
      ]
    },
    {
      "cell_type": "code",
      "metadata": {
        "id": "xEhNH46j3p3Y",
        "colab": {
          "base_uri": "https://localhost:8080/"
        },
        "outputId": "a0758e50-c17e-4137-a9a5-c9a140a42f44"
      },
      "source": [
        "#Test Your Zaka\n",
        "df['heart_disease'].value_counts()"
      ],
      "execution_count": 13,
      "outputs": [
        {
          "output_type": "execute_result",
          "data": {
            "text/plain": [
              "0    4834\n",
              "1     276\n",
              "Name: heart_disease, dtype: int64"
            ]
          },
          "metadata": {},
          "execution_count": 13
        }
      ]
    },
    {
      "cell_type": "code",
      "source": [
        "#Gender check\n",
        "df['gender'].value_counts()"
      ],
      "metadata": {
        "colab": {
          "base_uri": "https://localhost:8080/"
        },
        "id": "eINuceSPX_ur",
        "outputId": "131c0a5d-58d3-458d-8b4d-70ccedfd7558"
      },
      "execution_count": 14,
      "outputs": [
        {
          "output_type": "execute_result",
          "data": {
            "text/plain": [
              "Female    2994\n",
              "Male      2115\n",
              "Other        1\n",
              "Name: gender, dtype: int64"
            ]
          },
          "metadata": {},
          "execution_count": 14
        }
      ]
    },
    {
      "cell_type": "markdown",
      "source": [
        "**From the previoues there a clear bias in the data through: hypertension 0, heart_disease 0**"
      ],
      "metadata": {
        "id": "lNbdrHXPTncA"
      }
    },
    {
      "cell_type": "markdown",
      "metadata": {
        "id": "x8Oql1Xag94S"
      },
      "source": [
        "'stroke'"
      ]
    },
    {
      "cell_type": "code",
      "metadata": {
        "id": "8cI7uJvA3Njv",
        "colab": {
          "base_uri": "https://localhost:8080/"
        },
        "outputId": "6e3903bc-95b0-45a7-f16c-3197928f28c6"
      },
      "source": [
        "#Test Your Zaka\n",
        "df['stroke'].value_counts()"
      ],
      "execution_count": 15,
      "outputs": [
        {
          "output_type": "execute_result",
          "data": {
            "text/plain": [
              "0    4861\n",
              "1     249\n",
              "Name: stroke, dtype: int64"
            ]
          },
          "metadata": {},
          "execution_count": 15
        }
      ]
    },
    {
      "cell_type": "markdown",
      "source": [
        "**Unbalance Data: Bias from 0**"
      ],
      "metadata": {
        "id": "ALFeZMKUT8UP"
      }
    },
    {
      "cell_type": "markdown",
      "metadata": {
        "id": "D6jD-fR_k49a"
      },
      "source": [
        "#Preprocessing"
      ]
    },
    {
      "cell_type": "markdown",
      "metadata": {
        "id": "Qs4Tnvhbk-Ew"
      },
      "source": [
        "###Dealing with Nulls"
      ]
    },
    {
      "cell_type": "markdown",
      "metadata": {
        "id": "21da4C_Bzd-u"
      },
      "source": [
        "####Encoding Categorical Features"
      ]
    },
    {
      "cell_type": "markdown",
      "metadata": {
        "id": "UaNk4gWCLqe4"
      },
      "source": [
        "Here you will encode those categorical variables to be able to use them to train our DL model."
      ]
    },
    {
      "cell_type": "code",
      "metadata": {
        "id": "6nJtOvxdzi_G",
        "colab": {
          "base_uri": "https://localhost:8080/"
        },
        "outputId": "b589b3d2-016a-49ab-b42b-b62397f5be2f"
      },
      "source": [
        "#Test Your Zaka\n",
        "###gender , ever_married , work_type ,Residence_type , smoking_status###\n",
        "from sklearn.preprocessing import LabelEncoder\n",
        "le= LabelEncoder()\n",
        "df.gender=le.fit_transform(df.gender)\n",
        "df.ever_married=le.fit_transform(df.ever_married)\n",
        "df.work_type=le.fit_transform(df.work_type)\n",
        "df.Residence_type=le.fit_transform(df.Residence_type)\n",
        "df.smoking_status=le.fit_transform(df.smoking_status)\n",
        "df.info()"
      ],
      "execution_count": 16,
      "outputs": [
        {
          "output_type": "stream",
          "name": "stdout",
          "text": [
            "<class 'pandas.core.frame.DataFrame'>\n",
            "RangeIndex: 5110 entries, 0 to 5109\n",
            "Data columns (total 12 columns):\n",
            " #   Column             Non-Null Count  Dtype  \n",
            "---  ------             --------------  -----  \n",
            " 0   id                 5110 non-null   int64  \n",
            " 1   gender             5110 non-null   int64  \n",
            " 2   age                5110 non-null   float64\n",
            " 3   hypertension       5110 non-null   int64  \n",
            " 4   heart_disease      5110 non-null   int64  \n",
            " 5   ever_married       5110 non-null   int64  \n",
            " 6   work_type          5110 non-null   int64  \n",
            " 7   Residence_type     5110 non-null   int64  \n",
            " 8   avg_glucose_level  5110 non-null   float64\n",
            " 9   bmi                4909 non-null   float64\n",
            " 10  smoking_status     5110 non-null   int64  \n",
            " 11  stroke             5110 non-null   int64  \n",
            "dtypes: float64(3), int64(9)\n",
            "memory usage: 479.2 KB\n"
          ]
        }
      ]
    },
    {
      "cell_type": "markdown",
      "metadata": {
        "id": "RtJKDDePlHJl"
      },
      "source": [
        "Fill the nulls with the mean value, and make sure you have no nulls anymore"
      ]
    },
    {
      "cell_type": "code",
      "metadata": {
        "id": "uOUE6TcrlIRo"
      },
      "source": [
        "#Test Your Zaka\n",
        "df.bmi.fillna(df.bmi.mean(),inplace=True) "
      ],
      "execution_count": 17,
      "outputs": []
    },
    {
      "cell_type": "code",
      "source": [
        "df.isnull().sum(axis = 0)"
      ],
      "metadata": {
        "colab": {
          "base_uri": "https://localhost:8080/"
        },
        "id": "kkC1r2ldVwqP",
        "outputId": "18f26b71-316a-427b-bbdb-fdb4c0505d25"
      },
      "execution_count": 18,
      "outputs": [
        {
          "output_type": "execute_result",
          "data": {
            "text/plain": [
              "id                   0\n",
              "gender               0\n",
              "age                  0\n",
              "hypertension         0\n",
              "heart_disease        0\n",
              "ever_married         0\n",
              "work_type            0\n",
              "Residence_type       0\n",
              "avg_glucose_level    0\n",
              "bmi                  0\n",
              "smoking_status       0\n",
              "stroke               0\n",
              "dtype: int64"
            ]
          },
          "metadata": {},
          "execution_count": 18
        }
      ]
    },
    {
      "cell_type": "markdown",
      "metadata": {
        "id": "d1GOfAgt4M-Q"
      },
      "source": [
        "###Normalizing Features"
      ]
    },
    {
      "cell_type": "markdown",
      "metadata": {
        "id": "EPpkMCXELwty"
      },
      "source": [
        "Now you normalize the input data by dividing with the max value of each column."
      ]
    },
    {
      "cell_type": "code",
      "metadata": {
        "id": "BtI_XA-m33Bx",
        "colab": {
          "base_uri": "https://localhost:8080/"
        },
        "outputId": "f7049da3-c5ec-4e43-da73-1b4576171023"
      },
      "source": [
        "#Test Your Zaka\n",
        "from sklearn.preprocessing import MinMaxScaler\n",
        "scaler = MinMaxScaler()\n",
        "# transform data\n",
        "scaled = scaler.fit_transform(df)\n",
        "print(scaled)"
      ],
      "execution_count": 19,
      "outputs": [
        {
          "output_type": "stream",
          "name": "stdout",
          "text": [
            "[[0.12321436 0.5        0.81689453 ... 0.30126002 0.33333333 1.        ]\n",
            " [0.70820468 0.         0.74365234 ... 0.21298095 0.66666667 1.        ]\n",
            " [0.42601512 0.5        0.97558594 ... 0.25429553 0.66666667 1.        ]\n",
            " ...\n",
            " [0.26972953 0.         0.42626953 ... 0.2325315  0.66666667 0.        ]\n",
            " [0.51427826 0.5        0.62158203 ... 0.17525773 0.33333333 0.        ]\n",
            " [0.61218833 0.         0.53613281 ... 0.18213058 0.         0.        ]]\n"
          ]
        }
      ]
    },
    {
      "cell_type": "markdown",
      "metadata": {
        "id": "KICuY0lg5nUD"
      },
      "source": [
        "###Removing Unnecessary Features"
      ]
    },
    {
      "cell_type": "markdown",
      "metadata": {
        "id": "ua71U2YxL5Ls"
      },
      "source": [
        "From the features that we have, remove one that is irrelevant for our predictions"
      ]
    },
    {
      "cell_type": "code",
      "metadata": {
        "id": "8AHNqYbh5sE7",
        "colab": {
          "base_uri": "https://localhost:8080/",
          "height": 0
        },
        "outputId": "db44bbae-c60b-4251-c264-891a7ddc2d2b"
      },
      "source": [
        "#Test Your Zaka\n",
        "#clearly the id \n",
        "df.drop('id',axis=1, inplace=True)\n",
        "df.head()"
      ],
      "execution_count": 20,
      "outputs": [
        {
          "output_type": "execute_result",
          "data": {
            "text/plain": [
              "   gender   age  hypertension  heart_disease  ever_married  work_type  \\\n",
              "0       1  67.0             0              1             1          2   \n",
              "1       0  61.0             0              0             1          3   \n",
              "2       1  80.0             0              1             1          2   \n",
              "3       0  49.0             0              0             1          2   \n",
              "4       0  79.0             1              0             1          3   \n",
              "\n",
              "   Residence_type  avg_glucose_level        bmi  smoking_status  stroke  \n",
              "0               1             228.69  36.600000               1       1  \n",
              "1               0             202.21  28.893237               2       1  \n",
              "2               0             105.92  32.500000               2       1  \n",
              "3               1             171.23  34.400000               3       1  \n",
              "4               0             174.12  24.000000               2       1  "
            ],
            "text/html": [
              "\n",
              "  <div id=\"df-5c61a3a7-eec0-46c6-8e73-619d0e13c617\">\n",
              "    <div class=\"colab-df-container\">\n",
              "      <div>\n",
              "<style scoped>\n",
              "    .dataframe tbody tr th:only-of-type {\n",
              "        vertical-align: middle;\n",
              "    }\n",
              "\n",
              "    .dataframe tbody tr th {\n",
              "        vertical-align: top;\n",
              "    }\n",
              "\n",
              "    .dataframe thead th {\n",
              "        text-align: right;\n",
              "    }\n",
              "</style>\n",
              "<table border=\"1\" class=\"dataframe\">\n",
              "  <thead>\n",
              "    <tr style=\"text-align: right;\">\n",
              "      <th></th>\n",
              "      <th>gender</th>\n",
              "      <th>age</th>\n",
              "      <th>hypertension</th>\n",
              "      <th>heart_disease</th>\n",
              "      <th>ever_married</th>\n",
              "      <th>work_type</th>\n",
              "      <th>Residence_type</th>\n",
              "      <th>avg_glucose_level</th>\n",
              "      <th>bmi</th>\n",
              "      <th>smoking_status</th>\n",
              "      <th>stroke</th>\n",
              "    </tr>\n",
              "  </thead>\n",
              "  <tbody>\n",
              "    <tr>\n",
              "      <th>0</th>\n",
              "      <td>1</td>\n",
              "      <td>67.0</td>\n",
              "      <td>0</td>\n",
              "      <td>1</td>\n",
              "      <td>1</td>\n",
              "      <td>2</td>\n",
              "      <td>1</td>\n",
              "      <td>228.69</td>\n",
              "      <td>36.600000</td>\n",
              "      <td>1</td>\n",
              "      <td>1</td>\n",
              "    </tr>\n",
              "    <tr>\n",
              "      <th>1</th>\n",
              "      <td>0</td>\n",
              "      <td>61.0</td>\n",
              "      <td>0</td>\n",
              "      <td>0</td>\n",
              "      <td>1</td>\n",
              "      <td>3</td>\n",
              "      <td>0</td>\n",
              "      <td>202.21</td>\n",
              "      <td>28.893237</td>\n",
              "      <td>2</td>\n",
              "      <td>1</td>\n",
              "    </tr>\n",
              "    <tr>\n",
              "      <th>2</th>\n",
              "      <td>1</td>\n",
              "      <td>80.0</td>\n",
              "      <td>0</td>\n",
              "      <td>1</td>\n",
              "      <td>1</td>\n",
              "      <td>2</td>\n",
              "      <td>0</td>\n",
              "      <td>105.92</td>\n",
              "      <td>32.500000</td>\n",
              "      <td>2</td>\n",
              "      <td>1</td>\n",
              "    </tr>\n",
              "    <tr>\n",
              "      <th>3</th>\n",
              "      <td>0</td>\n",
              "      <td>49.0</td>\n",
              "      <td>0</td>\n",
              "      <td>0</td>\n",
              "      <td>1</td>\n",
              "      <td>2</td>\n",
              "      <td>1</td>\n",
              "      <td>171.23</td>\n",
              "      <td>34.400000</td>\n",
              "      <td>3</td>\n",
              "      <td>1</td>\n",
              "    </tr>\n",
              "    <tr>\n",
              "      <th>4</th>\n",
              "      <td>0</td>\n",
              "      <td>79.0</td>\n",
              "      <td>1</td>\n",
              "      <td>0</td>\n",
              "      <td>1</td>\n",
              "      <td>3</td>\n",
              "      <td>0</td>\n",
              "      <td>174.12</td>\n",
              "      <td>24.000000</td>\n",
              "      <td>2</td>\n",
              "      <td>1</td>\n",
              "    </tr>\n",
              "  </tbody>\n",
              "</table>\n",
              "</div>\n",
              "      <button class=\"colab-df-convert\" onclick=\"convertToInteractive('df-5c61a3a7-eec0-46c6-8e73-619d0e13c617')\"\n",
              "              title=\"Convert this dataframe to an interactive table.\"\n",
              "              style=\"display:none;\">\n",
              "        \n",
              "  <svg xmlns=\"http://www.w3.org/2000/svg\" height=\"24px\"viewBox=\"0 0 24 24\"\n",
              "       width=\"24px\">\n",
              "    <path d=\"M0 0h24v24H0V0z\" fill=\"none\"/>\n",
              "    <path d=\"M18.56 5.44l.94 2.06.94-2.06 2.06-.94-2.06-.94-.94-2.06-.94 2.06-2.06.94zm-11 1L8.5 8.5l.94-2.06 2.06-.94-2.06-.94L8.5 2.5l-.94 2.06-2.06.94zm10 10l.94 2.06.94-2.06 2.06-.94-2.06-.94-.94-2.06-.94 2.06-2.06.94z\"/><path d=\"M17.41 7.96l-1.37-1.37c-.4-.4-.92-.59-1.43-.59-.52 0-1.04.2-1.43.59L10.3 9.45l-7.72 7.72c-.78.78-.78 2.05 0 2.83L4 21.41c.39.39.9.59 1.41.59.51 0 1.02-.2 1.41-.59l7.78-7.78 2.81-2.81c.8-.78.8-2.07 0-2.86zM5.41 20L4 18.59l7.72-7.72 1.47 1.35L5.41 20z\"/>\n",
              "  </svg>\n",
              "      </button>\n",
              "      \n",
              "  <style>\n",
              "    .colab-df-container {\n",
              "      display:flex;\n",
              "      flex-wrap:wrap;\n",
              "      gap: 12px;\n",
              "    }\n",
              "\n",
              "    .colab-df-convert {\n",
              "      background-color: #E8F0FE;\n",
              "      border: none;\n",
              "      border-radius: 50%;\n",
              "      cursor: pointer;\n",
              "      display: none;\n",
              "      fill: #1967D2;\n",
              "      height: 32px;\n",
              "      padding: 0 0 0 0;\n",
              "      width: 32px;\n",
              "    }\n",
              "\n",
              "    .colab-df-convert:hover {\n",
              "      background-color: #E2EBFA;\n",
              "      box-shadow: 0px 1px 2px rgba(60, 64, 67, 0.3), 0px 1px 3px 1px rgba(60, 64, 67, 0.15);\n",
              "      fill: #174EA6;\n",
              "    }\n",
              "\n",
              "    [theme=dark] .colab-df-convert {\n",
              "      background-color: #3B4455;\n",
              "      fill: #D2E3FC;\n",
              "    }\n",
              "\n",
              "    [theme=dark] .colab-df-convert:hover {\n",
              "      background-color: #434B5C;\n",
              "      box-shadow: 0px 1px 3px 1px rgba(0, 0, 0, 0.15);\n",
              "      filter: drop-shadow(0px 1px 2px rgba(0, 0, 0, 0.3));\n",
              "      fill: #FFFFFF;\n",
              "    }\n",
              "  </style>\n",
              "\n",
              "      <script>\n",
              "        const buttonEl =\n",
              "          document.querySelector('#df-5c61a3a7-eec0-46c6-8e73-619d0e13c617 button.colab-df-convert');\n",
              "        buttonEl.style.display =\n",
              "          google.colab.kernel.accessAllowed ? 'block' : 'none';\n",
              "\n",
              "        async function convertToInteractive(key) {\n",
              "          const element = document.querySelector('#df-5c61a3a7-eec0-46c6-8e73-619d0e13c617');\n",
              "          const dataTable =\n",
              "            await google.colab.kernel.invokeFunction('convertToInteractive',\n",
              "                                                     [key], {});\n",
              "          if (!dataTable) return;\n",
              "\n",
              "          const docLinkHtml = 'Like what you see? Visit the ' +\n",
              "            '<a target=\"_blank\" href=https://colab.research.google.com/notebooks/data_table.ipynb>data table notebook</a>'\n",
              "            + ' to learn more about interactive tables.';\n",
              "          element.innerHTML = '';\n",
              "          dataTable['output_type'] = 'display_data';\n",
              "          await google.colab.output.renderOutput(dataTable, element);\n",
              "          const docLink = document.createElement('div');\n",
              "          docLink.innerHTML = docLinkHtml;\n",
              "          element.appendChild(docLink);\n",
              "        }\n",
              "      </script>\n",
              "    </div>\n",
              "  </div>\n",
              "  "
            ]
          },
          "metadata": {},
          "execution_count": 20
        }
      ]
    },
    {
      "cell_type": "markdown",
      "metadata": {
        "id": "5k-KoLpH5C9R"
      },
      "source": [
        "#Building the DL Model"
      ]
    },
    {
      "cell_type": "markdown",
      "metadata": {
        "id": "uI2VtlafMBeN"
      },
      "source": [
        "Now it's time to build the actual model, and observe a summary of it.<br>\n",
        "The sizes of the **hidden** layers that you should use are: [32,16,8,4,2].\n",
        "The activation for each of those hidden layers is 'relu'\n",
        "<br>\n",
        "Print the summary of your model."
      ]
    },
    {
      "cell_type": "code",
      "metadata": {
        "id": "AZvKqqT65E0W",
        "colab": {
          "base_uri": "https://localhost:8080/",
          "height": 1000
        },
        "outputId": "6c7164bc-ace8-48ca-829e-706bf5262191"
      },
      "source": [
        "#Test Your Zaka\n",
        "from tensorflow.keras.models import Sequential\n",
        "from tensorflow.keras.layers import Dense\n",
        "\n",
        "model = Sequential()\n",
        "model.add(Dense(32, input_dim = 10, activation = 'relu')) #Hidden Layer 1\n",
        "model.add(Dense(16, activation = 'relu')) #Hidden Layer 2\n",
        "model.add(Dense(8, activation = 'relu')) #Hidden Layer 3\n",
        "model.add(Dense(4, activation = 'relu')) #Hidden Layer 4\n",
        "model.add(Dense(2, activation = 'relu')) #Hidden Layer 5\n",
        "model.add(Dense(1, activation = \"sigmoid\"))  #output Layer; Classification problem; 2 class\n",
        "          \n",
        "#print model\n",
        "model.summary()\n",
        "#Plot model\n",
        "from tensorflow.keras.utils import plot_model\n",
        "plot_model(model, to_file='model_plot.png', show_shapes=True, show_layer_names=True)"
      ],
      "execution_count": 21,
      "outputs": [
        {
          "output_type": "stream",
          "name": "stdout",
          "text": [
            "Model: \"sequential\"\n",
            "_________________________________________________________________\n",
            " Layer (type)                Output Shape              Param #   \n",
            "=================================================================\n",
            " dense (Dense)               (None, 32)                352       \n",
            "                                                                 \n",
            " dense_1 (Dense)             (None, 16)                528       \n",
            "                                                                 \n",
            " dense_2 (Dense)             (None, 8)                 136       \n",
            "                                                                 \n",
            " dense_3 (Dense)             (None, 4)                 36        \n",
            "                                                                 \n",
            " dense_4 (Dense)             (None, 2)                 10        \n",
            "                                                                 \n",
            " dense_5 (Dense)             (None, 1)                 3         \n",
            "                                                                 \n",
            "=================================================================\n",
            "Total params: 1,065\n",
            "Trainable params: 1,065\n",
            "Non-trainable params: 0\n",
            "_________________________________________________________________\n"
          ]
        },
        {
          "output_type": "execute_result",
          "data": {
            "text/plain": [
              "<IPython.core.display.Image object>"
            ],
            "image/png": "[encoded data removed]"
          },
          "metadata": {},
          "execution_count": 21
        }
      ]
    },
    {
      "cell_type": "markdown",
      "metadata": {
        "id": "AD57fE2n7QP4"
      },
      "source": [
        "###Compiling the model"
      ]
    },
    {
      "cell_type": "markdown",
      "metadata": {
        "id": "seGmh1x1-qH9"
      },
      "source": [
        "Now we compile the model. Here we want to measure the accuracy as well as the precision and recall to know better about the performance of our model.\n",
        "We will use 'adam' as optimizer."
      ]
    },
    {
      "cell_type": "code",
      "source": [
        "from keras import backend as K\n",
        "\n",
        "def recall_m(y_true, y_pred):\n",
        "    true_positives = K.sum(K.round(K.clip(y_true * y_pred, 0, 1)))\n",
        "    possible_positives = K.sum(K.round(K.clip(y_true, 0, 1)))\n",
        "    recall = true_positives / (possible_positives + K.epsilon())\n",
        "    return recall\n",
        "\n",
        "def precision_m(y_true, y_pred):\n",
        "    true_positives = K.sum(K.round(K.clip(y_true * y_pred, 0, 1)))\n",
        "    predicted_positives = K.sum(K.round(K.clip(y_pred, 0, 1)))\n",
        "    precision = true_positives / (predicted_positives + K.epsilon())\n",
        "    return precision\n",
        "\n",
        "# compile the model\n",
        "model.compile(optimizer='adam', loss='binary_crossentropy', metrics=['acc',precision_m, recall_m])\n"
      ],
      "metadata": {
        "id": "sD9kvfp94zH7"
      },
      "execution_count": 22,
      "outputs": []
    },
    {
      "cell_type": "markdown",
      "metadata": {
        "id": "U5zevRH57X8v"
      },
      "source": [
        "###Fitting the data"
      ]
    },
    {
      "cell_type": "markdown",
      "metadata": {
        "id": "UhaEU26KMUWK"
      },
      "source": [
        "we split our dataset between training and testing, and we fit the model on training data (70%), and validate on the testing data (30%). The training happens for 15 epochs."
      ]
    },
    {
      "cell_type": "code",
      "metadata": {
        "id": "rsVOVfn47MLn",
        "colab": {
          "base_uri": "https://localhost:8080/"
        },
        "outputId": "237c2181-9f7c-4ac1-ee36-68d8bd1920ce"
      },
      "source": [
        "#Test Your Zaka\n",
        "\n",
        "X= np.array(df.iloc[:,0:-1].values)\n",
        "Y= np.array(df.iloc[:,-1].values)\n",
        "\n",
        "#split data manulaly\n",
        "from sklearn.model_selection import train_test_split\n",
        "x_train, x_test, y_train, y_test = train_test_split(X,Y, test_size=0.3, random_state=0)\n",
        "\n",
        "# fit the model\n",
        "history = model.fit(x_train, y_train, epochs=15,batch_size=10,verbose=0)\n",
        "\n",
        "# evaluate the model\n",
        "\n",
        "loss, accuracy, precision, recall = model.evaluate(x_test, y_test)\n",
        "\n",
        "print('loss : ',loss,'accuaracy', accuracy, 'precision',precision, 'recall',recall )"
      ],
      "execution_count": 23,
      "outputs": [
        {
          "output_type": "stream",
          "name": "stdout",
          "text": [
            "48/48 [==============================] - 0s 2ms/step - loss: 0.1761 - acc: 0.9504 - precision_m: 0.0000e+00 - recall_m: 0.0000e+00\n",
            "loss :  0.17613902688026428 accuaracy 0.9504240155220032 precision 0.0 recall 0.0\n"
          ]
        }
      ]
    },
    {
      "cell_type": "code",
      "source": [
        "##Or\n",
        "y_pred=np.round(model.predict(x_test))\n",
        "y_pred\n",
        "from sklearn.metrics import accuracy_score\n",
        "accuracy=accuracy_score(y_test, y_pred)\n",
        "print('Accuaracy: %.3f' % accuracy)\n",
        "\n",
        "from sklearn.metrics import precision_score\n",
        "precision = precision_score(y_test, y_pred, labels=[1,2], average='micro')\n",
        "print('Precision: %.3f' % precision)\n",
        "\n",
        "from sklearn.metrics import recall_score\n",
        "recall = recall_score(y_test, y_pred, average='binary')\n",
        "print('Recall: %.3f' % recall)\n"
      ],
      "metadata": {
        "colab": {
          "base_uri": "https://localhost:8080/"
        },
        "id": "6g9Ld3BrDBUv",
        "outputId": "4ab855c2-eda3-41a9-f52d-18ea031e038a"
      },
      "execution_count": 24,
      "outputs": [
        {
          "output_type": "stream",
          "name": "stdout",
          "text": [
            "Accuaracy: 0.950\n",
            "Precision: 0.000\n",
            "Recall: 0.000\n"
          ]
        },
        {
          "output_type": "stream",
          "name": "stderr",
          "text": [
            "/usr/local/lib/python3.7/dist-packages/sklearn/metrics/_classification.py:1318: UndefinedMetricWarning: Precision is ill-defined and being set to 0.0 due to no predicted samples. Use `zero_division` parameter to control this behavior.\n",
            "  _warn_prf(average, modifier, msg_start, len(result))\n"
          ]
        }
      ]
    },
    {
      "cell_type": "markdown",
      "metadata": {
        "id": "_sPVIoABAa8Q"
      },
      "source": [
        "What can you deduce from the results you obtained?"
      ]
    },
    {
      "cell_type": "markdown",
      "metadata": {
        "id": "owY9hyWFimQQ"
      },
      "source": [
        "**the modal has a very good accuracy, but bad precision and recall; this due to the bias in the data**"
      ]
    },
    {
      "cell_type": "markdown",
      "metadata": {
        "id": "voqUo00lAqCZ"
      },
      "source": [
        "#Improving DL Models"
      ]
    },
    {
      "cell_type": "markdown",
      "metadata": {
        "id": "IImSYWQGBSz6"
      },
      "source": [
        "###Checking For Data Imbalance"
      ]
    },
    {
      "cell_type": "markdown",
      "metadata": {
        "id": "ZHxCONODMkNN"
      },
      "source": [
        "Plot a histogram that shows the distribution of 'stroke' column"
      ]
    },
    {
      "cell_type": "code",
      "metadata": {
        "id": "1bF6G8c58SOE",
        "colab": {
          "base_uri": "https://localhost:8080/",
          "height": 296
        },
        "outputId": "83bf78b5-3395-45ee-89eb-b967d2d7fda4"
      },
      "source": [
        "#Test Your Zaka\n",
        "import seaborn as sns\n",
        "import matplotlib.pyplot as plt\n",
        "sns.set_style('whitegrid')\n",
        "sns.countplot(x =df['stroke'], data = df)"
      ],
      "execution_count": 25,
      "outputs": [
        {
          "output_type": "execute_result",
          "data": {
            "text/plain": [
              "<matplotlib.axes._subplots.AxesSubplot at 0x7efee35a61d0>"
            ]
          },
          "metadata": {},
          "execution_count": 25
        },
        {
          "output_type": "display_data",
          "data": {
            "text/plain": [
              "<Figure size 432x288 with 1 Axes>"
            ],
            "image/png": "[encoded data removed]"
          },
          "metadata": {}
        }
      ]
    },
    {
      "cell_type": "markdown",
      "metadata": {
        "id": "gzZBB5GMCOld"
      },
      "source": [
        "We have a huge imbalance in the data, this is why we fix it with oversamppling and undersampling.\n",
        "\n",
        "This time, you will learn to oversample using the SMOTE() function instead of random oversampling, and this is because SMOTE will generate new data based on the data that we have, so we avoid overfitting."
      ]
    },
    {
      "cell_type": "markdown",
      "metadata": {
        "id": "w66slO25jE1O"
      },
      "source": [
        "After doing that, plot the new histogram showing the proportions of people having stroke or not"
      ]
    },
    {
      "cell_type": "code",
      "metadata": {
        "id": "US4xON4LBX8I",
        "colab": {
          "base_uri": "https://localhost:8080/",
          "height": 282
        },
        "outputId": "8273655f-2eac-45a5-e2a9-40b0f188c739"
      },
      "source": [
        "#Test Your Zaka\n",
        "from imblearn.over_sampling import SMOTE\n",
        "sm = SMOTE(random_state=42)\n",
        "x_res,y_res = sm.fit_resample(X,Y)\n",
        "sns.countplot(x =y_res)"
      ],
      "execution_count": 26,
      "outputs": [
        {
          "output_type": "execute_result",
          "data": {
            "text/plain": [
              "<matplotlib.axes._subplots.AxesSubplot at 0x7efedee95590>"
            ]
          },
          "metadata": {},
          "execution_count": 26
        },
        {
          "output_type": "display_data",
          "data": {
            "text/plain": [
              "<Figure size 432x288 with 1 Axes>"
            ],
            "image/png": "[encoded data removed]"
          },
          "metadata": {}
        }
      ]
    },
    {
      "cell_type": "markdown",
      "metadata": {
        "id": "u6MOHwo_Ew08"
      },
      "source": [
        "Now we will fit our same model on the new balanced data that we have, with the same conditions we had before (train/test splits, epochs, etc)"
      ]
    },
    {
      "cell_type": "code",
      "metadata": {
        "id": "26YTispLEm9N",
        "colab": {
          "base_uri": "https://localhost:8080/"
        },
        "outputId": "bf7687d6-1c7b-445a-e4d4-702584c6dba3"
      },
      "source": [
        "#Test Your Zaka\n",
        "\n",
        "x_train1, x_test1, y_train1, y_test1 = train_test_split(x_res,y_res, test_size=0.3, random_state=0)\n",
        "\n",
        "# fit the model\n",
        "history = model.fit(x_train1, y_train1, epochs=15,batch_size=10)\n",
        "\n",
        "# evaluate the model\n",
        "loss1, accuracy1, precision1, recall1 = model.evaluate(x_test1, y_test1)\n",
        "\n",
        "print('loss : ',loss1,'accuaracy', accuracy1, 'precision',precision1, 'recall',recall1 )"
      ],
      "execution_count": 27,
      "outputs": [
        {
          "output_type": "stream",
          "name": "stdout",
          "text": [
            "Epoch 1/15\n",
            "681/681 [==============================] - 2s 2ms/step - loss: 0.4995 - acc: 0.7536 - precision_m: 0.7163 - recall_m: 0.8256\n",
            "Epoch 2/15\n",
            "681/681 [==============================] - 2s 2ms/step - loss: 0.4815 - acc: 0.7615 - precision_m: 0.7325 - recall_m: 0.8197\n",
            "Epoch 3/15\n",
            "681/681 [==============================] - 1s 2ms/step - loss: 0.4737 - acc: 0.7697 - precision_m: 0.7405 - recall_m: 0.8324\n",
            "Epoch 4/15\n",
            "681/681 [==============================] - 1s 2ms/step - loss: 0.4733 - acc: 0.7696 - precision_m: 0.7410 - recall_m: 0.8280\n",
            "Epoch 5/15\n",
            "681/681 [==============================] - 1s 2ms/step - loss: 0.4706 - acc: 0.7708 - precision_m: 0.7364 - recall_m: 0.8294\n",
            "Epoch 6/15\n",
            "681/681 [==============================] - 1s 2ms/step - loss: 0.4682 - acc: 0.7741 - precision_m: 0.7459 - recall_m: 0.8265\n",
            "Epoch 7/15\n",
            "681/681 [==============================] - 1s 2ms/step - loss: 0.4679 - acc: 0.7747 - precision_m: 0.7504 - recall_m: 0.8294\n",
            "Epoch 8/15\n",
            "681/681 [==============================] - 2s 2ms/step - loss: 0.4643 - acc: 0.7769 - precision_m: 0.7521 - recall_m: 0.8345\n",
            "Epoch 9/15\n",
            "681/681 [==============================] - 1s 2ms/step - loss: 0.4606 - acc: 0.7791 - precision_m: 0.7527 - recall_m: 0.8447\n",
            "Epoch 10/15\n",
            "681/681 [==============================] - 1s 2ms/step - loss: 0.4567 - acc: 0.7850 - precision_m: 0.7592 - recall_m: 0.8408\n",
            "Epoch 11/15\n",
            "681/681 [==============================] - 1s 2ms/step - loss: 0.4554 - acc: 0.7847 - precision_m: 0.7572 - recall_m: 0.8440\n",
            "Epoch 12/15\n",
            "681/681 [==============================] - 1s 2ms/step - loss: 0.4528 - acc: 0.7887 - precision_m: 0.7618 - recall_m: 0.8406\n",
            "Epoch 13/15\n",
            "681/681 [==============================] - 1s 2ms/step - loss: 0.4512 - acc: 0.7912 - precision_m: 0.7626 - recall_m: 0.8550\n",
            "Epoch 14/15\n",
            "681/681 [==============================] - 1s 2ms/step - loss: 0.4520 - acc: 0.7869 - precision_m: 0.7508 - recall_m: 0.8429\n",
            "Epoch 15/15\n",
            "681/681 [==============================] - 1s 2ms/step - loss: 0.4499 - acc: 0.7890 - precision_m: 0.7608 - recall_m: 0.8474\n",
            "92/92 [==============================] - 0s 2ms/step - loss: 0.4637 - acc: 0.7782 - precision_m: 0.8163 - recall_m: 0.7257\n",
            "loss :  0.4636557698249817 accuaracy 0.7781967520713806 precision 0.8162771463394165 recall 0.7256739139556885\n"
          ]
        }
      ]
    },
    {
      "cell_type": "code",
      "source": [
        "y_pred1=np.round(model.predict(x_test1))\n",
        "\n",
        "accuracy1=accuracy_score(y_test1, y_pred1)\n",
        "print('Accuaracy: %.3f' % accuracy1)\n",
        "\n",
        "precision1= precision_score(y_test1, y_pred1, labels=[1,2], average='micro')\n",
        "print('Precision: %.3f' % precision1)\n",
        "\n",
        "recall1 = recall_score(y_test1, y_pred1, average='binary')\n",
        "print('Recall: %.3f' % recall1)"
      ],
      "metadata": {
        "colab": {
          "base_uri": "https://localhost:8080/"
        },
        "id": "JLez_y05D2fx",
        "outputId": "59beec70-1951-4498-d5a1-1e80cf759b98"
      },
      "execution_count": 28,
      "outputs": [
        {
          "output_type": "stream",
          "name": "stdout",
          "text": [
            "Accuaracy: 0.778\n",
            "Precision: 0.815\n",
            "Recall: 0.723\n"
          ]
        }
      ]
    },
    {
      "cell_type": "markdown",
      "metadata": {
        "id": "hhfhpIaWGtz2"
      },
      "source": [
        "Comment the performance you obtained"
      ]
    },
    {
      "cell_type": "markdown",
      "metadata": {
        "id": "rwQClRsEjkUb"
      },
      "source": [
        "**[The accuaracy decrease, but the precision and recall increas than the previoues model when training, but it still law]**"
      ]
    },
    {
      "cell_type": "markdown",
      "metadata": {
        "id": "ngJVLbRKG7U_"
      },
      "source": [
        "###Model Design"
      ]
    },
    {
      "cell_type": "markdown",
      "metadata": {
        "id": "sMdcXspCHxIo"
      },
      "source": [
        "Now you will introduce batch normalization after each layer of your network"
      ]
    },
    {
      "cell_type": "code",
      "metadata": {
        "id": "yK78-g-hHrmq",
        "colab": {
          "base_uri": "https://localhost:8080/",
          "height": 1000
        },
        "outputId": "0ab98696-0f5f-489d-f5b0-82976441680c"
      },
      "source": [
        "#Test Your Zaka\n",
        "from tensorflow.keras.layers import BatchNormalization\n",
        "\n",
        "model = Sequential()\n",
        "model.add(Dense(32, input_dim = 10, activation = 'relu')) #Hidden Layer 1\n",
        "model.add(BatchNormalization())\n",
        "model.add(Dense(16, activation = 'relu')) #Hidden Layer 2\n",
        "model.add(BatchNormalization())\n",
        "model.add(Dense(8, activation = 'relu')) #Hidden Layer 3\n",
        "model.add(BatchNormalization())\n",
        "model.add(Dense(4, activation = 'relu')) #Hidden Layer 4\n",
        "model.add(BatchNormalization())\n",
        "model.add(Dense(2, activation = 'relu')) #Hidden Layer 5\n",
        "model.add(BatchNormalization())\n",
        "model.add(Dense(1, activation = \"sigmoid\"))  #output Layer; Classification problem; 2 class\n",
        "          \n",
        "#print model\n",
        "model.summary()\n",
        "#Plot model\n",
        "plot_model(model, to_file='model_plot.png', show_shapes=True, show_layer_names=True)\n",
        "\n"
      ],
      "execution_count": 29,
      "outputs": [
        {
          "output_type": "stream",
          "name": "stdout",
          "text": [
            "Model: \"sequential_1\"\n",
            "_________________________________________________________________\n",
            " Layer (type)                Output Shape              Param #   \n",
            "=================================================================\n",
            " dense_6 (Dense)             (None, 32)                352       \n",
            "                                                                 \n",
            " batch_normalization (BatchN  (None, 32)               128       \n",
            " ormalization)                                                   \n",
            "                                                                 \n",
            " dense_7 (Dense)             (None, 16)                528       \n",
            "                                                                 \n",
            " batch_normalization_1 (Batc  (None, 16)               64        \n",
            " hNormalization)                                                 \n",
            "                                                                 \n",
            " dense_8 (Dense)             (None, 8)                 136       \n",
            "                                                                 \n",
            " batch_normalization_2 (Batc  (None, 8)                32        \n",
            " hNormalization)                                                 \n",
            "                                                                 \n",
            " dense_9 (Dense)             (None, 4)                 36        \n",
            "                                                                 \n",
            " batch_normalization_3 (Batc  (None, 4)                16        \n",
            " hNormalization)                                                 \n",
            "                                                                 \n",
            " dense_10 (Dense)            (None, 2)                 10        \n",
            "                                                                 \n",
            " batch_normalization_4 (Batc  (None, 2)                8         \n",
            " hNormalization)                                                 \n",
            "                                                                 \n",
            " dense_11 (Dense)            (None, 1)                 3         \n",
            "                                                                 \n",
            "=================================================================\n",
            "Total params: 1,313\n",
            "Trainable params: 1,189\n",
            "Non-trainable params: 124\n",
            "_________________________________________________________________\n"
          ]
        },
        {
          "output_type": "execute_result",
          "data": {
            "text/plain": [
              "<IPython.core.display.Image object>"
            ],
            "image/png": "[encoded data removed]"
          },
          "metadata": {},
          "execution_count": 29
        }
      ]
    },
    {
      "cell_type": "markdown",
      "metadata": {
        "id": "l3uBII4wJPbk"
      },
      "source": [
        "Let's train the model with the same conditions as before"
      ]
    },
    {
      "cell_type": "code",
      "metadata": {
        "id": "REDrQVWLJLs5",
        "colab": {
          "base_uri": "https://localhost:8080/"
        },
        "outputId": "07b58619-bb3e-4d83-ed4a-b11d5d394d59"
      },
      "source": [
        "#Test Your Zaka\n",
        "model.compile(optimizer='adam', loss='binary_crossentropy', metrics=['acc',precision_m, recall_m])\n",
        "model.fit(x_train1, y_train1, epochs=15,batch_size=10)\n",
        "\n",
        "# evaluate the model\n",
        "loss2, accuracy2, precision2, recall2 = model.evaluate(x_test1, y_test1)\n",
        "\n",
        "print('loss : ',loss2,'accuaracy', accuracy2, 'precision',precision2, 'recall',recall2 )"
      ],
      "execution_count": 30,
      "outputs": [
        {
          "output_type": "stream",
          "name": "stdout",
          "text": [
            "Epoch 1/15\n",
            "681/681 [==============================] - 4s 3ms/step - loss: 0.5873 - acc: 0.7299 - precision_m: 0.7475 - recall_m: 0.7082\n",
            "Epoch 2/15\n",
            "681/681 [==============================] - 2s 3ms/step - loss: 0.5175 - acc: 0.7672 - precision_m: 0.7449 - recall_m: 0.8351\n",
            "Epoch 3/15\n",
            "681/681 [==============================] - 2s 3ms/step - loss: 0.5145 - acc: 0.7584 - precision_m: 0.7364 - recall_m: 0.8281\n",
            "Epoch 4/15\n",
            "681/681 [==============================] - 2s 3ms/step - loss: 0.5094 - acc: 0.7614 - precision_m: 0.7336 - recall_m: 0.8431\n",
            "Epoch 5/15\n",
            "681/681 [==============================] - 2s 3ms/step - loss: 0.5046 - acc: 0.7534 - precision_m: 0.7238 - recall_m: 0.8421\n",
            "Epoch 6/15\n",
            "681/681 [==============================] - 4s 6ms/step - loss: 0.5014 - acc: 0.7650 - precision_m: 0.7380 - recall_m: 0.8454\n",
            "Epoch 7/15\n",
            "681/681 [==============================] - 2s 3ms/step - loss: 0.5001 - acc: 0.7583 - precision_m: 0.7312 - recall_m: 0.8304\n",
            "Epoch 8/15\n",
            "681/681 [==============================] - 2s 3ms/step - loss: 0.4954 - acc: 0.7669 - precision_m: 0.7413 - recall_m: 0.8417\n",
            "Epoch 9/15\n",
            "681/681 [==============================] - 2s 3ms/step - loss: 0.4861 - acc: 0.7735 - precision_m: 0.7495 - recall_m: 0.8467\n",
            "Epoch 10/15\n",
            "681/681 [==============================] - 2s 3ms/step - loss: 0.4891 - acc: 0.7738 - precision_m: 0.7425 - recall_m: 0.8484\n",
            "Epoch 11/15\n",
            "681/681 [==============================] - 2s 3ms/step - loss: 0.4853 - acc: 0.7775 - precision_m: 0.7459 - recall_m: 0.8572\n",
            "Epoch 12/15\n",
            "681/681 [==============================] - 2s 3ms/step - loss: 0.4906 - acc: 0.7677 - precision_m: 0.7395 - recall_m: 0.8457\n",
            "Epoch 13/15\n",
            "681/681 [==============================] - 2s 3ms/step - loss: 0.4878 - acc: 0.7690 - precision_m: 0.7402 - recall_m: 0.8451\n",
            "Epoch 14/15\n",
            "681/681 [==============================] - 2s 3ms/step - loss: 0.4883 - acc: 0.7713 - precision_m: 0.7389 - recall_m: 0.8489\n",
            "Epoch 15/15\n",
            "681/681 [==============================] - 2s 3ms/step - loss: 0.4801 - acc: 0.7728 - precision_m: 0.7424 - recall_m: 0.8573\n",
            "92/92 [==============================] - 0s 2ms/step - loss: 0.4532 - acc: 0.8039 - precision_m: 0.7646 - recall_m: 0.8779\n",
            "loss :  0.45320266485214233 accuaracy 0.803908109664917 precision 0.764630913734436 recall 0.8779104351997375\n"
          ]
        }
      ]
    },
    {
      "cell_type": "markdown",
      "metadata": {
        "id": "hhkSEThVKEdm"
      },
      "source": [
        "Comment the performance of your model"
      ]
    },
    {
      "cell_type": "markdown",
      "metadata": {
        "id": "dghb5Pkaj4fs"
      },
      "source": [
        "**[After the BN, the model become more much better , as shown the values of the evaluating metrics all be high value more than the previoues improving, this mean by the BN, the bias from data has no more effect on the data]**"
      ]
    },
    {
      "cell_type": "markdown",
      "metadata": {
        "id": "mXf6cpO_KWTs"
      },
      "source": [
        "###Hyperparameter Tuning"
      ]
    },
    {
      "cell_type": "markdown",
      "metadata": {
        "id": "l2rMJJEcNDil"
      },
      "source": [
        "Now we will tune some hyperparameters of our model."
      ]
    },
    {
      "cell_type": "markdown",
      "metadata": {
        "id": "PQl4VxrOLQGO"
      },
      "source": [
        "We start by wrapping our model inside a kerasClassifier to be able to use it in Scikit Learn"
      ]
    },
    {
      "cell_type": "code",
      "metadata": {
        "id": "PYBO5H5LLW4w"
      },
      "source": [
        "#Test Your Zaka\n",
        "def create_model():\n",
        "  model = Sequential()\n",
        "  model.add(Dense(32, input_dim = 10, activation = 'relu')) #Hidden Layer 1\n",
        "  model.add(BatchNormalization())\n",
        "  model.add(Dense(16, activation = 'relu')) #Hidden Layer 2\n",
        "  model.add(BatchNormalization())\n",
        "  model.add(Dense(8, activation = 'relu')) #Hidden Layer 3\n",
        "  model.add(BatchNormalization())\n",
        "  model.add(Dense(4, activation = 'relu')) #Hidden Layer 4\n",
        "  model.add(BatchNormalization())\n",
        "  model.add(Dense(2, activation = 'relu')) #Hidden Layer 5\n",
        "  model.add(BatchNormalization())\n",
        "  model.add(Dense(1, activation = \"sigmoid\"))  #output Layer; Classification problem; 2 class\n",
        "    \n",
        "# Compile model\n",
        "  model.compile(loss='binary_crossentropy', optimizer='adam', metrics=['accuracy',precision_m, recall_m])\n",
        "  return model\n",
        "\n",
        "  \n",
        "from tensorflow.keras.wrappers.scikit_learn import KerasClassifier\n",
        "from sklearn.model_selection import StratifiedKFold\n",
        "from sklearn.model_selection import cross_val_score\n"
      ],
      "execution_count": 35,
      "outputs": []
    },
    {
      "cell_type": "markdown",
      "metadata": {
        "id": "aIqMITAEKoue"
      },
      "source": [
        "We will tune the batch size (it can be 50 or 100) and the number of epochs (it can be 50 or 100).\n",
        "We will use a 3 folds cross validation"
      ]
    },
    {
      "cell_type": "code",
      "metadata": {
        "id": "E_XXldXwJ-Ch",
        "colab": {
          "base_uri": "https://localhost:8080/"
        },
        "outputId": "df4d279b-6073-4cf2-b2e9-e7cc9eb8555c"
      },
      "source": [
        "#Test Your Zaka\n",
        "model_1 = KerasClassifier(build_fn=create_model, epochs=100, batch_size=100, verbose=0)\n",
        "\n",
        "kfold = StratifiedKFold(n_splits=3, shuffle=True, random_state=12)\n",
        "results = cross_val_score(model_1,x_train1, y_train1, cv=kfold)\n",
        "print(results)"
      ],
      "execution_count": 36,
      "outputs": [
        {
          "output_type": "stream",
          "name": "stderr",
          "text": [
            "/usr/local/lib/python3.7/dist-packages/ipykernel_launcher.py:2: DeprecationWarning: KerasClassifier is deprecated, use Sci-Keras (https://github.com/adriangb/scikeras) instead. See https://www.adriangb.com/scikeras/stable/migration.html for help migrating.\n",
            "  \n"
          ]
        },
        {
          "output_type": "stream",
          "name": "stdout",
          "text": [
            "[0.81445569 0.84303349 0.83024693]\n"
          ]
        }
      ]
    },
    {
      "cell_type": "markdown",
      "metadata": {
        "id": "5oMDOqprkS8S"
      },
      "source": [
        "Find the best parameters according to the Grid Search you have done, and the accuracy for the best model."
      ]
    },
    {
      "cell_type": "code",
      "metadata": {
        "id": "fom1lr4pMku4",
        "colab": {
          "base_uri": "https://localhost:8080/"
        },
        "outputId": "16a3c97f-1797-4142-e8a1-107385a37d1e"
      },
      "source": [
        "#Test Your Zaka\n",
        "#The hyperparameters want to tune are:  Batch Size and Number of Epochs, Training Optimization Algorithm,  Learning Rate and Momentum\n",
        "#Tune Network Weight Initialization, Activation Function, Dropout Regularization, Number of Neurons in the Hidden Layer \n",
        "\n",
        "# Batch size and epoch\n",
        "from sklearn.model_selection import GridSearchCV\n",
        "\n",
        "model_2 = KerasClassifier(build_fn=create_model,verbose=0)\n",
        "\n",
        "batch_size = [10, 20, 40, 60, 80, 100]\n",
        "epochs = [10, 50, 100]\n",
        "param_grid = dict(batch_size=batch_size, epochs=epochs)\n",
        "grid = GridSearchCV(estimator=model_2, param_grid=param_grid, n_jobs=-1, cv=3)\n",
        "grid_result = grid.fit(x_train1, y_train1)\n",
        "# summarize results\n",
        "print(\"Best: %f using %s\" % (grid_result.best_score_, grid_result.best_params_))\n",
        "means = grid_result.cv_results_['mean_test_score']\n",
        "stds = grid_result.cv_results_['std_test_score']\n",
        "params = grid_result.cv_results_['params']\n",
        "for mean, stdev, param in zip(means, stds, params):\n",
        "    print(\"%f (%f) with: %r\" % (mean, stdev, param))"
      ],
      "execution_count": 37,
      "outputs": [
        {
          "output_type": "stream",
          "name": "stderr",
          "text": [
            "/usr/local/lib/python3.7/dist-packages/ipykernel_launcher.py:8: DeprecationWarning: KerasClassifier is deprecated, use Sci-Keras (https://github.com/adriangb/scikeras) instead. See https://www.adriangb.com/scikeras/stable/migration.html for help migrating.\n",
            "  \n"
          ]
        },
        {
          "output_type": "stream",
          "name": "stdout",
          "text": [
            "Best: 0.838503 using {'batch_size': 100, 'epochs': 100}\n",
            "0.777957 (0.001716) with: {'batch_size': 10, 'epochs': 10}\n",
            "0.786483 (0.009521) with: {'batch_size': 10, 'epochs': 50}\n",
            "0.808669 (0.005645) with: {'batch_size': 10, 'epochs': 100}\n",
            "0.783836 (0.007117) with: {'batch_size': 20, 'epochs': 10}\n",
            "0.815870 (0.005020) with: {'batch_size': 20, 'epochs': 50}\n",
            "0.826599 (0.015432) with: {'batch_size': 20, 'epochs': 100}\n",
            "0.788392 (0.011870) with: {'batch_size': 40, 'epochs': 10}\n",
            "0.822041 (0.012361) with: {'batch_size': 40, 'epochs': 50}\n",
            "0.826157 (0.001845) with: {'batch_size': 40, 'epochs': 100}\n",
            "0.794562 (0.006757) with: {'batch_size': 60, 'epochs': 10}\n",
            "0.823514 (0.010157) with: {'batch_size': 60, 'epochs': 50}\n",
            "0.826598 (0.008046) with: {'batch_size': 60, 'epochs': 100}\n",
            "0.773692 (0.029876) with: {'batch_size': 80, 'epochs': 10}\n",
            "0.819543 (0.014114) with: {'batch_size': 80, 'epochs': 50}\n",
            "0.791765 (0.026995) with: {'batch_size': 80, 'epochs': 100}\n",
            "0.777809 (0.005830) with: {'batch_size': 100, 'epochs': 10}\n",
            "0.803969 (0.012038) with: {'batch_size': 100, 'epochs': 50}\n",
            "0.838503 (0.007688) with: {'batch_size': 100, 'epochs': 100}\n"
          ]
        }
      ]
    },
    {
      "cell_type": "markdown",
      "source": [
        "**as shown previoues best at batc size 100, epoch 100, but it take 20 min to execute the result!**"
      ],
      "metadata": {
        "id": "aJ36cIIv6WYC"
      }
    },
    {
      "cell_type": "code",
      "source": [
        "#Training Optimization Algorithm\n",
        "def create_model_OA(optimizer='adam'):\n",
        "  model = Sequential()\n",
        "  model.add(Dense(32, input_dim = 10, activation = 'relu')) #Hidden Layer 1\n",
        "  model.add(BatchNormalization())\n",
        "  model.add(Dense(16, activation = 'relu')) #Hidden Layer 2\n",
        "  model.add(BatchNormalization())\n",
        "  model.add(Dense(8, activation = 'relu')) #Hidden Layer 3\n",
        "  model.add(BatchNormalization())\n",
        "  model.add(Dense(4, activation = 'relu')) #Hidden Layer 4\n",
        "  model.add(BatchNormalization())\n",
        "  model.add(Dense(2, activation = 'relu')) #Hidden Layer 5\n",
        "  model.add(BatchNormalization())\n",
        "  model.add(Dense(1, activation = \"sigmoid\"))  #output Layer; Classification problem; 2 class\n",
        "    \n",
        "# Compile model\n",
        "  model.compile(loss='binary_crossentropy', optimizer=optimizer, metrics=['accuracy'])\n",
        "  return model\n",
        "model_3 = KerasClassifier(build_fn=create_model_OA, epochs=15, batch_size=10, verbose=0)\n",
        "# define the grid search parameters\n",
        "optimizer = ['SGD', 'RMSprop', 'Adagrad', 'Adadelta', 'Adam', 'Adamax', 'Nadam']\n",
        "param_grid = dict(optimizer=optimizer)\n",
        "grid = GridSearchCV(estimator=model_3, param_grid=param_grid, n_jobs=-1, cv=3)\n",
        "grid_result = grid.fit(x_train1, y_train1)\n",
        "# summarize results\n",
        "print(\"Best: %f using %s\" % (grid_result.best_score_, grid_result.best_params_))"
      ],
      "metadata": {
        "colab": {
          "base_uri": "https://localhost:8080/"
        },
        "id": "1BuXx8Yk6U8v",
        "outputId": "71049cb6-6119-41c2-8e44-3b7127129dca"
      },
      "execution_count": 41,
      "outputs": [
        {
          "output_type": "stream",
          "name": "stderr",
          "text": [
            "/usr/local/lib/python3.7/dist-packages/ipykernel_launcher.py:19: DeprecationWarning: KerasClassifier is deprecated, use Sci-Keras (https://github.com/adriangb/scikeras) instead. See https://www.adriangb.com/scikeras/stable/migration.html for help migrating.\n"
          ]
        },
        {
          "output_type": "stream",
          "name": "stdout",
          "text": [
            "Best: 0.785011 using {'optimizer': 'RMSprop'}\n"
          ]
        }
      ]
    },
    {
      "cell_type": "markdown",
      "source": [
        "**The best Algorithim optimizer is RMSprop**"
      ],
      "metadata": {
        "id": "OQiChdGy90H9"
      }
    },
    {
      "cell_type": "code",
      "source": [
        "#Learning Rate and Momentum\n",
        "def create_model_RM(learn_rate=0.01, momentum=0):\n",
        "\t# create model\n",
        "  from keras.optimizers import adam_v2\n",
        "  model = Sequential()\n",
        "  model.add(Dense(32, input_dim = 10, activation = 'relu')) #Hidden Layer 1\n",
        "  model.add(BatchNormalization())\n",
        "  model.add(Dense(16, activation = 'relu')) #Hidden Layer 2\n",
        "  model.add(BatchNormalization())\n",
        "  model.add(Dense(8, activation = 'relu')) #Hidden Layer 3\n",
        "  model.add(BatchNormalization())\n",
        "  model.add(Dense(4, activation = 'relu')) #Hidden Layer 4\n",
        "  model.add(BatchNormalization())\n",
        "  model.add(Dense(2, activation = 'relu')) #Hidden Layer 5\n",
        "  model.add(BatchNormalization())\n",
        "  model.add(Dense(1, activation = \"sigmoid\"))  #output Layer; Classification problem; 2 class\n",
        "    \n",
        "# Compile model\n",
        "  optimizer = adam_v2.Adam(lr=learn_rate)\n",
        "  model.compile(loss='binary_crossentropy', optimizer=optimizer, metrics=['accuracy'])\n",
        "  return model\n",
        "\n",
        "# create model\n",
        "model_4 = KerasClassifier(build_fn=create_model_RM, epochs=15, batch_size=10, verbose=0)\n",
        "# define the grid search parameters\n",
        "learn_rate = [0.001, 0.01, 0.1, 0.2, 0.3]\n",
        "param_grid = dict(learn_rate=learn_rate)\n",
        "grid = GridSearchCV(estimator=model_4, param_grid=param_grid, n_jobs=-1, cv=3)\n",
        "grid_result = grid.fit(x_train1, y_train1)\n",
        "# summarize results\n",
        "print(\"Best: %f using %s\" % (grid_result.best_score_, grid_result.best_params_))\n"
      ],
      "metadata": {
        "colab": {
          "base_uri": "https://localhost:8080/"
        },
        "id": "8tJhg_lL98zO",
        "outputId": "d54f26bd-2b84-4456-d330-40e24c9d1b1f"
      },
      "execution_count": 56,
      "outputs": [
        {
          "output_type": "stream",
          "name": "stderr",
          "text": [
            "/usr/local/lib/python3.7/dist-packages/ipykernel_launcher.py:24: DeprecationWarning: KerasClassifier is deprecated, use Sci-Keras (https://github.com/adriangb/scikeras) instead. See https://www.adriangb.com/scikeras/stable/migration.html for help migrating.\n",
            "/usr/local/lib/python3.7/dist-packages/keras/optimizer_v2/adam.py:105: UserWarning: The `lr` argument is deprecated, use `learning_rate` instead.\n",
            "  super(Adam, self).__init__(name, **kwargs)\n"
          ]
        },
        {
          "output_type": "stream",
          "name": "stdout",
          "text": [
            "Best: 0.789418 using {'learn_rate': 0.001}\n"
          ]
        }
      ]
    },
    {
      "cell_type": "markdown",
      "source": [
        "**Best 'learn_rate': 0.001**"
      ],
      "metadata": {
        "id": "819v-GMiTb3L"
      }
    },
    {
      "cell_type": "code",
      "source": [
        "#Dropout\n",
        "from keras.layers import Dropout\n",
        "\n",
        "def create_model_D(dropout_rate=0.0, weight_constraint=0):\n",
        "\t# create model\n",
        "  model = Sequential()\n",
        "  model.add(Dense(32, input_dim = 10, activation = 'relu')) #Hidden Layer 1\n",
        "  model.add(BatchNormalization())\n",
        "  model.add(Dense(16, activation = 'relu')) #Hidden Layer 2\n",
        "  model.add(BatchNormalization())\n",
        "  model.add(Dense(8, activation = 'relu')) #Hidden Layer 3\n",
        "  model.add(BatchNormalization())\n",
        "  model.add(Dense(4, activation = 'relu')) #Hidden Layer 4\n",
        "  model.add(BatchNormalization())\n",
        "  model.add(Dense(2, activation = 'relu')) #Hidden Layer 5\n",
        "  model.add(BatchNormalization())\n",
        "  model.add(Dense(1, activation = \"sigmoid\"))  #output Layer; Classification problem; 2 class\n",
        "\t# Compile model\n",
        "  model.compile(loss='binary_crossentropy', optimizer='adam', metrics=['accuracy'])\n",
        "\t\n",
        "  return model\n",
        "\n",
        "# create model\n",
        "model_5 = KerasClassifier(build_fn=create_model_D, epochs=15, batch_size=10, verbose=0)\n",
        "# define the grid search parameters\n",
        "weight_constraint = [1, 2, 3, 4, 5]\n",
        "dropout_rate = [0.0, 0.1, 0.2, 0.3, 0.4, 0.5, 0.6, 0.7, 0.8, 0.9]\n",
        "param_grid = dict(dropout_rate=dropout_rate, weight_constraint=weight_constraint)\n",
        "grid = GridSearchCV(estimator=model_5, param_grid=param_grid, n_jobs=-1, cv=3)\n",
        "grid_result = grid.fit(x_train1, y_train1)\n",
        "# summarize results\n",
        "print(\"Best: %f using %s\" % (grid_result.best_score_, grid_result.best_params_))\n"
      ],
      "metadata": {
        "colab": {
          "base_uri": "https://localhost:8080/"
        },
        "id": "5b6Gix_tF9KT",
        "outputId": "2f24b84e-7723-47ac-aba5-ca6935972912"
      },
      "execution_count": 60,
      "outputs": [
        {
          "output_type": "stream",
          "name": "stderr",
          "text": [
            "/usr/local/lib/python3.7/dist-packages/ipykernel_launcher.py:24: DeprecationWarning: KerasClassifier is deprecated, use Sci-Keras (https://github.com/adriangb/scikeras) instead. See https://www.adriangb.com/scikeras/stable/migration.html for help migrating.\n"
          ]
        },
        {
          "output_type": "stream",
          "name": "stdout",
          "text": [
            "Best: 0.795151 using {'dropout_rate': 0.5, 'weight_constraint': 1}\n"
          ]
        }
      ]
    },
    {
      "cell_type": "markdown",
      "metadata": {
        "id": "ZqKDaC5aUQtc"
      },
      "source": [
        "Fit the model on the best hyperparameters we obtained."
      ]
    },
    {
      "cell_type": "markdown",
      "source": [
        "**Final model with the epoch 100, batch size 100, optimizer RMSprop, learning rate 0.001, and drop out 0.5 with 'weight_constraint': 1**"
      ],
      "metadata": {
        "id": "nQs6RoD-ipD0"
      }
    },
    {
      "cell_type": "code",
      "source": [
        "#Test Your Zaka\n",
        "from keras.constraints import max_norm\n",
        "\n",
        "def create_model_Final():\n",
        "  model = Sequential()\n",
        "  model.add(Dense(32, input_dim = 10,activation = 'relu', kernel_constraint=max_norm(1), bias_constraint=max_norm(1)))\n",
        "  model.add(BatchNormalization())\n",
        "  model.add(Dropout(rate = 0.5))\n",
        "  model.add(Dense(16,activation = 'relu', kernel_constraint=max_norm(1), bias_constraint=max_norm(1))) #Hidden Layer 2\n",
        "  model.add(BatchNormalization())\n",
        "  model.add(Dropout(rate = 0.5))\n",
        "  model.add(Dense(8,activation = 'relu', kernel_constraint=max_norm(1), bias_constraint=max_norm(1)))  #Hidden Layer 3\n",
        "  model.add(BatchNormalization())\n",
        "  model.add(Dropout(rate = 0.5))\n",
        "  model.add(Dense(4,activation = 'relu', kernel_constraint=max_norm(1), bias_constraint=max_norm(1))) #Hidden Layer 4\n",
        "  model.add(BatchNormalization())\n",
        "  model.add(Dropout(rate = 0.5))\n",
        "  model.add(Dense(2,activation = 'relu', kernel_constraint=max_norm(1), bias_constraint=max_norm(1))) #Hidden Layer 5\n",
        "  model.add(BatchNormalization())\n",
        "  model.add(Dropout(rate = 0.5))\n",
        "  model.add(Dense(1, activation = \"sigmoid\"))  #output Layer; Classification problem; 2 class\n",
        "    \n",
        "# Compile model\n",
        "  from tensorflow.keras.optimizers import RMSprop\n",
        "  optimizer=RMSprop(lr=0.001)\n",
        "  model.compile(loss='binary_crossentropy', optimizer=optimizer, metrics=['accuracy',precision_m, recall_m])\n",
        "  return model\n",
        "\n",
        "#model_F=create_model_Final()\n",
        "#model_F.fit(x_train1, y_train1, epochs=100,batch_size=100, verbose=0)\n",
        "# evaluate the model\n",
        "#loss3, accuracy3, precision3, recall3 = model_F.evaluate(x_test1, y_test1)\n",
        "#print('loss : ',loss3,'accuaracy', accuracy3, 'precision',precision3, 'recall',recall3)\n",
        "\n",
        "model_F = KerasClassifier(build_fn=create_model_Final, epochs=100, batch_size=100, verbose=0)\n",
        "\n",
        "kfold = StratifiedKFold(n_splits=3, shuffle=True, random_state=12)\n",
        "results = cross_val_score(model_F,x_train1, y_train1, cv=kfold)\n",
        "print(results)"
      ],
      "metadata": {
        "colab": {
          "base_uri": "https://localhost:8080/"
        },
        "id": "pl7_LmWXgrGu",
        "outputId": "c1b446bc-557a-4da5-87ee-f97dc30b58fe"
      },
      "execution_count": 125,
      "outputs": [
        {
          "output_type": "stream",
          "name": "stderr",
          "text": [
            "/usr/local/lib/python3.7/dist-packages/ipykernel_launcher.py:35: DeprecationWarning: KerasClassifier is deprecated, use Sci-Keras (https://github.com/adriangb/scikeras) instead. See https://www.adriangb.com/scikeras/stable/migration.html for help migrating.\n",
            "/usr/local/lib/python3.7/dist-packages/keras/optimizer_v2/rmsprop.py:130: UserWarning: The `lr` argument is deprecated, use `learning_rate` instead.\n",
            "  super(RMSprop, self).__init__(name, **kwargs)\n",
            "/usr/local/lib/python3.7/dist-packages/keras/optimizer_v2/rmsprop.py:130: UserWarning: The `lr` argument is deprecated, use `learning_rate` instead.\n",
            "  super(RMSprop, self).__init__(name, **kwargs)\n",
            "/usr/local/lib/python3.7/dist-packages/keras/optimizer_v2/rmsprop.py:130: UserWarning: The `lr` argument is deprecated, use `learning_rate` instead.\n",
            "  super(RMSprop, self).__init__(name, **kwargs)\n"
          ]
        },
        {
          "output_type": "stream",
          "name": "stdout",
          "text": [
            "[0.76553547 0.78791887 0.78483248]\n"
          ]
        }
      ]
    },
    {
      "cell_type": "markdown",
      "metadata": {
        "id": "wih9ltzbVH5F"
      },
      "source": [
        "Comment the performance of your model"
      ]
    },
    {
      "cell_type": "markdown",
      "metadata": {
        "id": "nJ59ggoxkniT"
      },
      "source": [
        "**[the performance of model be much better, using the performance; its start by Accuaracy: 0.950\n",
        "Precision: 0.000\n",
        "Recall: 0.000**\n",
        "\n",
        "**and End with [0.76553547 0.78791887 0.78483248]**\n",
        "\n",
        "**the best model is model_1 [0.81445569 0.84303349 0.83024693], but it complex and requiere a lot of times comparing by the final model]**"
      ]
    }
  ]
}